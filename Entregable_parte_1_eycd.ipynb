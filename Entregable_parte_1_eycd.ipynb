{
 "cells": [
  {
   "cell_type": "markdown",
   "id": "e0ff301b-5595-4a0b-a2b8-3d5609a0485d",
   "metadata": {
    "id": "e0ff301b-5595-4a0b-a2b8-3d5609a0485d"
   },
   "source": [
    "**Diplomatura en Ciencia de Datos, Aprendizaje Automático y sus Aplicaciones**\n",
    "\n",
    "**Exploración y Curación de Datos**\n",
    "\n",
    "*Edición 2025*\n",
    "\n",
    "----\n",
    "\n",
    "# Trabajo práctico entregable - parte 1\n",
    "\n",
    "En esta notebook, vamos a cargar el conjunto de datos de [la compentencia Kaggle](https://www.kaggle.com/dansbecker/melbourne-housing-snapshot) sobre estimación de precios de ventas de propiedades en Melbourne, Australia.\n",
    "\n",
    "Utilizaremos el conjunto de datos reducido producido por [DanB](https://www.kaggle.com/dansbecker). Hemos subido una copia a un servidor de la Universidad Nacional de Córdoba para facilitar su acceso remoto."
   ]
  },
  {
   "cell_type": "code",
   "execution_count": 4,
   "id": "f5ac98f7-51f3-4f91-ac49-60ef5fe249be",
   "metadata": {
    "id": "f5ac98f7-51f3-4f91-ac49-60ef5fe249be"
   },
   "outputs": [],
   "source": [
    "import matplotlib.pyplot as plt\n",
    "import numpy as np\n",
    "import pandas as pd\n",
    "import matplotlib.ticker as mticker\n",
    "\n",
    "import seaborn\n",
    "seaborn.set_context('talk')\n",
    "from sqlalchemy import create_engine, text"
   ]
  },
  {
   "cell_type": "code",
   "execution_count": 5,
   "id": "ce478cbd-0f49-4f15-8dc5-1fe1a5b39f17",
   "metadata": {
    "id": "ce478cbd-0f49-4f15-8dc5-1fe1a5b39f17"
   },
   "outputs": [
    {
     "data": {
      "text/plain": [
       "'6.1.0'"
      ]
     },
     "execution_count": 5,
     "metadata": {},
     "output_type": "execute_result"
    }
   ],
   "source": [
    "import plotly\n",
    "plotly.__version__"
   ]
  },
  {
   "cell_type": "code",
   "execution_count": 6,
   "id": "961ad441",
   "metadata": {},
   "outputs": [
    {
     "name": "stderr",
     "output_type": "stream",
     "text": [
      "/var/folders/9x/sk5wzh9n465bsgp0vntddj3w0000gn/T/ipykernel_41866/3089177150.py:13: DtypeWarning: Columns (35) have mixed types. Specify dtype option on import or set low_memory=False.\n",
      "  airbnb_df = pd.read_csv(\n"
     ]
    }
   ],
   "source": [
    "# # data source: Melbourne \n",
    "melb_df = pd.read_csv(\n",
    "    'https://cs.famaf.unc.edu.ar/~mteruel/datasets/diplodatos/melb_data.csv')\n",
    "\n",
    "# data source: Airbnb-Melbourne\n",
    "# https://www.kaggle.com/tylerx/melbourne-airbnb-open-data?select=cleansed_listings_dec18.csv\n",
    "interesting_cols = [\n",
    "  'description', 'neighborhood_overview',\n",
    "  'street', 'neighborhood', 'city', 'suburb', 'state', 'zipcode',\n",
    "  'price', 'weekly_price', 'monthly_price',\n",
    "  'latitude', 'longitude',\n",
    "]\n",
    "airbnb_df = pd.read_csv(\n",
    "    'https://cs.famaf.unc.edu.ar/~mteruel/datasets/diplodatos/cleansed_listings_dec18.csv',\n",
    "    usecols=interesting_cols)"
   ]
  },
  {
   "cell_type": "markdown",
   "id": "6cffe5bf-2498-498c-aa06-3e61422d91e6",
   "metadata": {
    "id": "6cffe5bf-2498-498c-aa06-3e61422d91e6"
   },
   "source": [
    "## Ejercicio 1 SQL:\n",
    "\n",
    "1. Crear una base de datos en SQLite utilizando la libreria [SQLalchemy](https://stackoverflow.com/questions/2268050/execute-sql-from-file-in-sqlalchemy).\n",
    "https://docs.sqlalchemy.org/en/14/core/engines.html#sqlite\n",
    "\n",
    "2. Ingestar los datos provistos en 'https://cs.famaf.unc.edu.ar/~mteruel/datasets/diplodatos/melb_data.csv' en una tabla y el dataset generado en clase con datos de airbnb y sus precios por codigo postal en otra.\n",
    "\n",
    "3. Validar tipos de columnas antes de guardar: df.to_sql() infiere tipos automáticamente, pero a veces los nombres de columnas como Date, Price o ID dan problemas si vienen con strings o valores nulos.\n",
    "\n",
    "4. Implementar consultas en SQL que respondan con la siguiente información:\n",
    "\n",
    "    - cantidad de registros totales por ciudad.\n",
    "    - cantidad de registros totales por barrio y ciudad.\n",
    "    - Consulta con filtro: ¿Cuántas propiedades hay por ciudad con más de 2 habitaciones?\n",
    "    - Agregación condicional: ¿Cuál es el precio promedio de propiedades según tipo (Type) y ciudad?\n",
    "    - Orden y límites: Mostrá el top 5 barrios con propiedades más caras en promedio.\n",
    "\n",
    "5. Combinar los datasets de ambas tablas ingestadas utilizando el comando JOIN de SQL  para obtener un resultado similar a lo realizado con Pandas en clase.  \n",
    "\n"
   ]
  },
  {
   "cell_type": "markdown",
   "id": "21bedd5f",
   "metadata": {},
   "source": [
    "\n",
    "# Pequena exploracion de datos de las bases melf_df, airnbnb_df\n",
    "\n",
    "Realizamos una pequena exploracion de los dataframes melf_df y airbnb_df, y entendemos que las bases de datos, mismo que puedan ser relacionadas, se encuentran con diferentes niveles de informaciones. La base melf_df es una base con nivel de informacion de precios de ventas de inmuebles de diversos barrios en la ciudad de Melbourne, Australia (entendemos que el campo 'suburb' puede ser considerado el barrio segun la siguiente pagina de referencia de https://www.melbourne.vic.gov.au/suburbs-and-neighbourhoods), mientras que la base airbnb_df tiene informacion de alquiler de diarios/semanal/mensual de diferentes ciudades Australia, incluyendo Melbourne. Tambien consideramos y entendemos que cada registro de la base puede tener un 'unique_id' para cada inmueble que puede ser considerado el campo 'Postcode', mientras que en la base airbnb_df ese campo seria 'zipcode', porque lo que podemos conectar ambas las fuentes considerando mediante estos campos. Pero como en algunas de las preguntas necesitamos responder y dar informaciones sobre cantidade de habitaciones, precio promedio de las propiedades o las propiedades mas caras, si realizamos un JOIN entre las bases vamos a terminando con informacion solamente para la ciudad de Melbourne y esto es debido a que la base airbnb generada en clase no tiene la informacion de la cantidad de habitaciones, tipo, precio de venta de inmueble, por esta razon consideramos trabajar directamente con la base melf_df, para responder las preguntas del apartado 3.\n",
    "\n",
    "Nota: Realizamos una pequena exploracion de otros columnas que estan presentes en la base de datos 'https://cs.famaf.unc.edu.ar/~mteruel/datasets/diplodatos/cleansed_listings_dec18.csv' y podemos ver que tiene informacion complementar que no fue considera en la clase como por ejemplo la cantidad de habitaciones, banos, etc. Por exemplo:\n",
    "\n",
    "['id', 'listing_url', 'scrape_id', 'last_scraped', 'name', 'summary', 'space', 'description', 'neighborhood_overview', 'notes', 'transit', 'access', 'interaction', 'house_rules', 'picture_url', 'host_id', 'host_url', 'host_name', 'host_since', 'host_location', 'host_about', 'host_response_time', 'host_response_rate', 'host_is_superhost', 'host_thumbnail_url', 'host_picture_url', 'host_neighborhood', 'host_verifications', 'host_has_profile_pic', 'host_identity_verified', 'street', 'neighborhood', 'city', 'suburb', 'state', 'zipcode','smart_location', 'country_code', 'country', 'latitude', 'longitude', 'is_location_exact', 'property_type', 'room_type', 'accommodates', 'bathrooms', 'bedrooms', 'beds', 'bed_type', 'amenities', 'price', 'weekly_price', 'monthly_price', 'security_deposit', 'cleaning_fee', 'guests_included', 'extra_people', 'minimum_nights', 'maximum_nights', 'calendar_updated', 'has_availability', 'availability_30', 'availability_60', 'availability_90', 'availability_365', 'calendar_last_scraped', 'number_of_reviews', 'first_review', 'last_review', 'review_scores_rating', 'review_scores_accuracy', 'review_scores_cleanliness', 'review_scores_checkin', 'review_scores_communication', 'review_scores_location', 'review_scores_value', 'requires_license', 'license', 'instant_bookable', 'cancellation_policy', 'require_guest_profile_picture', 'require_guest_phone_verification', 'calculated_host_listings_count', 'reviews_per_month']\n"
   ]
  },
  {
   "cell_type": "markdown",
   "id": "55c5bd2e",
   "metadata": {},
   "source": [
    "# Creacion de Base de datos e ingesta"
   ]
  },
  {
   "cell_type": "code",
   "execution_count": 7,
   "id": "c3810b56",
   "metadata": {},
   "outputs": [],
   "source": [
    "engine = create_engine(\"sqlite:///melbourne.db\", echo=True)\n",
    "\n",
    "# Working data for the analysis\n",
    "airbnb_df['zipcode'] = pd.to_numeric(airbnb_df.zipcode, errors='coerce')\n",
    "airbnb_df['zipcode_int'] = airbnb_df.zipcode.fillna(0).astype('int') # Convertimos la columna zipcode a int y renombramos la columna para no perder la original\n",
    "melb_df['Postcode'] = pd.to_numeric(melb_df.Postcode, errors='coerce')\n",
    "melb_df['Postcode_int'] = melb_df.Postcode.fillna(0).astype('int') # Convertimos la columna Postcode a int y renombramos la columna para no perder la original\n",
    "airbnb_df['weekly_price_calculate'] = airbnb_df.apply(lambda row: row['price']*7. if pd.isnull(row['weekly_price']) else row['weekly_price'], axis=1) # Realizamos el calculo de weekly_price considerando price*7dias\n",
    "airbnb_df['monthly_price_calculate'] = airbnb_df.apply(lambda row: row['price']*30. if pd.isnull(row['monthly_price']) else row['monthly_price'], axis=1) # Realizamos el calculo de weekly_price considerando price*30dias\n",
    "melb_df['Date'] = pd.to_datetime(melb_df['Date'], errors='coerce') # Convertimos la columna Date a datetime\n",
    "melb_df['Bedroom2'] = melb_df['Bedroom2'].fillna(0).astype('int') # Convertimos la columna Bedroom2 a int\n",
    "melb_df['Bathroom'] = melb_df['Bathroom'].fillna(0).astype('int') # Convertimos la columna Bathroom a int\n",
    "melb_df['Car'] = melb_df['Car'].fillna(0).astype('int') # Convertimos la columna Car a int"
   ]
  },
  {
   "cell_type": "code",
   "execution_count": 8,
   "id": "5f6bb69b",
   "metadata": {},
   "outputs": [
    {
     "name": "stdout",
     "output_type": "stream",
     "text": [
      "<class 'pandas.core.frame.DataFrame'>\n",
      "RangeIndex: 13580 entries, 0 to 13579\n",
      "Data columns (total 22 columns):\n",
      " #   Column         Non-Null Count  Dtype         \n",
      "---  ------         --------------  -----         \n",
      " 0   Suburb         13580 non-null  object        \n",
      " 1   Address        13580 non-null  object        \n",
      " 2   Rooms          13580 non-null  int64         \n",
      " 3   Type           13580 non-null  object        \n",
      " 4   Price          13580 non-null  float64       \n",
      " 5   Method         13580 non-null  object        \n",
      " 6   SellerG        13580 non-null  object        \n",
      " 7   Date           5138 non-null   datetime64[ns]\n",
      " 8   Distance       13580 non-null  float64       \n",
      " 9   Postcode       13580 non-null  float64       \n",
      " 10  Bedroom2       13580 non-null  int64         \n",
      " 11  Bathroom       13580 non-null  int64         \n",
      " 12  Car            13580 non-null  int64         \n",
      " 13  Landsize       13580 non-null  float64       \n",
      " 14  BuildingArea   7130 non-null   float64       \n",
      " 15  YearBuilt      8205 non-null   float64       \n",
      " 16  CouncilArea    12211 non-null  object        \n",
      " 17  Lattitude      13580 non-null  float64       \n",
      " 18  Longtitude     13580 non-null  float64       \n",
      " 19  Regionname     13580 non-null  object        \n",
      " 20  Propertycount  13580 non-null  float64       \n",
      " 21  Postcode_int   13580 non-null  int64         \n",
      "dtypes: datetime64[ns](1), float64(9), int64(5), object(7)\n",
      "memory usage: 2.3+ MB\n"
     ]
    }
   ],
   "source": [
    "melb_df.info()"
   ]
  },
  {
   "cell_type": "code",
   "execution_count": 9,
   "id": "64122896",
   "metadata": {},
   "outputs": [
    {
     "name": "stdout",
     "output_type": "stream",
     "text": [
      "<class 'pandas.core.frame.DataFrame'>\n",
      "RangeIndex: 22895 entries, 0 to 22894\n",
      "Data columns (total 16 columns):\n",
      " #   Column                   Non-Null Count  Dtype  \n",
      "---  ------                   --------------  -----  \n",
      " 0   description              22563 non-null  object \n",
      " 1   neighborhood_overview    14424 non-null  object \n",
      " 2   street                   22895 non-null  object \n",
      " 3   neighborhood             17082 non-null  object \n",
      " 4   city                     22895 non-null  object \n",
      " 5   suburb                   22872 non-null  object \n",
      " 6   state                    22834 non-null  object \n",
      " 7   zipcode                  22749 non-null  float64\n",
      " 8   latitude                 22895 non-null  float64\n",
      " 9   longitude                22895 non-null  float64\n",
      " 10  price                    22895 non-null  int64  \n",
      " 11  weekly_price             2524 non-null   float64\n",
      " 12  monthly_price            1891 non-null   float64\n",
      " 13  zipcode_int              22895 non-null  int64  \n",
      " 14  weekly_price_calculate   22895 non-null  float64\n",
      " 15  monthly_price_calculate  22895 non-null  float64\n",
      "dtypes: float64(7), int64(2), object(7)\n",
      "memory usage: 2.8+ MB\n"
     ]
    }
   ],
   "source": [
    "airbnb_df.info()"
   ]
  },
  {
   "cell_type": "code",
   "execution_count": 10,
   "id": "a2c1c672",
   "metadata": {},
   "outputs": [
    {
     "name": "stdout",
     "output_type": "stream",
     "text": [
      "2025-05-26 21:19:36,160 INFO sqlalchemy.engine.Engine BEGIN (implicit)\n",
      "2025-05-26 21:19:36,170 INFO sqlalchemy.engine.Engine PRAGMA main.table_info(\"melb\")\n",
      "2025-05-26 21:19:36,171 INFO sqlalchemy.engine.Engine [raw sql] ()\n",
      "2025-05-26 21:19:36,172 INFO sqlalchemy.engine.Engine PRAGMA main.table_info(\"melb\")\n",
      "2025-05-26 21:19:36,172 INFO sqlalchemy.engine.Engine [raw sql] ()\n",
      "2025-05-26 21:19:36,173 INFO sqlalchemy.engine.Engine SELECT name FROM sqlite_master WHERE type='table' AND name NOT LIKE 'sqlite~_%' ESCAPE '~' ORDER BY name\n",
      "2025-05-26 21:19:36,173 INFO sqlalchemy.engine.Engine [raw sql] ()\n",
      "2025-05-26 21:19:36,174 INFO sqlalchemy.engine.Engine SELECT name FROM sqlite_temp_master WHERE type='table' AND name NOT LIKE 'sqlite~_%' ESCAPE '~' ORDER BY name\n",
      "2025-05-26 21:19:36,176 INFO sqlalchemy.engine.Engine [raw sql] ()\n",
      "2025-05-26 21:19:36,176 INFO sqlalchemy.engine.Engine PRAGMA main.table_xinfo(\"melb\")\n",
      "2025-05-26 21:19:36,176 INFO sqlalchemy.engine.Engine [raw sql] ()\n",
      "2025-05-26 21:19:36,177 INFO sqlalchemy.engine.Engine SELECT sql FROM  (SELECT * FROM sqlite_master UNION ALL   SELECT * FROM sqlite_temp_master) WHERE name = ? AND type in ('table', 'view')\n",
      "2025-05-26 21:19:36,177 INFO sqlalchemy.engine.Engine [raw sql] ('melb',)\n",
      "2025-05-26 21:19:36,178 INFO sqlalchemy.engine.Engine PRAGMA main.foreign_key_list(\"melb\")\n",
      "2025-05-26 21:19:36,178 INFO sqlalchemy.engine.Engine [raw sql] ()\n",
      "2025-05-26 21:19:36,179 INFO sqlalchemy.engine.Engine PRAGMA temp.foreign_key_list(\"melb\")\n",
      "2025-05-26 21:19:36,179 INFO sqlalchemy.engine.Engine [raw sql] ()\n",
      "2025-05-26 21:19:36,179 INFO sqlalchemy.engine.Engine SELECT sql FROM  (SELECT * FROM sqlite_master UNION ALL   SELECT * FROM sqlite_temp_master) WHERE name = ? AND type in ('table', 'view')\n",
      "2025-05-26 21:19:36,179 INFO sqlalchemy.engine.Engine [raw sql] ('melb',)\n",
      "2025-05-26 21:19:36,180 INFO sqlalchemy.engine.Engine PRAGMA main.index_list(\"melb\")\n",
      "2025-05-26 21:19:36,181 INFO sqlalchemy.engine.Engine [raw sql] ()\n",
      "2025-05-26 21:19:36,181 INFO sqlalchemy.engine.Engine PRAGMA temp.index_list(\"melb\")\n",
      "2025-05-26 21:19:36,181 INFO sqlalchemy.engine.Engine [raw sql] ()\n",
      "2025-05-26 21:19:36,182 INFO sqlalchemy.engine.Engine PRAGMA main.table_info(\"melb\")\n",
      "2025-05-26 21:19:36,182 INFO sqlalchemy.engine.Engine [raw sql] ()\n",
      "2025-05-26 21:19:36,182 INFO sqlalchemy.engine.Engine PRAGMA main.index_list(\"melb\")\n",
      "2025-05-26 21:19:36,183 INFO sqlalchemy.engine.Engine [raw sql] ()\n",
      "2025-05-26 21:19:36,183 INFO sqlalchemy.engine.Engine PRAGMA temp.index_list(\"melb\")\n",
      "2025-05-26 21:19:36,183 INFO sqlalchemy.engine.Engine [raw sql] ()\n",
      "2025-05-26 21:19:36,183 INFO sqlalchemy.engine.Engine PRAGMA main.table_info(\"melb\")\n",
      "2025-05-26 21:19:36,184 INFO sqlalchemy.engine.Engine [raw sql] ()\n",
      "2025-05-26 21:19:36,184 INFO sqlalchemy.engine.Engine SELECT sql FROM  (SELECT * FROM sqlite_master UNION ALL   SELECT * FROM sqlite_temp_master) WHERE name = ? AND type in ('table', 'view')\n",
      "2025-05-26 21:19:36,184 INFO sqlalchemy.engine.Engine [raw sql] ('melb',)\n",
      "2025-05-26 21:19:36,186 INFO sqlalchemy.engine.Engine \n",
      "DROP TABLE melb\n",
      "2025-05-26 21:19:36,187 INFO sqlalchemy.engine.Engine [no key 0.00023s] ()\n",
      "2025-05-26 21:19:36,193 INFO sqlalchemy.engine.Engine \n",
      "CREATE TABLE melb (\n",
      "\t\"Suburb\" TEXT, \n",
      "\t\"Address\" TEXT, \n",
      "\t\"Rooms\" BIGINT, \n",
      "\t\"Type\" TEXT, \n",
      "\t\"Price\" FLOAT, \n",
      "\t\"Method\" TEXT, \n",
      "\t\"SellerG\" TEXT, \n",
      "\t\"Date\" DATETIME, \n",
      "\t\"Distance\" FLOAT, \n",
      "\t\"Postcode\" FLOAT, \n",
      "\t\"Bedroom2\" BIGINT, \n",
      "\t\"Bathroom\" BIGINT, \n",
      "\t\"Car\" BIGINT, \n",
      "\t\"Landsize\" FLOAT, \n",
      "\t\"BuildingArea\" FLOAT, \n",
      "\t\"YearBuilt\" FLOAT, \n",
      "\t\"CouncilArea\" TEXT, \n",
      "\t\"Lattitude\" FLOAT, \n",
      "\t\"Longtitude\" FLOAT, \n",
      "\t\"Regionname\" TEXT, \n",
      "\t\"Propertycount\" FLOAT, \n",
      "\t\"Postcode_int\" BIGINT\n",
      ")\n",
      "\n",
      "\n",
      "2025-05-26 21:19:36,193 INFO sqlalchemy.engine.Engine [no key 0.00040s] ()\n",
      "2025-05-26 21:19:36,341 INFO sqlalchemy.engine.Engine INSERT INTO melb (\"Suburb\", \"Address\", \"Rooms\", \"Type\", \"Price\", \"Method\", \"SellerG\", \"Date\", \"Distance\", \"Postcode\", \"Bedroom2\", \"Bathroom\", \"Car\", \"Landsize\", \"BuildingArea\", \"YearBuilt\", \"CouncilArea\", \"Lattitude\", \"Longtitude\", \"Regionname\", \"Propertycount\", \"Postcode_int\") VALUES (?, ?, ?, ?, ?, ?, ?, ?, ?, ?, ?, ?, ?, ?, ?, ?, ?, ?, ?, ?, ?, ?)\n",
      "2025-05-26 21:19:36,342 INFO sqlalchemy.engine.Engine [generated in 0.12094s] [('Abbotsford', '85 Turner St', 2, 'h', 1480000.0, 'S', 'Biggin', '2016-03-12 00:00:00.000000', 2.5, 3067.0, 2, 1, 1, 202.0, None, None, 'Yarra', -37.7996, 144.9984, 'Northern Metropolitan', 4019.0, 3067), ('Abbotsford', '25 Bloomburg St', 2, 'h', 1035000.0, 'S', 'Biggin', '2016-04-02 00:00:00.000000', 2.5, 3067.0, 2, 1, 0, 156.0, 79.0, 1900.0, 'Yarra', -37.8079, 144.9934, 'Northern Metropolitan', 4019.0, 3067), ('Abbotsford', '5 Charles St', 3, 'h', 1465000.0, 'SP', 'Biggin', '2017-04-03 00:00:00.000000', 2.5, 3067.0, 3, 2, 0, 134.0, 150.0, 1900.0, 'Yarra', -37.8093, 144.9944, 'Northern Metropolitan', 4019.0, 3067), ('Abbotsford', '40 Federation La', 3, 'h', 850000.0, 'PI', 'Biggin', '2017-04-03 00:00:00.000000', 2.5, 3067.0, 3, 2, 1, 94.0, None, None, 'Yarra', -37.7969, 144.9969, 'Northern Metropolitan', 4019.0, 3067), ('Abbotsford', '55a Park St', 4, 'h', 1600000.0, 'VB', 'Nelson', '2016-04-06 00:00:00.000000', 2.5, 3067.0, 3, 1, 2, 120.0, 142.0, 2014.0, 'Yarra', -37.8072, 144.9941, 'Northern Metropolitan', 4019.0, 3067), ('Abbotsford', '129 Charles St', 2, 'h', 941000.0, 'S', 'Jellis', '2016-07-05 00:00:00.000000', 2.5, 3067.0, 2, 1, 0, 181.0, None, None, 'Yarra', -37.8041, 144.9953, 'Northern Metropolitan', 4019.0, 3067), ('Abbotsford', '124 Yarra St', 3, 'h', 1876000.0, 'S', 'Nelson', '2016-07-05 00:00:00.000000', 2.5, 3067.0, 4, 2, 0, 245.0, 210.0, 1910.0, 'Yarra', -37.8024, 144.9993, 'Northern Metropolitan', 4019.0, 3067), ('Abbotsford', '98 Charles St', 2, 'h', 1636000.0, 'S', 'Nelson', '2016-08-10 00:00:00.000000', 2.5, 3067.0, 2, 1, 2, 256.0, 107.0, 1890.0, 'Yarra', -37.806, 144.9954, 'Northern Metropolitan', 4019.0, 3067)  ... displaying 10 of 13580 total bound parameter sets ...  ('Williamstown', '96 Verdon St', 4, 'h', 2500000.0, 'PI', 'Sweeney', None, 6.8, 3016.0, 4, 1, 5, 866.0, 157.0, 1920.0, None, -37.85908, 144.89299, 'Western Metropolitan', 6380.0, 3016), ('Yarraville', '6 Agnes St', 4, 'h', 1285000.0, 'SP', 'Village', None, 6.3, 3013.0, 4, 1, 1, 362.0, 112.0, 1920.0, None, -37.81188, 144.88449, 'Western Metropolitan', 6543.0, 3013)]\n",
      "2025-05-26 21:19:36,374 INFO sqlalchemy.engine.Engine COMMIT\n"
     ]
    },
    {
     "data": {
      "text/plain": [
       "13580"
      ]
     },
     "execution_count": 10,
     "metadata": {},
     "output_type": "execute_result"
    }
   ],
   "source": [
    "# Create a table 'melb' in the SQLite database\n",
    "melb_df.to_sql('melb', con=engine, if_exists='replace', index=False)"
   ]
  },
  {
   "cell_type": "code",
   "execution_count": 11,
   "id": "8d2e14fb",
   "metadata": {},
   "outputs": [
    {
     "name": "stdout",
     "output_type": "stream",
     "text": [
      "2025-05-26 21:20:06,636 INFO sqlalchemy.engine.Engine BEGIN (implicit)\n",
      "2025-05-26 21:20:06,663 INFO sqlalchemy.engine.Engine PRAGMA main.table_info(\"airbnb\")\n",
      "2025-05-26 21:20:06,664 INFO sqlalchemy.engine.Engine [raw sql] ()\n",
      "2025-05-26 21:20:06,664 INFO sqlalchemy.engine.Engine PRAGMA main.table_info(\"airbnb\")\n",
      "2025-05-26 21:20:06,665 INFO sqlalchemy.engine.Engine [raw sql] ()\n",
      "2025-05-26 21:20:06,665 INFO sqlalchemy.engine.Engine SELECT name FROM sqlite_master WHERE type='table' AND name NOT LIKE 'sqlite~_%' ESCAPE '~' ORDER BY name\n",
      "2025-05-26 21:20:06,665 INFO sqlalchemy.engine.Engine [raw sql] ()\n",
      "2025-05-26 21:20:06,666 INFO sqlalchemy.engine.Engine SELECT name FROM sqlite_temp_master WHERE type='table' AND name NOT LIKE 'sqlite~_%' ESCAPE '~' ORDER BY name\n",
      "2025-05-26 21:20:06,666 INFO sqlalchemy.engine.Engine [raw sql] ()\n",
      "2025-05-26 21:20:06,666 INFO sqlalchemy.engine.Engine PRAGMA main.table_xinfo(\"airbnb\")\n",
      "2025-05-26 21:20:06,667 INFO sqlalchemy.engine.Engine [raw sql] ()\n",
      "2025-05-26 21:20:06,667 INFO sqlalchemy.engine.Engine SELECT sql FROM  (SELECT * FROM sqlite_master UNION ALL   SELECT * FROM sqlite_temp_master) WHERE name = ? AND type in ('table', 'view')\n",
      "2025-05-26 21:20:06,668 INFO sqlalchemy.engine.Engine [raw sql] ('airbnb',)\n",
      "2025-05-26 21:20:06,668 INFO sqlalchemy.engine.Engine PRAGMA main.foreign_key_list(\"airbnb\")\n",
      "2025-05-26 21:20:06,668 INFO sqlalchemy.engine.Engine [raw sql] ()\n",
      "2025-05-26 21:20:06,669 INFO sqlalchemy.engine.Engine PRAGMA temp.foreign_key_list(\"airbnb\")\n",
      "2025-05-26 21:20:06,669 INFO sqlalchemy.engine.Engine [raw sql] ()\n",
      "2025-05-26 21:20:06,669 INFO sqlalchemy.engine.Engine SELECT sql FROM  (SELECT * FROM sqlite_master UNION ALL   SELECT * FROM sqlite_temp_master) WHERE name = ? AND type in ('table', 'view')\n",
      "2025-05-26 21:20:06,669 INFO sqlalchemy.engine.Engine [raw sql] ('airbnb',)\n",
      "2025-05-26 21:20:06,670 INFO sqlalchemy.engine.Engine PRAGMA main.index_list(\"airbnb\")\n",
      "2025-05-26 21:20:06,670 INFO sqlalchemy.engine.Engine [raw sql] ()\n",
      "2025-05-26 21:20:06,671 INFO sqlalchemy.engine.Engine PRAGMA temp.index_list(\"airbnb\")\n",
      "2025-05-26 21:20:06,671 INFO sqlalchemy.engine.Engine [raw sql] ()\n",
      "2025-05-26 21:20:06,671 INFO sqlalchemy.engine.Engine PRAGMA main.table_info(\"airbnb\")\n",
      "2025-05-26 21:20:06,672 INFO sqlalchemy.engine.Engine [raw sql] ()\n",
      "2025-05-26 21:20:06,672 INFO sqlalchemy.engine.Engine PRAGMA main.index_list(\"airbnb\")\n",
      "2025-05-26 21:20:06,672 INFO sqlalchemy.engine.Engine [raw sql] ()\n",
      "2025-05-26 21:20:06,672 INFO sqlalchemy.engine.Engine PRAGMA temp.index_list(\"airbnb\")\n",
      "2025-05-26 21:20:06,673 INFO sqlalchemy.engine.Engine [raw sql] ()\n",
      "2025-05-26 21:20:06,673 INFO sqlalchemy.engine.Engine PRAGMA main.table_info(\"airbnb\")\n",
      "2025-05-26 21:20:06,673 INFO sqlalchemy.engine.Engine [raw sql] ()\n",
      "2025-05-26 21:20:06,674 INFO sqlalchemy.engine.Engine SELECT sql FROM  (SELECT * FROM sqlite_master UNION ALL   SELECT * FROM sqlite_temp_master) WHERE name = ? AND type in ('table', 'view')\n",
      "2025-05-26 21:20:06,674 INFO sqlalchemy.engine.Engine [raw sql] ('airbnb',)\n",
      "2025-05-26 21:20:06,676 INFO sqlalchemy.engine.Engine \n",
      "DROP TABLE airbnb\n",
      "2025-05-26 21:20:06,676 INFO sqlalchemy.engine.Engine [no key 0.00027s] ()\n",
      "2025-05-26 21:20:06,714 INFO sqlalchemy.engine.Engine \n",
      "CREATE TABLE airbnb (\n",
      "\tdescription TEXT, \n",
      "\tneighborhood_overview TEXT, \n",
      "\tstreet TEXT, \n",
      "\tneighborhood TEXT, \n",
      "\tcity TEXT, \n",
      "\tsuburb TEXT, \n",
      "\tstate TEXT, \n",
      "\tzipcode FLOAT, \n",
      "\tlatitude FLOAT, \n",
      "\tlongitude FLOAT, \n",
      "\tprice BIGINT, \n",
      "\tweekly_price FLOAT, \n",
      "\tmonthly_price FLOAT, \n",
      "\tzipcode_int BIGINT, \n",
      "\tweekly_price_calculate FLOAT, \n",
      "\tmonthly_price_calculate FLOAT\n",
      ")\n",
      "\n",
      "\n",
      "2025-05-26 21:20:06,714 INFO sqlalchemy.engine.Engine [no key 0.00038s] ()\n",
      "2025-05-26 21:20:06,839 INFO sqlalchemy.engine.Engine INSERT INTO airbnb (description, neighborhood_overview, street, neighborhood, city, suburb, state, zipcode, latitude, longitude, price, weekly_price, monthly_price, zipcode_int, weekly_price_calculate, monthly_price_calculate) VALUES (?, ?, ?, ?, ?, ?, ?, ?, ?, ?, ?, ?, ?, ?, ?, ?)\n",
      "2025-05-26 21:20:06,840 INFO sqlalchemy.engine.Engine [generated in 0.09177s] [('House: Clean, New, Modern, Quite, Safe. 10Km from the City. Golf course, Tennis courts, bus stop & shops walking distance!! Rooms: Contains one queen ... (702 characters truncated) ... pproximately what your daily in and out hours might look like.  Note: There is a 5 year old fun loving dog who lives with us and is part of our famil', 'Very safe! Family oriented. Older age group.', 'Bulleen, VIC, Australia', 'Balwyn North', 'Manningham', 'Bulleen', 'VIC', 3105.0, -37.77268393, 145.0921328, 60, None, None, 3105, 420.0, 1800.0), (\"A large air conditioned room with queen spring mattress bed in a vintage apartment. Located right outside is a tram to the city just 19 minutes away. ... (702 characters truncated) ... ou east to Bundoora and west to Pacoevale. The Lygon Street tram line that goes past Melbourne University is 10 minutes walk west and Sydney Road and\", \"This hip area is a crossroads between two great cultural strips of inner Northern Melbourne.  Located in East Brunswick, between High St, Northcote a ... (533 characters truncated) ... re three coffee places within 50metres, and the Lomond Hotel Pub right across the road has good live music and there's also a pizza place downstairs.\", 'Brunswick East, VIC, Australia', 'Brunswick', 'Moreland', 'Brunswick East', 'VIC', 3057.0, -37.76650512, 144.9807361, 35, 200.0, 803.0, 3057, 200.0, 803.0), ('RIGHT IN THE HEART OF ST KILDA! It doesn\\'t get more central than this! A fabulous north facing balcony apartment that offers right in the heart of t ... (703 characters truncated) ... system with iPod dock & DVD/CD player Selection of books, magazines, DVDs, CDs Glass framed console/desk with lamp Bedroom with queen bed, hotel qual', 'A stay at our apartment means you can enjoy some of Melbourne’s best restaurants, bars, cafes, shopping, dining and night life, all at your doorstep. ... (288 characters truncated) ... ith the city skyline as a stunning backdrop. Our apartment is perfectly suited to those wanting an exclusive, authentic urban residential experience.', 'St Kilda, VIC, Australia', 'St Kilda', 'Port Phillip', 'St Kilda', 'VIC', 3182.0, -37.85975502, 144.9773691, 159, 1253.0, 4452.0, 3182, 1253.0, 4452.0), (\"Comfortable, relaxed house, a home away from  home! This is a shared house, you will be sharing with me, plus the occasional other guest. Rooms are l ... (702 characters truncated) ... om, watch a movie, or TV, or relax in the back yard. Guest's privacy will be respected at all times. If you need information and tips on where to go,\", 'This is a great neighbourhood – it is quiet, yet close to so many things. High Street, Northcote (hip bars, cafes and craft stores) are a 10 minute walk east; Sydney Road (ethnic delights and great food) is 8 minute drive west; city is 30 minutes by tram or train.', 'Thornbury, VIC, Australia', 'Thornbury', 'Darebin', 'Thornbury', 'VIC', 3071.0, -37.75897072, 144.9892279, 50, 250.0, 920.0, 3071, 250.0, 920.0), ('We offer comfortable accommodation in Inner Melbourne in Clement House, a two storey Victorian built in 1888. Large double bedroom with balcony, priv ... (660 characters truncated) ... n smoking house with an outside courtyard for smokers. The rate for guests that stay for a week are heavily discounted and therefore very attractive.', None, 'St Kilda East, VIC, Australia', 'St Kilda East', 'Port Phillip', 'St Kilda East', 'VIC', 3183.0, -37.8645303, 144.9922379, 69, 400.0, 1900.0, 3183, 400.0, 1900.0), ('Please note: No booking will be accepted with children under the age of 13 years.  Accommodation is non smoking in apartment & on grounds.  All visit ... (702 characters truncated) ... om, toilet & living area with stereo and 32\" LCD TV. A second bedroom (Autumn Room) is available with another Queen size bed for extra travelers if r', 'Our street is quiet & secluded but within walking distance to almost anything you need.', 'Berwick, VIC, Australia', None, 'Casey', 'Berwick', 'VIC', 3806.0, -38.05725414, 145.3393561, 98, 540.0, None, 3806, 540.0, 2940.0), ('Easy to travel from and to the Airport; quiet and safe neighbourhood; a spacious and sunny room; backyard for sun baking; a friendly host who are eas ... (702 characters truncated) ... ovided here for your comfort is in a two bedroom unit with 100sqm backyard(my green garden). This bedroom is airy and bright with big windows. Your r', \"The neighbours are quiet and friendly,  please don't park the car on my driveway because one of our neighbours is doing shifting work as a nurse. There are plenty of space for parking in the guest parking bay and along the street for free.\", 'Reservoir, VIC, Australia', None, 'Darebin', 'Reservoir', 'VIC', 3073.0, -37.69729418, 145.0008156, 50, 335.0, 1400.0, 3073, 335.0, 1400.0), (\"Comfortable and spacious room in an apartment close to the heart of Melbourne. High quality bedding and good sound proofing guarantees a good night's ... (702 characters truncated) ... take you right into the CBD, via Lonsdale Street and to Grattan Street, Melbourne University Tram 112 onto Collins Street Jolimont train station (10m\", \"MCG (15min walk) Rod Laver Arena Fitzroy Gardens Smith Street restaurants and bars (10min walk) Melbourne CBD  Parliament House St Vincent's Hospital (12min walk) The Royal Eye and Ear Hospital (11min walk) Keeping active while away: Pool Gym East Melbourne Tennis Club  Fitzroy Gardens\", 'East Melbourne, VIC, Australia', None, 'Melbourne', 'East Melbourne', 'VIC', 3002.0, -37.81026723, 144.98592, 100, None, None, 3002, 700.0, 3000.0)  ... displaying 10 of 22895 total bound parameter sets ...  (\"Immaculately presented and carefully maintained executive courtyard apartment, well spaced floor plan comprises a queen-sized bedroom with large mirr ... (702 characters truncated) ... Melbourne Exhibition and Convention Centres, (The Yarra's) Southbank Promenade (boasting an array of cafes, bars, restaurants and boutiques), The Cro\", \"A plethora of Melbourne highlights are just a few minutes walk away, including Melbourne Exhibition and Convention Centres, (The Yarra's) Southbank P ... (68 characters truncated) ... s), The Crown Casino Complex (offering a further array of dining, shopping and entertainment facilities), Clarendon Street South Melbourne's shopping\", 'Southbank, VIC, Australia', 'Southbank', 'Melbourne', 'Southbank', 'VIC', 3006.0, -37.8277951, 144.9549869, 130, None, None, 3006, 910.0, 3900.0), (\"An ENTIRE apartment unit ALL TO YOURSELF in Melbourne city, only a 5min walk to Melbourne Central and Queen Victoria Markets. Makes this cozy inner-c ... (702 characters truncated) ... s fully equipped and furnished  home is ready to go with: - Air Conditioning & heating  - Wireless internet (Pocket Wi-Fi) BEDROOM  - Queen sized bed\", None, 'Carlton, VIC, Australia', 'Carlton', 'Melbourne', 'Carlton', 'VIC', 3053.0, -37.80518635, 144.9623991, 179, None, None, 3053, 1253.0, 5370.0)]\n",
      "2025-05-26 21:20:06,955 INFO sqlalchemy.engine.Engine COMMIT\n"
     ]
    },
    {
     "data": {
      "text/plain": [
       "22895"
      ]
     },
     "execution_count": 11,
     "metadata": {},
     "output_type": "execute_result"
    }
   ],
   "source": [
    "# Create a table 'airbnb' in the SQLite database and insert the data\n",
    "airbnb_df.to_sql('airbnb', con=engine, if_exists='replace', index=False)"
   ]
  },
  {
   "cell_type": "markdown",
   "id": "3ae57f11",
   "metadata": {},
   "source": [
    "- Nota: \n",
    "Vimos que los datos cuando fueron guardados en la base de datos SQLite usando a estrutura interna de Pandas, algunos campos como 'Date', 'Bathroom2', 'Car', 'Bathroom' fueron en formatos que no fueron especificados. Por esa realizamos algunas modificaciones previamente en esos campos para poder guardarlos en un formato mas apto para cada campo. Tambien, pudimos observar en la documentacion de pandas que existe una parametro (dtype={'name_column1':Integer(), 'name_column2':Float(),.....}) que puede ser pasado en el momento de guardar los datos especificando los formatos de cada campo."
   ]
  },
  {
   "cell_type": "code",
   "execution_count": 16,
   "id": "186fefd7",
   "metadata": {},
   "outputs": [
    {
     "name": "stdout",
     "output_type": "stream",
     "text": [
      "2025-05-26 21:24:56,121 INFO sqlalchemy.engine.Engine BEGIN (implicit)\n",
      "2025-05-26 21:24:56,123 INFO sqlalchemy.engine.Engine PRAGMA table_info('melb')\n",
      "2025-05-26 21:24:56,125 INFO sqlalchemy.engine.Engine [cached since 171.5s ago] ()\n",
      "2025-05-26 21:24:56,137 INFO sqlalchemy.engine.Engine ROLLBACK\n"
     ]
    },
    {
     "data": {
      "text/html": [
       "<div>\n",
       "<style scoped>\n",
       "    .dataframe tbody tr th:only-of-type {\n",
       "        vertical-align: middle;\n",
       "    }\n",
       "\n",
       "    .dataframe tbody tr th {\n",
       "        vertical-align: top;\n",
       "    }\n",
       "\n",
       "    .dataframe thead th {\n",
       "        text-align: right;\n",
       "    }\n",
       "</style>\n",
       "<table border=\"1\" class=\"dataframe\">\n",
       "  <thead>\n",
       "    <tr style=\"text-align: right;\">\n",
       "      <th></th>\n",
       "      <th>name</th>\n",
       "      <th>type</th>\n",
       "    </tr>\n",
       "  </thead>\n",
       "  <tbody>\n",
       "    <tr>\n",
       "      <th>0</th>\n",
       "      <td>Suburb</td>\n",
       "      <td>TEXT</td>\n",
       "    </tr>\n",
       "    <tr>\n",
       "      <th>1</th>\n",
       "      <td>Address</td>\n",
       "      <td>TEXT</td>\n",
       "    </tr>\n",
       "    <tr>\n",
       "      <th>2</th>\n",
       "      <td>Rooms</td>\n",
       "      <td>BIGINT</td>\n",
       "    </tr>\n",
       "    <tr>\n",
       "      <th>3</th>\n",
       "      <td>Type</td>\n",
       "      <td>TEXT</td>\n",
       "    </tr>\n",
       "    <tr>\n",
       "      <th>4</th>\n",
       "      <td>Price</td>\n",
       "      <td>FLOAT</td>\n",
       "    </tr>\n",
       "    <tr>\n",
       "      <th>5</th>\n",
       "      <td>Method</td>\n",
       "      <td>TEXT</td>\n",
       "    </tr>\n",
       "    <tr>\n",
       "      <th>6</th>\n",
       "      <td>SellerG</td>\n",
       "      <td>TEXT</td>\n",
       "    </tr>\n",
       "    <tr>\n",
       "      <th>7</th>\n",
       "      <td>Date</td>\n",
       "      <td>DATETIME</td>\n",
       "    </tr>\n",
       "    <tr>\n",
       "      <th>8</th>\n",
       "      <td>Distance</td>\n",
       "      <td>FLOAT</td>\n",
       "    </tr>\n",
       "    <tr>\n",
       "      <th>9</th>\n",
       "      <td>Postcode</td>\n",
       "      <td>FLOAT</td>\n",
       "    </tr>\n",
       "    <tr>\n",
       "      <th>10</th>\n",
       "      <td>Bedroom2</td>\n",
       "      <td>BIGINT</td>\n",
       "    </tr>\n",
       "    <tr>\n",
       "      <th>11</th>\n",
       "      <td>Bathroom</td>\n",
       "      <td>BIGINT</td>\n",
       "    </tr>\n",
       "    <tr>\n",
       "      <th>12</th>\n",
       "      <td>Car</td>\n",
       "      <td>BIGINT</td>\n",
       "    </tr>\n",
       "    <tr>\n",
       "      <th>13</th>\n",
       "      <td>Landsize</td>\n",
       "      <td>FLOAT</td>\n",
       "    </tr>\n",
       "    <tr>\n",
       "      <th>14</th>\n",
       "      <td>BuildingArea</td>\n",
       "      <td>FLOAT</td>\n",
       "    </tr>\n",
       "    <tr>\n",
       "      <th>15</th>\n",
       "      <td>YearBuilt</td>\n",
       "      <td>FLOAT</td>\n",
       "    </tr>\n",
       "    <tr>\n",
       "      <th>16</th>\n",
       "      <td>CouncilArea</td>\n",
       "      <td>TEXT</td>\n",
       "    </tr>\n",
       "    <tr>\n",
       "      <th>17</th>\n",
       "      <td>Lattitude</td>\n",
       "      <td>FLOAT</td>\n",
       "    </tr>\n",
       "    <tr>\n",
       "      <th>18</th>\n",
       "      <td>Longtitude</td>\n",
       "      <td>FLOAT</td>\n",
       "    </tr>\n",
       "    <tr>\n",
       "      <th>19</th>\n",
       "      <td>Regionname</td>\n",
       "      <td>TEXT</td>\n",
       "    </tr>\n",
       "    <tr>\n",
       "      <th>20</th>\n",
       "      <td>Propertycount</td>\n",
       "      <td>FLOAT</td>\n",
       "    </tr>\n",
       "    <tr>\n",
       "      <th>21</th>\n",
       "      <td>Postcode_int</td>\n",
       "      <td>BIGINT</td>\n",
       "    </tr>\n",
       "  </tbody>\n",
       "</table>\n",
       "</div>"
      ],
      "text/plain": [
       "             name      type\n",
       "0          Suburb      TEXT\n",
       "1         Address      TEXT\n",
       "2           Rooms    BIGINT\n",
       "3            Type      TEXT\n",
       "4           Price     FLOAT\n",
       "5          Method      TEXT\n",
       "6         SellerG      TEXT\n",
       "7            Date  DATETIME\n",
       "8        Distance     FLOAT\n",
       "9        Postcode     FLOAT\n",
       "10       Bedroom2    BIGINT\n",
       "11       Bathroom    BIGINT\n",
       "12            Car    BIGINT\n",
       "13       Landsize     FLOAT\n",
       "14   BuildingArea     FLOAT\n",
       "15      YearBuilt     FLOAT\n",
       "16    CouncilArea      TEXT\n",
       "17      Lattitude     FLOAT\n",
       "18     Longtitude     FLOAT\n",
       "19     Regionname      TEXT\n",
       "20  Propertycount     FLOAT\n",
       "21   Postcode_int    BIGINT"
      ]
     },
     "execution_count": 16,
     "metadata": {},
     "output_type": "execute_result"
    }
   ],
   "source": [
    "# Para saber el schema de la tabla melb\n",
    "schema_melb=pd.read_sql(text(\"\"\"PRAGMA table_info('melb')\"\"\"), con=engine)\n",
    "schema_melb[['name','type']]"
   ]
  },
  {
   "cell_type": "code",
   "execution_count": 17,
   "id": "396d47b3",
   "metadata": {},
   "outputs": [
    {
     "name": "stdout",
     "output_type": "stream",
     "text": [
      "2025-05-26 21:25:18,550 INFO sqlalchemy.engine.Engine BEGIN (implicit)\n",
      "2025-05-26 21:25:18,557 INFO sqlalchemy.engine.Engine PRAGMA table_info('melb')\n",
      "2025-05-26 21:25:18,558 INFO sqlalchemy.engine.Engine [cached since 193.9s ago] ()\n",
      "2025-05-26 21:25:18,563 INFO sqlalchemy.engine.Engine ROLLBACK\n"
     ]
    },
    {
     "data": {
      "text/html": [
       "<div>\n",
       "<style scoped>\n",
       "    .dataframe tbody tr th:only-of-type {\n",
       "        vertical-align: middle;\n",
       "    }\n",
       "\n",
       "    .dataframe tbody tr th {\n",
       "        vertical-align: top;\n",
       "    }\n",
       "\n",
       "    .dataframe thead th {\n",
       "        text-align: right;\n",
       "    }\n",
       "</style>\n",
       "<table border=\"1\" class=\"dataframe\">\n",
       "  <thead>\n",
       "    <tr style=\"text-align: right;\">\n",
       "      <th></th>\n",
       "      <th>name</th>\n",
       "      <th>type</th>\n",
       "    </tr>\n",
       "  </thead>\n",
       "  <tbody>\n",
       "    <tr>\n",
       "      <th>0</th>\n",
       "      <td>Suburb</td>\n",
       "      <td>TEXT</td>\n",
       "    </tr>\n",
       "    <tr>\n",
       "      <th>1</th>\n",
       "      <td>Address</td>\n",
       "      <td>TEXT</td>\n",
       "    </tr>\n",
       "    <tr>\n",
       "      <th>2</th>\n",
       "      <td>Rooms</td>\n",
       "      <td>BIGINT</td>\n",
       "    </tr>\n",
       "    <tr>\n",
       "      <th>3</th>\n",
       "      <td>Type</td>\n",
       "      <td>TEXT</td>\n",
       "    </tr>\n",
       "    <tr>\n",
       "      <th>4</th>\n",
       "      <td>Price</td>\n",
       "      <td>FLOAT</td>\n",
       "    </tr>\n",
       "    <tr>\n",
       "      <th>5</th>\n",
       "      <td>Method</td>\n",
       "      <td>TEXT</td>\n",
       "    </tr>\n",
       "    <tr>\n",
       "      <th>6</th>\n",
       "      <td>SellerG</td>\n",
       "      <td>TEXT</td>\n",
       "    </tr>\n",
       "    <tr>\n",
       "      <th>7</th>\n",
       "      <td>Date</td>\n",
       "      <td>DATETIME</td>\n",
       "    </tr>\n",
       "    <tr>\n",
       "      <th>8</th>\n",
       "      <td>Distance</td>\n",
       "      <td>FLOAT</td>\n",
       "    </tr>\n",
       "    <tr>\n",
       "      <th>9</th>\n",
       "      <td>Postcode</td>\n",
       "      <td>FLOAT</td>\n",
       "    </tr>\n",
       "    <tr>\n",
       "      <th>10</th>\n",
       "      <td>Bedroom2</td>\n",
       "      <td>BIGINT</td>\n",
       "    </tr>\n",
       "    <tr>\n",
       "      <th>11</th>\n",
       "      <td>Bathroom</td>\n",
       "      <td>BIGINT</td>\n",
       "    </tr>\n",
       "    <tr>\n",
       "      <th>12</th>\n",
       "      <td>Car</td>\n",
       "      <td>BIGINT</td>\n",
       "    </tr>\n",
       "    <tr>\n",
       "      <th>13</th>\n",
       "      <td>Landsize</td>\n",
       "      <td>FLOAT</td>\n",
       "    </tr>\n",
       "    <tr>\n",
       "      <th>14</th>\n",
       "      <td>BuildingArea</td>\n",
       "      <td>FLOAT</td>\n",
       "    </tr>\n",
       "    <tr>\n",
       "      <th>15</th>\n",
       "      <td>YearBuilt</td>\n",
       "      <td>FLOAT</td>\n",
       "    </tr>\n",
       "    <tr>\n",
       "      <th>16</th>\n",
       "      <td>CouncilArea</td>\n",
       "      <td>TEXT</td>\n",
       "    </tr>\n",
       "    <tr>\n",
       "      <th>17</th>\n",
       "      <td>Lattitude</td>\n",
       "      <td>FLOAT</td>\n",
       "    </tr>\n",
       "    <tr>\n",
       "      <th>18</th>\n",
       "      <td>Longtitude</td>\n",
       "      <td>FLOAT</td>\n",
       "    </tr>\n",
       "    <tr>\n",
       "      <th>19</th>\n",
       "      <td>Regionname</td>\n",
       "      <td>TEXT</td>\n",
       "    </tr>\n",
       "    <tr>\n",
       "      <th>20</th>\n",
       "      <td>Propertycount</td>\n",
       "      <td>FLOAT</td>\n",
       "    </tr>\n",
       "    <tr>\n",
       "      <th>21</th>\n",
       "      <td>Postcode_int</td>\n",
       "      <td>BIGINT</td>\n",
       "    </tr>\n",
       "  </tbody>\n",
       "</table>\n",
       "</div>"
      ],
      "text/plain": [
       "             name      type\n",
       "0          Suburb      TEXT\n",
       "1         Address      TEXT\n",
       "2           Rooms    BIGINT\n",
       "3            Type      TEXT\n",
       "4           Price     FLOAT\n",
       "5          Method      TEXT\n",
       "6         SellerG      TEXT\n",
       "7            Date  DATETIME\n",
       "8        Distance     FLOAT\n",
       "9        Postcode     FLOAT\n",
       "10       Bedroom2    BIGINT\n",
       "11       Bathroom    BIGINT\n",
       "12            Car    BIGINT\n",
       "13       Landsize     FLOAT\n",
       "14   BuildingArea     FLOAT\n",
       "15      YearBuilt     FLOAT\n",
       "16    CouncilArea      TEXT\n",
       "17      Lattitude     FLOAT\n",
       "18     Longtitude     FLOAT\n",
       "19     Regionname      TEXT\n",
       "20  Propertycount     FLOAT\n",
       "21   Postcode_int    BIGINT"
      ]
     },
     "execution_count": 17,
     "metadata": {},
     "output_type": "execute_result"
    }
   ],
   "source": [
    "schema_airbnb=pd.read_sql(text(\"\"\"PRAGMA table_info('melb')\"\"\"), con=engine)\n",
    "schema_airbnb[['name','type']]"
   ]
  },
  {
   "cell_type": "code",
   "execution_count": 24,
   "id": "9943b998",
   "metadata": {},
   "outputs": [
    {
     "name": "stdout",
     "output_type": "stream",
     "text": [
      "2025-05-26 21:29:13,579 INFO sqlalchemy.engine.Engine BEGIN (implicit)\n",
      "2025-05-26 21:29:13,581 INFO sqlalchemy.engine.Engine PRAGMA main.table_info(\"select count(*) as total from melb\")\n",
      "2025-05-26 21:29:13,582 INFO sqlalchemy.engine.Engine [raw sql] ()\n",
      "2025-05-26 21:29:13,583 INFO sqlalchemy.engine.Engine PRAGMA temp.table_info(\"select count(*) as total from melb\")\n",
      "2025-05-26 21:29:13,584 INFO sqlalchemy.engine.Engine [raw sql] ()\n",
      "2025-05-26 21:29:13,585 INFO sqlalchemy.engine.Engine select count(*) as total from melb\n",
      "2025-05-26 21:29:13,586 INFO sqlalchemy.engine.Engine [raw sql] ()\n",
      "2025-05-26 21:29:13,590 INFO sqlalchemy.engine.Engine ROLLBACK\n",
      "Cantidad de registros totales para la ciudad de Melbourne :13580\n"
     ]
    }
   ],
   "source": [
    "queryTotalRegistrosPorCiudad = \"select count(*) as total from melb\"\n",
    "resultTotalRegistrosPorCiudad = pd.read_sql(queryTotalRegistrosPorCiudad, con=engine)\n",
    "print(f\"Cantidad de registros totales para la ciudad de Melbourne :{resultTotalRegistrosPorCiudad['total'][0]}\")"
   ]
  },
  {
   "cell_type": "code",
   "execution_count": 28,
   "id": "8c8712d3",
   "metadata": {},
   "outputs": [
    {
     "name": "stdout",
     "output_type": "stream",
     "text": [
      "2025-05-26 21:31:14,034 INFO sqlalchemy.engine.Engine BEGIN (implicit)\n",
      "2025-05-26 21:31:14,036 INFO sqlalchemy.engine.Engine PRAGMA main.table_info(\"select suburb, count(*) as total from melb group by suburb order by total desc;\")\n",
      "2025-05-26 21:31:14,037 INFO sqlalchemy.engine.Engine [raw sql] ()\n",
      "2025-05-26 21:31:14,039 INFO sqlalchemy.engine.Engine PRAGMA temp.table_info(\"select suburb, count(*) as total from melb group by suburb order by total desc;\")\n",
      "2025-05-26 21:31:14,039 INFO sqlalchemy.engine.Engine [raw sql] ()\n",
      "2025-05-26 21:31:14,040 INFO sqlalchemy.engine.Engine select suburb, count(*) as total from melb group by suburb order by total desc;\n",
      "2025-05-26 21:31:14,040 INFO sqlalchemy.engine.Engine [raw sql] ()\n",
      "2025-05-26 21:31:14,107 INFO sqlalchemy.engine.Engine ROLLBACK\n",
      "Cantidad de registros totales por barrio en la ciudad de Melbourne:\n"
     ]
    },
    {
     "data": {
      "text/html": [
       "<div>\n",
       "<style scoped>\n",
       "    .dataframe tbody tr th:only-of-type {\n",
       "        vertical-align: middle;\n",
       "    }\n",
       "\n",
       "    .dataframe tbody tr th {\n",
       "        vertical-align: top;\n",
       "    }\n",
       "\n",
       "    .dataframe thead th {\n",
       "        text-align: right;\n",
       "    }\n",
       "</style>\n",
       "<table border=\"1\" class=\"dataframe\">\n",
       "  <thead>\n",
       "    <tr style=\"text-align: right;\">\n",
       "      <th></th>\n",
       "      <th>Suburb</th>\n",
       "      <th>total</th>\n",
       "    </tr>\n",
       "  </thead>\n",
       "  <tbody>\n",
       "    <tr>\n",
       "      <th>0</th>\n",
       "      <td>Reservoir</td>\n",
       "      <td>359</td>\n",
       "    </tr>\n",
       "    <tr>\n",
       "      <th>1</th>\n",
       "      <td>Richmond</td>\n",
       "      <td>260</td>\n",
       "    </tr>\n",
       "    <tr>\n",
       "      <th>2</th>\n",
       "      <td>Bentleigh East</td>\n",
       "      <td>249</td>\n",
       "    </tr>\n",
       "    <tr>\n",
       "      <th>3</th>\n",
       "      <td>Preston</td>\n",
       "      <td>239</td>\n",
       "    </tr>\n",
       "    <tr>\n",
       "      <th>4</th>\n",
       "      <td>Brunswick</td>\n",
       "      <td>222</td>\n",
       "    </tr>\n",
       "    <tr>\n",
       "      <th>...</th>\n",
       "      <td>...</td>\n",
       "      <td>...</td>\n",
       "    </tr>\n",
       "    <tr>\n",
       "      <th>309</th>\n",
       "      <td>Bullengarook</td>\n",
       "      <td>1</td>\n",
       "    </tr>\n",
       "    <tr>\n",
       "      <th>310</th>\n",
       "      <td>Brookfield</td>\n",
       "      <td>1</td>\n",
       "    </tr>\n",
       "    <tr>\n",
       "      <th>311</th>\n",
       "      <td>Beaconsfield Upper</td>\n",
       "      <td>1</td>\n",
       "    </tr>\n",
       "    <tr>\n",
       "      <th>312</th>\n",
       "      <td>Bacchus Marsh</td>\n",
       "      <td>1</td>\n",
       "    </tr>\n",
       "    <tr>\n",
       "      <th>313</th>\n",
       "      <td>Attwood</td>\n",
       "      <td>1</td>\n",
       "    </tr>\n",
       "  </tbody>\n",
       "</table>\n",
       "<p>314 rows × 2 columns</p>\n",
       "</div>"
      ],
      "text/plain": [
       "                 Suburb  total\n",
       "0             Reservoir    359\n",
       "1              Richmond    260\n",
       "2        Bentleigh East    249\n",
       "3               Preston    239\n",
       "4             Brunswick    222\n",
       "..                  ...    ...\n",
       "309        Bullengarook      1\n",
       "310          Brookfield      1\n",
       "311  Beaconsfield Upper      1\n",
       "312       Bacchus Marsh      1\n",
       "313             Attwood      1\n",
       "\n",
       "[314 rows x 2 columns]"
      ]
     },
     "execution_count": 28,
     "metadata": {},
     "output_type": "execute_result"
    }
   ],
   "source": [
    "queryTotalRegistrosPorBarrioYCiudad = \"select suburb, count(*) as total from melb group by suburb order by total desc;\"\n",
    "resultTotalRegistrosPorBarrioYCiudad = pd.read_sql(queryTotalRegistrosPorBarrioYCiudad, con=engine)\n",
    "print(\"Cantidad de registros totales por barrio en la ciudad de Melbourne:\")\n",
    "resultTotalRegistrosPorBarrioYCiudad"
   ]
  },
  {
   "cell_type": "code",
   "execution_count": 31,
   "id": "f3196000",
   "metadata": {},
   "outputs": [
    {
     "name": "stdout",
     "output_type": "stream",
     "text": [
      "2025-05-26 21:33:23,983 INFO sqlalchemy.engine.Engine BEGIN (implicit)\n",
      "2025-05-26 21:33:23,984 INFO sqlalchemy.engine.Engine PRAGMA main.table_info(\"select count(*) as total from melb where rooms > 2 order by total desc;\")\n",
      "2025-05-26 21:33:23,985 INFO sqlalchemy.engine.Engine [raw sql] ()\n",
      "2025-05-26 21:33:23,986 INFO sqlalchemy.engine.Engine PRAGMA temp.table_info(\"select count(*) as total from melb where rooms > 2 order by total desc;\")\n",
      "2025-05-26 21:33:23,986 INFO sqlalchemy.engine.Engine [raw sql] ()\n",
      "2025-05-26 21:33:23,987 INFO sqlalchemy.engine.Engine select count(*) as total from melb where rooms > 2 order by total desc;\n",
      "2025-05-26 21:33:23,987 INFO sqlalchemy.engine.Engine [raw sql] ()\n",
      "2025-05-26 21:33:23,995 INFO sqlalchemy.engine.Engine ROLLBACK\n",
      "Cantidad de propiedades com más de 2 habitaciones en la ciudad de Melbourne: 9251\n"
     ]
    }
   ],
   "source": [
    "# - Consulta con filtro: ¿Cuántas propiedades hay por ciudad con más de 2 habitaciones?\n",
    "queryTotalRegistrosPorCiudadConMasDe2Habitaciones = \"select count(*) as total from melb where rooms > 2 order by total desc;\"\n",
    "resultTotalRegistrosPorCiudadConMasDe2Habitaciones = pd.read_sql(queryTotalRegistrosPorCiudadConMasDe2Habitaciones, con=engine)\n",
    "print(f\"Cantidad de propiedades com más de 2 habitaciones en la ciudad de Melbourne: {resultTotalRegistrosPorCiudadConMasDe2Habitaciones['total'][0]}\")"
   ]
  },
  {
   "cell_type": "code",
   "execution_count": 32,
   "id": "f8886989",
   "metadata": {},
   "outputs": [
    {
     "name": "stdout",
     "output_type": "stream",
     "text": [
      "2025-05-26 21:34:15,914 INFO sqlalchemy.engine.Engine BEGIN (implicit)\n",
      "2025-05-26 21:34:15,915 INFO sqlalchemy.engine.Engine PRAGMA main.table_info(\"select type, round(avg(price) ,2) as precio_promedio  from melb group by type order by precio_promedio desc;\")\n",
      "2025-05-26 21:34:15,916 INFO sqlalchemy.engine.Engine [raw sql] ()\n",
      "2025-05-26 21:34:15,916 INFO sqlalchemy.engine.Engine PRAGMA temp.table_info(\"select type, round(avg(price) ,2) as precio_promedio  from melb group by type order by precio_promedio desc;\")\n",
      "2025-05-26 21:34:15,917 INFO sqlalchemy.engine.Engine [raw sql] ()\n",
      "2025-05-26 21:34:15,917 INFO sqlalchemy.engine.Engine select type, round(avg(price) ,2) as precio_promedio  from melb group by type order by precio_promedio desc;\n",
      "2025-05-26 21:34:15,917 INFO sqlalchemy.engine.Engine [raw sql] ()\n",
      "2025-05-26 21:34:15,927 INFO sqlalchemy.engine.Engine ROLLBACK\n"
     ]
    },
    {
     "data": {
      "text/html": [
       "<div>\n",
       "<style scoped>\n",
       "    .dataframe tbody tr th:only-of-type {\n",
       "        vertical-align: middle;\n",
       "    }\n",
       "\n",
       "    .dataframe tbody tr th {\n",
       "        vertical-align: top;\n",
       "    }\n",
       "\n",
       "    .dataframe thead th {\n",
       "        text-align: right;\n",
       "    }\n",
       "</style>\n",
       "<table border=\"1\" class=\"dataframe\">\n",
       "  <thead>\n",
       "    <tr style=\"text-align: right;\">\n",
       "      <th></th>\n",
       "      <th>Type</th>\n",
       "      <th>precio_promedio</th>\n",
       "    </tr>\n",
       "  </thead>\n",
       "  <tbody>\n",
       "    <tr>\n",
       "      <th>0</th>\n",
       "      <td>h</td>\n",
       "      <td>1242664.76</td>\n",
       "    </tr>\n",
       "    <tr>\n",
       "      <th>1</th>\n",
       "      <td>t</td>\n",
       "      <td>933735.05</td>\n",
       "    </tr>\n",
       "    <tr>\n",
       "      <th>2</th>\n",
       "      <td>u</td>\n",
       "      <td>605127.48</td>\n",
       "    </tr>\n",
       "  </tbody>\n",
       "</table>\n",
       "</div>"
      ],
      "text/plain": [
       "  Type  precio_promedio\n",
       "0    h       1242664.76\n",
       "1    t        933735.05\n",
       "2    u        605127.48"
      ]
     },
     "execution_count": 32,
     "metadata": {},
     "output_type": "execute_result"
    }
   ],
   "source": [
    "# - Agregación condicional: ¿Cuál es el precio promedio de propiedades según tipo (Type) y ciudad?\n",
    "queryPrecioPromedioPorTipoYCiudad = \"select type, round(avg(price) ,2) as precio_promedio  from melb group by type order by precio_promedio desc;\"\n",
    "resultPrecioPromedioPorTipoYCiudad = pd.read_sql(queryPrecioPromedioPorTipoYCiudad, con=engine)\n",
    "resultPrecioPromedioPorTipoYCiudad"
   ]
  },
  {
   "cell_type": "code",
   "execution_count": 35,
   "id": "6b3c7866",
   "metadata": {},
   "outputs": [
    {
     "name": "stdout",
     "output_type": "stream",
     "text": [
      "2025-05-26 21:36:10,075 INFO sqlalchemy.engine.Engine BEGIN (implicit)\n",
      "2025-05-26 21:36:10,077 INFO sqlalchemy.engine.Engine PRAGMA main.table_info(\"select suburb, round(avg(price) ,2) as precio_promedio from melb group by suburb order by precio_promedio desc limit 5;\")\n",
      "2025-05-26 21:36:10,078 INFO sqlalchemy.engine.Engine [raw sql] ()\n",
      "2025-05-26 21:36:10,082 INFO sqlalchemy.engine.Engine PRAGMA temp.table_info(\"select suburb, round(avg(price) ,2) as precio_promedio from melb group by suburb order by precio_promedio desc limit 5;\")\n",
      "2025-05-26 21:36:10,083 INFO sqlalchemy.engine.Engine [raw sql] ()\n",
      "2025-05-26 21:36:10,083 INFO sqlalchemy.engine.Engine select suburb, round(avg(price) ,2) as precio_promedio from melb group by suburb order by precio_promedio desc limit 5;\n",
      "2025-05-26 21:36:10,084 INFO sqlalchemy.engine.Engine [raw sql] ()\n",
      "2025-05-26 21:36:10,095 INFO sqlalchemy.engine.Engine ROLLBACK\n"
     ]
    },
    {
     "data": {
      "text/html": [
       "<div>\n",
       "<style scoped>\n",
       "    .dataframe tbody tr th:only-of-type {\n",
       "        vertical-align: middle;\n",
       "    }\n",
       "\n",
       "    .dataframe tbody tr th {\n",
       "        vertical-align: top;\n",
       "    }\n",
       "\n",
       "    .dataframe thead th {\n",
       "        text-align: right;\n",
       "    }\n",
       "</style>\n",
       "<table border=\"1\" class=\"dataframe\">\n",
       "  <thead>\n",
       "    <tr style=\"text-align: right;\">\n",
       "      <th></th>\n",
       "      <th>Suburb</th>\n",
       "      <th>precio_promedio</th>\n",
       "    </tr>\n",
       "  </thead>\n",
       "  <tbody>\n",
       "    <tr>\n",
       "      <th>0</th>\n",
       "      <td>Kooyong</td>\n",
       "      <td>2185000.00</td>\n",
       "    </tr>\n",
       "    <tr>\n",
       "      <th>1</th>\n",
       "      <td>Canterbury</td>\n",
       "      <td>2180240.74</td>\n",
       "    </tr>\n",
       "    <tr>\n",
       "      <th>2</th>\n",
       "      <td>Middle Park</td>\n",
       "      <td>2082529.41</td>\n",
       "    </tr>\n",
       "    <tr>\n",
       "      <th>3</th>\n",
       "      <td>Albert Park</td>\n",
       "      <td>1941355.07</td>\n",
       "    </tr>\n",
       "    <tr>\n",
       "      <th>4</th>\n",
       "      <td>Brighton</td>\n",
       "      <td>1930158.00</td>\n",
       "    </tr>\n",
       "  </tbody>\n",
       "</table>\n",
       "</div>"
      ],
      "text/plain": [
       "        Suburb  precio_promedio\n",
       "0      Kooyong       2185000.00\n",
       "1   Canterbury       2180240.74\n",
       "2  Middle Park       2082529.41\n",
       "3  Albert Park       1941355.07\n",
       "4     Brighton       1930158.00"
      ]
     },
     "execution_count": 35,
     "metadata": {},
     "output_type": "execute_result"
    }
   ],
   "source": [
    "# - Orden y límites: Mostrá el top 5 barrios con propiedades más caras en promedio.\n",
    "queryTop5BarriosConPropiedadesMasCaras = \"select suburb, round(avg(price) ,2) as precio_promedio from melb group by suburb order by precio_promedio desc limit 5;\"\n",
    "resultTop5BarriosConPropiedadesMasCaras = pd.read_sql(queryTop5BarriosConPropiedadesMasCaras, con=engine)\n",
    "resultTop5BarriosConPropiedadesMasCaras"
   ]
  },
  {
   "cell_type": "code",
   "execution_count": 36,
   "id": "aeb91b0f",
   "metadata": {},
   "outputs": [
    {
     "name": "stdout",
     "output_type": "stream",
     "text": [
      "2025-05-26 21:36:53,429 INFO sqlalchemy.engine.Engine BEGIN (implicit)\n",
      "2025-05-26 21:36:53,430 INFO sqlalchemy.engine.Engine PRAGMA main.table_info(\"\n",
      "select m.*, a.*\n",
      "from melb m \n",
      "left join airbnb a \n",
      "    on m.Postcode_int = a.zipcode_int\n",
      "LIMIT 100\n",
      "\")\n",
      "2025-05-26 21:36:53,433 INFO sqlalchemy.engine.Engine [raw sql] ()\n",
      "2025-05-26 21:36:53,436 INFO sqlalchemy.engine.Engine PRAGMA temp.table_info(\"\n",
      "select m.*, a.*\n",
      "from melb m \n",
      "left join airbnb a \n",
      "    on m.Postcode_int = a.zipcode_int\n",
      "LIMIT 100\n",
      "\")\n",
      "2025-05-26 21:36:53,436 INFO sqlalchemy.engine.Engine [raw sql] ()\n",
      "2025-05-26 21:36:53,438 INFO sqlalchemy.engine.Engine \n",
      "select m.*, a.*\n",
      "from melb m \n",
      "left join airbnb a \n",
      "    on m.Postcode_int = a.zipcode_int\n",
      "LIMIT 100\n",
      "\n",
      "2025-05-26 21:36:53,439 INFO sqlalchemy.engine.Engine [raw sql] ()\n",
      "2025-05-26 21:36:53,890 INFO sqlalchemy.engine.Engine ROLLBACK\n"
     ]
    },
    {
     "data": {
      "text/html": [
       "<div>\n",
       "<style scoped>\n",
       "    .dataframe tbody tr th:only-of-type {\n",
       "        vertical-align: middle;\n",
       "    }\n",
       "\n",
       "    .dataframe tbody tr th {\n",
       "        vertical-align: top;\n",
       "    }\n",
       "\n",
       "    .dataframe thead th {\n",
       "        text-align: right;\n",
       "    }\n",
       "</style>\n",
       "<table border=\"1\" class=\"dataframe\">\n",
       "  <thead>\n",
       "    <tr style=\"text-align: right;\">\n",
       "      <th></th>\n",
       "      <th>Suburb</th>\n",
       "      <th>Address</th>\n",
       "      <th>Rooms</th>\n",
       "      <th>Type</th>\n",
       "      <th>Price</th>\n",
       "      <th>Method</th>\n",
       "      <th>SellerG</th>\n",
       "      <th>Date</th>\n",
       "      <th>Distance</th>\n",
       "      <th>Postcode</th>\n",
       "      <th>...</th>\n",
       "      <th>state</th>\n",
       "      <th>zipcode</th>\n",
       "      <th>latitude</th>\n",
       "      <th>longitude</th>\n",
       "      <th>price</th>\n",
       "      <th>weekly_price</th>\n",
       "      <th>monthly_price</th>\n",
       "      <th>zipcode_int</th>\n",
       "      <th>weekly_price_calculate</th>\n",
       "      <th>monthly_price_calculate</th>\n",
       "    </tr>\n",
       "  </thead>\n",
       "  <tbody>\n",
       "    <tr>\n",
       "      <th>0</th>\n",
       "      <td>Abbotsford</td>\n",
       "      <td>85 Turner St</td>\n",
       "      <td>2</td>\n",
       "      <td>h</td>\n",
       "      <td>1480000.0</td>\n",
       "      <td>S</td>\n",
       "      <td>Biggin</td>\n",
       "      <td>2016-03-12 00:00:00.000000</td>\n",
       "      <td>2.5</td>\n",
       "      <td>3067.0</td>\n",
       "      <td>...</td>\n",
       "      <td>VIC</td>\n",
       "      <td>3067.0</td>\n",
       "      <td>-37.810196</td>\n",
       "      <td>145.008976</td>\n",
       "      <td>125</td>\n",
       "      <td>NaN</td>\n",
       "      <td>NaN</td>\n",
       "      <td>3067</td>\n",
       "      <td>875.0</td>\n",
       "      <td>3750.0</td>\n",
       "    </tr>\n",
       "    <tr>\n",
       "      <th>1</th>\n",
       "      <td>Abbotsford</td>\n",
       "      <td>85 Turner St</td>\n",
       "      <td>2</td>\n",
       "      <td>h</td>\n",
       "      <td>1480000.0</td>\n",
       "      <td>S</td>\n",
       "      <td>Biggin</td>\n",
       "      <td>2016-03-12 00:00:00.000000</td>\n",
       "      <td>2.5</td>\n",
       "      <td>3067.0</td>\n",
       "      <td>...</td>\n",
       "      <td>VIC</td>\n",
       "      <td>3067.0</td>\n",
       "      <td>-37.810981</td>\n",
       "      <td>145.014269</td>\n",
       "      <td>96</td>\n",
       "      <td>NaN</td>\n",
       "      <td>NaN</td>\n",
       "      <td>3067</td>\n",
       "      <td>672.0</td>\n",
       "      <td>2880.0</td>\n",
       "    </tr>\n",
       "    <tr>\n",
       "      <th>2</th>\n",
       "      <td>Abbotsford</td>\n",
       "      <td>85 Turner St</td>\n",
       "      <td>2</td>\n",
       "      <td>h</td>\n",
       "      <td>1480000.0</td>\n",
       "      <td>S</td>\n",
       "      <td>Biggin</td>\n",
       "      <td>2016-03-12 00:00:00.000000</td>\n",
       "      <td>2.5</td>\n",
       "      <td>3067.0</td>\n",
       "      <td>...</td>\n",
       "      <td>VIC</td>\n",
       "      <td>3067.0</td>\n",
       "      <td>-37.809320</td>\n",
       "      <td>144.991833</td>\n",
       "      <td>100</td>\n",
       "      <td>NaN</td>\n",
       "      <td>NaN</td>\n",
       "      <td>3067</td>\n",
       "      <td>700.0</td>\n",
       "      <td>3000.0</td>\n",
       "    </tr>\n",
       "    <tr>\n",
       "      <th>3</th>\n",
       "      <td>Abbotsford</td>\n",
       "      <td>85 Turner St</td>\n",
       "      <td>2</td>\n",
       "      <td>h</td>\n",
       "      <td>1480000.0</td>\n",
       "      <td>S</td>\n",
       "      <td>Biggin</td>\n",
       "      <td>2016-03-12 00:00:00.000000</td>\n",
       "      <td>2.5</td>\n",
       "      <td>3067.0</td>\n",
       "      <td>...</td>\n",
       "      <td>VIC</td>\n",
       "      <td>3067.0</td>\n",
       "      <td>-37.808998</td>\n",
       "      <td>144.992535</td>\n",
       "      <td>55</td>\n",
       "      <td>NaN</td>\n",
       "      <td>NaN</td>\n",
       "      <td>3067</td>\n",
       "      <td>385.0</td>\n",
       "      <td>1650.0</td>\n",
       "    </tr>\n",
       "    <tr>\n",
       "      <th>4</th>\n",
       "      <td>Abbotsford</td>\n",
       "      <td>85 Turner St</td>\n",
       "      <td>2</td>\n",
       "      <td>h</td>\n",
       "      <td>1480000.0</td>\n",
       "      <td>S</td>\n",
       "      <td>Biggin</td>\n",
       "      <td>2016-03-12 00:00:00.000000</td>\n",
       "      <td>2.5</td>\n",
       "      <td>3067.0</td>\n",
       "      <td>...</td>\n",
       "      <td>VIC</td>\n",
       "      <td>3067.0</td>\n",
       "      <td>-37.808703</td>\n",
       "      <td>144.992925</td>\n",
       "      <td>90</td>\n",
       "      <td>NaN</td>\n",
       "      <td>NaN</td>\n",
       "      <td>3067</td>\n",
       "      <td>630.0</td>\n",
       "      <td>2700.0</td>\n",
       "    </tr>\n",
       "    <tr>\n",
       "      <th>...</th>\n",
       "      <td>...</td>\n",
       "      <td>...</td>\n",
       "      <td>...</td>\n",
       "      <td>...</td>\n",
       "      <td>...</td>\n",
       "      <td>...</td>\n",
       "      <td>...</td>\n",
       "      <td>...</td>\n",
       "      <td>...</td>\n",
       "      <td>...</td>\n",
       "      <td>...</td>\n",
       "      <td>...</td>\n",
       "      <td>...</td>\n",
       "      <td>...</td>\n",
       "      <td>...</td>\n",
       "      <td>...</td>\n",
       "      <td>...</td>\n",
       "      <td>...</td>\n",
       "      <td>...</td>\n",
       "      <td>...</td>\n",
       "      <td>...</td>\n",
       "    </tr>\n",
       "    <tr>\n",
       "      <th>95</th>\n",
       "      <td>Abbotsford</td>\n",
       "      <td>85 Turner St</td>\n",
       "      <td>2</td>\n",
       "      <td>h</td>\n",
       "      <td>1480000.0</td>\n",
       "      <td>S</td>\n",
       "      <td>Biggin</td>\n",
       "      <td>2016-03-12 00:00:00.000000</td>\n",
       "      <td>2.5</td>\n",
       "      <td>3067.0</td>\n",
       "      <td>...</td>\n",
       "      <td>VIC</td>\n",
       "      <td>3067.0</td>\n",
       "      <td>-37.804382</td>\n",
       "      <td>144.996753</td>\n",
       "      <td>138</td>\n",
       "      <td>831.0</td>\n",
       "      <td>3461.0</td>\n",
       "      <td>3067</td>\n",
       "      <td>831.0</td>\n",
       "      <td>3461.0</td>\n",
       "    </tr>\n",
       "    <tr>\n",
       "      <th>96</th>\n",
       "      <td>Abbotsford</td>\n",
       "      <td>85 Turner St</td>\n",
       "      <td>2</td>\n",
       "      <td>h</td>\n",
       "      <td>1480000.0</td>\n",
       "      <td>S</td>\n",
       "      <td>Biggin</td>\n",
       "      <td>2016-03-12 00:00:00.000000</td>\n",
       "      <td>2.5</td>\n",
       "      <td>3067.0</td>\n",
       "      <td>...</td>\n",
       "      <td>VIC</td>\n",
       "      <td>3067.0</td>\n",
       "      <td>-37.803140</td>\n",
       "      <td>144.999114</td>\n",
       "      <td>46</td>\n",
       "      <td>300.0</td>\n",
       "      <td>NaN</td>\n",
       "      <td>3067</td>\n",
       "      <td>300.0</td>\n",
       "      <td>1380.0</td>\n",
       "    </tr>\n",
       "    <tr>\n",
       "      <th>97</th>\n",
       "      <td>Abbotsford</td>\n",
       "      <td>85 Turner St</td>\n",
       "      <td>2</td>\n",
       "      <td>h</td>\n",
       "      <td>1480000.0</td>\n",
       "      <td>S</td>\n",
       "      <td>Biggin</td>\n",
       "      <td>2016-03-12 00:00:00.000000</td>\n",
       "      <td>2.5</td>\n",
       "      <td>3067.0</td>\n",
       "      <td>...</td>\n",
       "      <td>VIC</td>\n",
       "      <td>3067.0</td>\n",
       "      <td>-37.801900</td>\n",
       "      <td>144.999080</td>\n",
       "      <td>101</td>\n",
       "      <td>NaN</td>\n",
       "      <td>NaN</td>\n",
       "      <td>3067</td>\n",
       "      <td>707.0</td>\n",
       "      <td>3030.0</td>\n",
       "    </tr>\n",
       "    <tr>\n",
       "      <th>98</th>\n",
       "      <td>Abbotsford</td>\n",
       "      <td>85 Turner St</td>\n",
       "      <td>2</td>\n",
       "      <td>h</td>\n",
       "      <td>1480000.0</td>\n",
       "      <td>S</td>\n",
       "      <td>Biggin</td>\n",
       "      <td>2016-03-12 00:00:00.000000</td>\n",
       "      <td>2.5</td>\n",
       "      <td>3067.0</td>\n",
       "      <td>...</td>\n",
       "      <td>VIC</td>\n",
       "      <td>3067.0</td>\n",
       "      <td>-37.802802</td>\n",
       "      <td>144.997031</td>\n",
       "      <td>150</td>\n",
       "      <td>NaN</td>\n",
       "      <td>NaN</td>\n",
       "      <td>3067</td>\n",
       "      <td>1050.0</td>\n",
       "      <td>4500.0</td>\n",
       "    </tr>\n",
       "    <tr>\n",
       "      <th>99</th>\n",
       "      <td>Abbotsford</td>\n",
       "      <td>85 Turner St</td>\n",
       "      <td>2</td>\n",
       "      <td>h</td>\n",
       "      <td>1480000.0</td>\n",
       "      <td>S</td>\n",
       "      <td>Biggin</td>\n",
       "      <td>2016-03-12 00:00:00.000000</td>\n",
       "      <td>2.5</td>\n",
       "      <td>3067.0</td>\n",
       "      <td>...</td>\n",
       "      <td>VIC</td>\n",
       "      <td>3067.0</td>\n",
       "      <td>-37.808142</td>\n",
       "      <td>144.997738</td>\n",
       "      <td>55</td>\n",
       "      <td>250.0</td>\n",
       "      <td>1000.0</td>\n",
       "      <td>3067</td>\n",
       "      <td>250.0</td>\n",
       "      <td>1000.0</td>\n",
       "    </tr>\n",
       "  </tbody>\n",
       "</table>\n",
       "<p>100 rows × 38 columns</p>\n",
       "</div>"
      ],
      "text/plain": [
       "        Suburb       Address  Rooms Type      Price Method SellerG  \\\n",
       "0   Abbotsford  85 Turner St      2    h  1480000.0      S  Biggin   \n",
       "1   Abbotsford  85 Turner St      2    h  1480000.0      S  Biggin   \n",
       "2   Abbotsford  85 Turner St      2    h  1480000.0      S  Biggin   \n",
       "3   Abbotsford  85 Turner St      2    h  1480000.0      S  Biggin   \n",
       "4   Abbotsford  85 Turner St      2    h  1480000.0      S  Biggin   \n",
       "..         ...           ...    ...  ...        ...    ...     ...   \n",
       "95  Abbotsford  85 Turner St      2    h  1480000.0      S  Biggin   \n",
       "96  Abbotsford  85 Turner St      2    h  1480000.0      S  Biggin   \n",
       "97  Abbotsford  85 Turner St      2    h  1480000.0      S  Biggin   \n",
       "98  Abbotsford  85 Turner St      2    h  1480000.0      S  Biggin   \n",
       "99  Abbotsford  85 Turner St      2    h  1480000.0      S  Biggin   \n",
       "\n",
       "                          Date  Distance  Postcode  ...  state  zipcode  \\\n",
       "0   2016-03-12 00:00:00.000000       2.5    3067.0  ...    VIC   3067.0   \n",
       "1   2016-03-12 00:00:00.000000       2.5    3067.0  ...    VIC   3067.0   \n",
       "2   2016-03-12 00:00:00.000000       2.5    3067.0  ...    VIC   3067.0   \n",
       "3   2016-03-12 00:00:00.000000       2.5    3067.0  ...    VIC   3067.0   \n",
       "4   2016-03-12 00:00:00.000000       2.5    3067.0  ...    VIC   3067.0   \n",
       "..                         ...       ...       ...  ...    ...      ...   \n",
       "95  2016-03-12 00:00:00.000000       2.5    3067.0  ...    VIC   3067.0   \n",
       "96  2016-03-12 00:00:00.000000       2.5    3067.0  ...    VIC   3067.0   \n",
       "97  2016-03-12 00:00:00.000000       2.5    3067.0  ...    VIC   3067.0   \n",
       "98  2016-03-12 00:00:00.000000       2.5    3067.0  ...    VIC   3067.0   \n",
       "99  2016-03-12 00:00:00.000000       2.5    3067.0  ...    VIC   3067.0   \n",
       "\n",
       "     latitude   longitude price weekly_price monthly_price  zipcode_int  \\\n",
       "0  -37.810196  145.008976   125          NaN           NaN         3067   \n",
       "1  -37.810981  145.014269    96          NaN           NaN         3067   \n",
       "2  -37.809320  144.991833   100          NaN           NaN         3067   \n",
       "3  -37.808998  144.992535    55          NaN           NaN         3067   \n",
       "4  -37.808703  144.992925    90          NaN           NaN         3067   \n",
       "..        ...         ...   ...          ...           ...          ...   \n",
       "95 -37.804382  144.996753   138        831.0        3461.0         3067   \n",
       "96 -37.803140  144.999114    46        300.0           NaN         3067   \n",
       "97 -37.801900  144.999080   101          NaN           NaN         3067   \n",
       "98 -37.802802  144.997031   150          NaN           NaN         3067   \n",
       "99 -37.808142  144.997738    55        250.0        1000.0         3067   \n",
       "\n",
       "    weekly_price_calculate monthly_price_calculate  \n",
       "0                    875.0                  3750.0  \n",
       "1                    672.0                  2880.0  \n",
       "2                    700.0                  3000.0  \n",
       "3                    385.0                  1650.0  \n",
       "4                    630.0                  2700.0  \n",
       "..                     ...                     ...  \n",
       "95                   831.0                  3461.0  \n",
       "96                   300.0                  1380.0  \n",
       "97                   707.0                  3030.0  \n",
       "98                  1050.0                  4500.0  \n",
       "99                   250.0                  1000.0  \n",
       "\n",
       "[100 rows x 38 columns]"
      ]
     },
     "execution_count": 36,
     "metadata": {},
     "output_type": "execute_result"
    }
   ],
   "source": [
    "queryJoin = \"\"\"\n",
    "select m.*, a.*\n",
    "from melb m \n",
    "left join airbnb a \n",
    "    on m.Postcode_int = a.zipcode_int\n",
    "LIMIT 100\n",
    "\"\"\"\n",
    "resultJoin = pd.read_sql(queryJoin, con=engine)\n",
    "resultJoin"
   ]
  },
  {
   "cell_type": "markdown",
   "id": "c5468c4f-5cdf-4df4-a317-60e1fb0c00db",
   "metadata": {
    "id": "c5468c4f-5cdf-4df4-a317-60e1fb0c00db"
   },
   "source": [
    "## Ejercicio 2 - Pandas:\n",
    "\n",
    "1. Seleccionar un subconjunto de columnas que les parezcan relevantes al problema de predicción del valor de la propiedad. Justificar explicitamente las columnas seleccionadas y las que no lo fueron.\n",
    "  1. Valores faltantes: ¿Qué porcentaje de filas tienen al menos un valor faltante?\n",
    "  2.  Mostrar la dispersión o distribución de las columnas seleccionadas.\n",
    " 3.  Eliminar los valores extremos que no sean relevantes para la predicción de valores de las propiedades.\n",
    " 4. Mostrar visualmente los valores extremos que eliminás\n",
    "\n",
    "\n",
    "\n",
    "2. Agregar información adicional respectiva al entorno de una propiedad a partir del [conjunto de datos de AirBnB](https://www.kaggle.com/tylerx/melbourne-airbnb-open-data?select=cleansed_listings_dec18.csv) utilizado en el práctico.\n",
    "  1. Seleccionar qué variables agregar y qué combinaciones aplicar a cada una. Por ejemplo, pueden utilizar solo la columna `price`, o aplicar múltiples transformaciones como la mediana (porque no la media?) o el mínimo.\n",
    "  2. Utilizar la variable zipcode para unir los conjuntos de datos. Sólo incluir los zipcodes que tengan una cantidad mínima de registros (a elección) como para que la información agregada sea relevante.\n",
    "  3. Mostrar un gráfico zipcode vs airbnb_price_median.\n",
    "  4. Investigar al menos otras 2 variables que puedan servir para combinar los datos, y justificar si serían adecuadas o no. Pueden asumir que cuentan con la ayuda de anotadores expertos para encontrar equivalencias entre barrios o direcciones, o que cuentan con algoritmos para encontrar las n ubicaciones más cercanas a una propiedad a partir de sus coordenadas geográficas. **NO** es necesario que realicen la implementación.\n",
    "  5. Si las coordenadas geoespaciales estuvieran disponibles, como las usarian?\n",
    "\n",
    "Pueden leer otras columnas del conjunto de AirBnB además de las que están en `interesting_cols`, si les parecen relevantes.\n",
    "\n",
    "¿Qué cosas no están en los datos que te gustaría tener para predecir mejor el precio de una propiedad?"
   ]
  },
  {
   "cell_type": "code",
   "execution_count": 37,
   "id": "a594be67",
   "metadata": {},
   "outputs": [
    {
     "data": {
      "text/html": [
       "<div>\n",
       "<style scoped>\n",
       "    .dataframe tbody tr th:only-of-type {\n",
       "        vertical-align: middle;\n",
       "    }\n",
       "\n",
       "    .dataframe tbody tr th {\n",
       "        vertical-align: top;\n",
       "    }\n",
       "\n",
       "    .dataframe thead th {\n",
       "        text-align: right;\n",
       "    }\n",
       "</style>\n",
       "<table border=\"1\" class=\"dataframe\">\n",
       "  <thead>\n",
       "    <tr style=\"text-align: right;\">\n",
       "      <th></th>\n",
       "      <th>Regionname</th>\n",
       "      <th>total</th>\n",
       "      <th>precio_promedio</th>\n",
       "      <th>precio_median</th>\n",
       "      <th>precio_max</th>\n",
       "      <th>precio_min</th>\n",
       "    </tr>\n",
       "  </thead>\n",
       "  <tbody>\n",
       "    <tr>\n",
       "      <th>5</th>\n",
       "      <td>Southern Metropolitan</td>\n",
       "      <td>4695</td>\n",
       "      <td>1.372963e+06</td>\n",
       "      <td>1250000.0</td>\n",
       "      <td>8000000.0</td>\n",
       "      <td>131000.0</td>\n",
       "    </tr>\n",
       "    <tr>\n",
       "      <th>2</th>\n",
       "      <td>Northern Metropolitan</td>\n",
       "      <td>3890</td>\n",
       "      <td>8.981711e+05</td>\n",
       "      <td>806250.0</td>\n",
       "      <td>4525000.0</td>\n",
       "      <td>145000.0</td>\n",
       "    </tr>\n",
       "    <tr>\n",
       "      <th>6</th>\n",
       "      <td>Western Metropolitan</td>\n",
       "      <td>2948</td>\n",
       "      <td>8.664205e+05</td>\n",
       "      <td>793000.0</td>\n",
       "      <td>3900000.0</td>\n",
       "      <td>85000.0</td>\n",
       "    </tr>\n",
       "    <tr>\n",
       "      <th>0</th>\n",
       "      <td>Eastern Metropolitan</td>\n",
       "      <td>1471</td>\n",
       "      <td>1.104080e+06</td>\n",
       "      <td>1010000.0</td>\n",
       "      <td>4000000.0</td>\n",
       "      <td>288000.0</td>\n",
       "    </tr>\n",
       "    <tr>\n",
       "      <th>4</th>\n",
       "      <td>South-Eastern Metropolitan</td>\n",
       "      <td>450</td>\n",
       "      <td>9.229438e+05</td>\n",
       "      <td>850000.0</td>\n",
       "      <td>9000000.0</td>\n",
       "      <td>266000.0</td>\n",
       "    </tr>\n",
       "    <tr>\n",
       "      <th>1</th>\n",
       "      <td>Eastern Victoria</td>\n",
       "      <td>53</td>\n",
       "      <td>6.999808e+05</td>\n",
       "      <td>670000.0</td>\n",
       "      <td>1085000.0</td>\n",
       "      <td>400000.0</td>\n",
       "    </tr>\n",
       "    <tr>\n",
       "      <th>3</th>\n",
       "      <td>Northern Victoria</td>\n",
       "      <td>41</td>\n",
       "      <td>5.948293e+05</td>\n",
       "      <td>540000.0</td>\n",
       "      <td>1355000.0</td>\n",
       "      <td>330000.0</td>\n",
       "    </tr>\n",
       "    <tr>\n",
       "      <th>7</th>\n",
       "      <td>Western Victoria</td>\n",
       "      <td>32</td>\n",
       "      <td>3.975234e+05</td>\n",
       "      <td>400000.0</td>\n",
       "      <td>710000.0</td>\n",
       "      <td>280500.0</td>\n",
       "    </tr>\n",
       "  </tbody>\n",
       "</table>\n",
       "</div>"
      ],
      "text/plain": [
       "                   Regionname  total  precio_promedio  precio_median  \\\n",
       "5       Southern Metropolitan   4695     1.372963e+06      1250000.0   \n",
       "2       Northern Metropolitan   3890     8.981711e+05       806250.0   \n",
       "6        Western Metropolitan   2948     8.664205e+05       793000.0   \n",
       "0        Eastern Metropolitan   1471     1.104080e+06      1010000.0   \n",
       "4  South-Eastern Metropolitan    450     9.229438e+05       850000.0   \n",
       "1            Eastern Victoria     53     6.999808e+05       670000.0   \n",
       "3           Northern Victoria     41     5.948293e+05       540000.0   \n",
       "7            Western Victoria     32     3.975234e+05       400000.0   \n",
       "\n",
       "   precio_max  precio_min  \n",
       "5   8000000.0    131000.0  \n",
       "2   4525000.0    145000.0  \n",
       "6   3900000.0     85000.0  \n",
       "0   4000000.0    288000.0  \n",
       "4   9000000.0    266000.0  \n",
       "1   1085000.0    400000.0  \n",
       "3   1355000.0    330000.0  \n",
       "7    710000.0    280500.0  "
      ]
     },
     "execution_count": 37,
     "metadata": {},
     "output_type": "execute_result"
    }
   ],
   "source": [
    "melb_df.groupby('Regionname').agg(\n",
    "    total=('Price', 'count'),\n",
    "    precio_promedio=('Price', 'mean'),\n",
    "    precio_median=('Price', 'median'),\n",
    "    precio_max=('Price', 'max'),\n",
    "    precio_min=('Price', 'min')\n",
    ").reset_index().sort_values('total', ascending=False)\n"
   ]
  },
  {
   "cell_type": "code",
   "execution_count": 38,
   "id": "de0d2a80",
   "metadata": {},
   "outputs": [
    {
     "name": "stdout",
     "output_type": "stream",
     "text": [
      "2025-05-26 21:38:18,850 INFO sqlalchemy.engine.Engine BEGIN (implicit)\n",
      "2025-05-26 21:38:18,851 INFO sqlalchemy.engine.Engine select * from melb\n",
      "2025-05-26 21:38:18,852 INFO sqlalchemy.engine.Engine [raw sql] ()\n",
      "2025-05-26 21:38:18,964 INFO sqlalchemy.engine.Engine ROLLBACK\n"
     ]
    },
    {
     "data": {
      "text/plain": [
       "Price            1.000000\n",
       "Rooms            0.496634\n",
       "Bedroom2         0.475951\n",
       "Bathroom         0.467038\n",
       "YearBuilt        0.323617\n",
       "Car              0.234825\n",
       "Lattitude        0.212934\n",
       "Longtitude       0.203656\n",
       "Distance         0.162522\n",
       "Postcode         0.107867\n",
       "Postcode_int     0.107867\n",
       "BuildingArea     0.090981\n",
       "Propertycount    0.042153\n",
       "Landsize         0.037507\n",
       "Name: Price, dtype: float64"
      ]
     },
     "execution_count": 38,
     "metadata": {},
     "output_type": "execute_result"
    }
   ],
   "source": [
    "#1 -Seleccionar un subconjunto de columnas que les parezcan relevantes al problema de predicción del valor de la propiedad. Justificar explicitamente las columnas seleccionadas y las que no lo fueron.\n",
    "\n",
    "#Vamos a utilizar la columnas Price, Rooms, Bedroom2 y bathroom ya que tienen una buena correlacion con el precio de las propiedades\n",
    "queryEjercicio2 = \"select * from melb\"\n",
    "resultCorrelacion = pd.read_sql_query(queryEjercicio2, engine).select_dtypes(include=[np.number]).corr().abs()\n",
    "resultCorrelacion['Price'].sort_values(ascending=False)\n"
   ]
  },
  {
   "cell_type": "code",
   "execution_count": 39,
   "id": "20cd0ab8",
   "metadata": {},
   "outputs": [
    {
     "data": {
      "image/png": "[encoded data removed]",
      "text/plain": [
       "<Figure size 1000x800 with 2 Axes>"
      ]
     },
     "metadata": {},
     "output_type": "display_data"
    }
   ],
   "source": [
    "# grafico que representa la correlacion entre las variables\n",
    "plt.figure(figsize=(10, 8))\n",
    "seaborn.heatmap(resultCorrelacion, annot=True, cmap='coolwarm', fmt=\".2f\", linewidths=.5, annot_kws={\"size\": 8})\n",
    "plt.title('Correlación entre variables')\n",
    "plt.show()\n"
   ]
  },
  {
   "cell_type": "code",
   "execution_count": 40,
   "id": "a7cd706a",
   "metadata": {},
   "outputs": [
    {
     "name": "stdout",
     "output_type": "stream",
     "text": [
      "2025-05-26 21:38:42,583 INFO sqlalchemy.engine.Engine BEGIN (implicit)\n",
      "2025-05-26 21:38:42,587 INFO sqlalchemy.engine.Engine PRAGMA main.table_info(\"select Price, Rooms, Bedroom2, Bathroom  from melb\")\n",
      "2025-05-26 21:38:42,589 INFO sqlalchemy.engine.Engine [raw sql] ()\n",
      "2025-05-26 21:38:42,594 INFO sqlalchemy.engine.Engine PRAGMA temp.table_info(\"select Price, Rooms, Bedroom2, Bathroom  from melb\")\n",
      "2025-05-26 21:38:42,595 INFO sqlalchemy.engine.Engine [raw sql] ()\n",
      "2025-05-26 21:38:42,597 INFO sqlalchemy.engine.Engine select Price, Rooms, Bedroom2, Bathroom  from melb\n",
      "2025-05-26 21:38:42,598 INFO sqlalchemy.engine.Engine [raw sql] ()\n",
      "2025-05-26 21:38:42,655 INFO sqlalchemy.engine.Engine ROLLBACK\n",
      "\n",
      "Total de filas con al menos un valor faltante en su columna: 0.00%\n",
      "<class 'pandas.core.frame.DataFrame'>\n",
      "RangeIndex: 13580 entries, 0 to 13579\n",
      "Data columns (total 4 columns):\n",
      " #   Column    Non-Null Count  Dtype  \n",
      "---  ------    --------------  -----  \n",
      " 0   Price     13580 non-null  float64\n",
      " 1   Rooms     13580 non-null  int64  \n",
      " 2   Bedroom2  13580 non-null  int64  \n",
      " 3   Bathroom  13580 non-null  int64  \n",
      "dtypes: float64(1), int64(3)\n",
      "memory usage: 424.5 KB\n"
     ]
    }
   ],
   "source": [
    "# Valores faltantes: ¿Qué porcentaje de filas tienen al menos un valor faltante?\n",
    "quereSelectedColumns = \"select Price, Rooms, Bedroom2, Bathroom  from melb\"\n",
    "rows = pd.read_sql(quereSelectedColumns, con=engine)\n",
    "\n",
    "totalValorFaltante = 0\n",
    "\n",
    "for idx, fila in rows.iterrows():\n",
    "    if fila.isnull().any():\n",
    "        totalValorFaltante += 1\n",
    "        continue\n",
    "\n",
    "print(f\"\\nTotal de filas con al menos un valor faltante en su columna: {totalValorFaltante / len(rows) * 100:.2f}%\")\n",
    "\n",
    "rows.info()"
   ]
  },
  {
   "cell_type": "code",
   "execution_count": 43,
   "id": "bf50909a",
   "metadata": {},
   "outputs": [
    {
     "name": "stdout",
     "output_type": "stream",
     "text": [
      "2025-05-26 21:40:07,255 INFO sqlalchemy.engine.Engine BEGIN (implicit)\n",
      "2025-05-26 21:40:07,256 INFO sqlalchemy.engine.Engine PRAGMA main.table_info(\"select * from melb\")\n",
      "2025-05-26 21:40:07,256 INFO sqlalchemy.engine.Engine [raw sql] ()\n",
      "2025-05-26 21:40:07,257 INFO sqlalchemy.engine.Engine PRAGMA temp.table_info(\"select * from melb\")\n",
      "2025-05-26 21:40:07,257 INFO sqlalchemy.engine.Engine [raw sql] ()\n",
      "2025-05-26 21:40:07,258 INFO sqlalchemy.engine.Engine select * from melb\n",
      "2025-05-26 21:40:07,259 INFO sqlalchemy.engine.Engine [raw sql] ()\n",
      "2025-05-26 21:40:07,344 INFO sqlalchemy.engine.Engine ROLLBACK\n"
     ]
    },
    {
     "data": {
      "text/html": [
       "<div>\n",
       "<style scoped>\n",
       "    .dataframe tbody tr th:only-of-type {\n",
       "        vertical-align: middle;\n",
       "    }\n",
       "\n",
       "    .dataframe tbody tr th {\n",
       "        vertical-align: top;\n",
       "    }\n",
       "\n",
       "    .dataframe thead th {\n",
       "        text-align: right;\n",
       "    }\n",
       "</style>\n",
       "<table border=\"1\" class=\"dataframe\">\n",
       "  <thead>\n",
       "    <tr style=\"text-align: right;\">\n",
       "      <th></th>\n",
       "      <th>Price</th>\n",
       "      <th>Rooms</th>\n",
       "      <th>Bedroom2</th>\n",
       "      <th>Bathroom</th>\n",
       "      <th>Regionname</th>\n",
       "    </tr>\n",
       "  </thead>\n",
       "  <tbody>\n",
       "    <tr>\n",
       "      <th>2652</th>\n",
       "      <td>85000.0</td>\n",
       "      <td>1</td>\n",
       "      <td>1</td>\n",
       "      <td>1</td>\n",
       "      <td>Western Metropolitan</td>\n",
       "    </tr>\n",
       "    <tr>\n",
       "      <th>1805</th>\n",
       "      <td>131000.0</td>\n",
       "      <td>4</td>\n",
       "      <td>4</td>\n",
       "      <td>1</td>\n",
       "      <td>Southern Metropolitan</td>\n",
       "    </tr>\n",
       "    <tr>\n",
       "      <th>7303</th>\n",
       "      <td>145000.0</td>\n",
       "      <td>1</td>\n",
       "      <td>2</td>\n",
       "      <td>1</td>\n",
       "      <td>Western Metropolitan</td>\n",
       "    </tr>\n",
       "    <tr>\n",
       "      <th>1927</th>\n",
       "      <td>145000.0</td>\n",
       "      <td>4</td>\n",
       "      <td>3</td>\n",
       "      <td>1</td>\n",
       "      <td>Northern Metropolitan</td>\n",
       "    </tr>\n",
       "    <tr>\n",
       "      <th>7940</th>\n",
       "      <td>160000.0</td>\n",
       "      <td>1</td>\n",
       "      <td>1</td>\n",
       "      <td>1</td>\n",
       "      <td>Southern Metropolitan</td>\n",
       "    </tr>\n",
       "    <tr>\n",
       "      <th>...</th>\n",
       "      <td>...</td>\n",
       "      <td>...</td>\n",
       "      <td>...</td>\n",
       "      <td>...</td>\n",
       "      <td>...</td>\n",
       "    </tr>\n",
       "    <tr>\n",
       "      <th>12557</th>\n",
       "      <td>6400000.0</td>\n",
       "      <td>5</td>\n",
       "      <td>5</td>\n",
       "      <td>2</td>\n",
       "      <td>Southern Metropolitan</td>\n",
       "    </tr>\n",
       "    <tr>\n",
       "      <th>3616</th>\n",
       "      <td>6500000.0</td>\n",
       "      <td>6</td>\n",
       "      <td>6</td>\n",
       "      <td>6</td>\n",
       "      <td>Southern Metropolitan</td>\n",
       "    </tr>\n",
       "    <tr>\n",
       "      <th>9575</th>\n",
       "      <td>7650000.0</td>\n",
       "      <td>4</td>\n",
       "      <td>4</td>\n",
       "      <td>2</td>\n",
       "      <td>Southern Metropolitan</td>\n",
       "    </tr>\n",
       "    <tr>\n",
       "      <th>7692</th>\n",
       "      <td>8000000.0</td>\n",
       "      <td>5</td>\n",
       "      <td>5</td>\n",
       "      <td>5</td>\n",
       "      <td>Southern Metropolitan</td>\n",
       "    </tr>\n",
       "    <tr>\n",
       "      <th>12094</th>\n",
       "      <td>9000000.0</td>\n",
       "      <td>3</td>\n",
       "      <td>3</td>\n",
       "      <td>1</td>\n",
       "      <td>South-Eastern Metropolitan</td>\n",
       "    </tr>\n",
       "  </tbody>\n",
       "</table>\n",
       "<p>13580 rows × 5 columns</p>\n",
       "</div>"
      ],
      "text/plain": [
       "           Price  Rooms  Bedroom2  Bathroom                  Regionname\n",
       "2652     85000.0      1         1         1        Western Metropolitan\n",
       "1805    131000.0      4         4         1       Southern Metropolitan\n",
       "7303    145000.0      1         2         1        Western Metropolitan\n",
       "1927    145000.0      4         3         1       Northern Metropolitan\n",
       "7940    160000.0      1         1         1       Southern Metropolitan\n",
       "...          ...    ...       ...       ...                         ...\n",
       "12557  6400000.0      5         5         2       Southern Metropolitan\n",
       "3616   6500000.0      6         6         6       Southern Metropolitan\n",
       "9575   7650000.0      4         4         2       Southern Metropolitan\n",
       "7692   8000000.0      5         5         5       Southern Metropolitan\n",
       "12094  9000000.0      3         3         1  South-Eastern Metropolitan\n",
       "\n",
       "[13580 rows x 5 columns]"
      ]
     },
     "execution_count": 43,
     "metadata": {},
     "output_type": "execute_result"
    }
   ],
   "source": [
    "columnasSeleccionadas = ['Price', 'Rooms', 'Bedroom2', 'Bathroom','Regionname']\n",
    "result = pd.read_sql(queryEjercicio2, con=engine)[columnasSeleccionadas]\n",
    "result.sort_values(by='Price', ascending=True)\n"
   ]
  },
  {
   "cell_type": "code",
   "execution_count": 52,
   "id": "2c2bc94a",
   "metadata": {},
   "outputs": [
    {
     "data": {
      "image/png": "[encoded data removed]",
      "text/plain": [
       "<Figure size 3500x1000 with 4 Axes>"
      ]
     },
     "metadata": {},
     "output_type": "display_data"
    }
   ],
   "source": [
    "# 2.  Mostrar la dispersión o distribución de las columnas seleccionadas.\n",
    "\n",
    "from matplotlib.ticker import FuncFormatter\n",
    "from matplotlib.ticker import MaxNLocator\n",
    "\n",
    "# Formateador para mostrar los precios en millones\n",
    "def millones(x, pos):\n",
    "    return f'{x * 1e-6:.1f}'\n",
    "\n",
    "formatter = FuncFormatter(millones)\n",
    "\n",
    "# Asegurar que 'Bedroom2' y Bathroom sean categóricas para evitar decimales en el eje x\n",
    "result['Bedroom2'] = result['Bedroom2'].astype(int).astype(str)\n",
    "result['Bathroom'] = result['Bathroom'].astype(int).astype(str)\n",
    "\n",
    "# Crear una figura con 1 fila y 3 columnas para los gráficos\n",
    "fig, axes = plt.subplots(1, 4, figsize=(35, 10))  # Ajusta el figsize según necesidad\n",
    "\n",
    "# Gráfico Rooms vs Price en el primer subplot (índice 0)\n",
    "seaborn.boxenplot(x='Rooms', y='Price', data=result, ax=axes[0])\n",
    "axes[0].yaxis.set_major_formatter(formatter)\n",
    "axes[0].axhline(y=5.5e6, color='red', linestyle='--', linewidth=1)  # Línea horizontal\n",
    "axes[0].set_title('Dispersion: Rooms vs Price')\n",
    "axes[0].set_xlabel('Rooms')\n",
    "axes[0].set_ylabel('Price (millions USD)')\n",
    "\n",
    "# Gráfico Bedroom2 vs Price en el segundo subplot (índice 1)\n",
    "seaborn.boxenplot(x='Bedroom2', y='Price', data=result, ax=axes[1])\n",
    "axes[1].yaxis.set_major_formatter(formatter)\n",
    "axes[1].axhline(y=5.5e6, color='red', linestyle='--', linewidth=1)  # Línea horizontal\n",
    "axes[1].set_title('Dispersion: Bedroom2 vs Price')\n",
    "axes[1].set_xlabel('Number of Bedrooms')\n",
    "axes[1].set_ylabel('Price (millions USD)')\n",
    "\n",
    "# Gráfico Bathroom vs Price en el tercer subplot (índice 2)\n",
    "seaborn.boxenplot(x='Bathroom', y='Price', data=result, ax=axes[2])\n",
    "axes[2].yaxis.set_major_formatter(formatter)\n",
    "axes[2].axhline(y=5.5e6, color='red', linestyle='--', linewidth=1)  # Línea horizontal\n",
    "axes[2].set_title('Dispersion: Bathroom vs Price')\n",
    "axes[2].set_xlabel('Number of Bathrooms')\n",
    "axes[2].set_ylabel('Price (millions USD)')\n",
    "\n",
    "# Gráfico Bathroom vs Price en el tercer subplot (índice 2)\n",
    "seaborn.boxenplot(x='Regionname', y='Price', data=result, ax=axes[3])\n",
    "axes[3].yaxis.set_major_formatter(formatter)\n",
    "axes[3].axhline(y=5.5e6, color='red', linestyle='--', linewidth=1)  # Línea horizontal\n",
    "axes[3].set_title('Dispersion: Regionname vs Price')\n",
    "axes[3].set_xlabel('Number of Regionname')\n",
    "axes[3].set_ylabel('Price (millions USD)')\n",
    "axes[3].tick_params(axis='x', rotation=90)  # Rotar etiquetas del eje x para mejor visibilidad\n",
    "\n",
    "\n",
    "plt.tight_layout()\n",
    "plt.show()"
   ]
  },
  {
   "cell_type": "code",
   "execution_count": 53,
   "id": "df81b356",
   "metadata": {},
   "outputs": [
    {
     "name": "stdout",
     "output_type": "stream",
     "text": [
      "2025-05-26 21:48:48,625 INFO sqlalchemy.engine.Engine BEGIN (implicit)\n",
      "2025-05-26 21:48:48,640 INFO sqlalchemy.engine.Engine PRAGMA main.table_info(\"select m.*, a.weekly_price, a.monthly_price from melb m left join airbnb a on m.postcode = a.zipcode\")\n",
      "2025-05-26 21:48:48,647 INFO sqlalchemy.engine.Engine [raw sql] ()\n",
      "2025-05-26 21:48:48,648 INFO sqlalchemy.engine.Engine PRAGMA temp.table_info(\"select m.*, a.weekly_price, a.monthly_price from melb m left join airbnb a on m.postcode = a.zipcode\")\n",
      "2025-05-26 21:48:48,648 INFO sqlalchemy.engine.Engine [raw sql] ()\n",
      "2025-05-26 21:48:48,649 INFO sqlalchemy.engine.Engine select m.*, a.weekly_price, a.monthly_price from melb m left join airbnb a on m.postcode = a.zipcode\n",
      "2025-05-26 21:48:48,649 INFO sqlalchemy.engine.Engine [raw sql] ()\n",
      "2025-05-26 21:49:22,307 INFO sqlalchemy.engine.Engine ROLLBACK\n"
     ]
    },
    {
     "data": {
      "image/png": "[encoded data removed]",
      "text/plain": [
       "<Figure size 3500x1000 with 4 Axes>"
      ]
     },
     "metadata": {},
     "output_type": "display_data"
    }
   ],
   "source": [
    "#Eliminar valores atípicos de propiedades con valores mayor a 6 millones y graficar\n",
    "\n",
    "# Formateador para mostrar los precios en millones\n",
    "def millones(x, pos):\n",
    "    return f'{x * 1e-6:.1f}' # Added 'M' for clarity\n",
    "\n",
    "formatter = FuncFormatter(millones)\n",
    "\n",
    "pd.set_option('display.float_format', lambda x: '%.2f' % x)\n",
    "\n",
    "queryJoin = \"select m.*, a.weekly_price, a.monthly_price from melb m left join airbnb a on m.postcode = a.zipcode\"\n",
    "resultJoin_unfiltered = pd.read_sql(queryJoin, con=engine)\n",
    "\n",
    "# Calcula el cuantil en la columna 'Price' de los datos unidos sin filtrar\n",
    "quantile = resultJoin_unfiltered['Price'].quantile(0.90)\n",
    "\n",
    "# Filtra los datos unidos basándose en el cuantil calculado\n",
    "resultJoin_filtered = resultJoin_unfiltered[resultJoin_unfiltered['Price'] < quantile].copy()\n",
    "\n",
    "# Crear una figura con 1 fila y 4 columnas para los gráficos\n",
    "fig, axes = plt.subplots(1, 4, figsize=(35, 10))  # Ajusta el figsize según sea necesario\n",
    "\n",
    "# Gráfico Rooms vs Price en el primer subplot (índice 0)\n",
    "resultJoin_filtered['Rooms'] = resultJoin_filtered['Rooms'].fillna(-1).astype(int).astype(str)\n",
    "seaborn.boxenplot(x='Rooms', y='Price', data=resultJoin_filtered, ax=axes[0])\n",
    "axes[0].yaxis.set_major_formatter(formatter) # Apply the 'millones' formatter\n",
    "axes[0].set_title('Distribución sin valores extremos: Rooms vs Price')\n",
    "axes[0].set_xlabel('Rooms')\n",
    "axes[0].set_ylabel('Price (millions USD)')\n",
    "\n",
    "# Gráfico Bedroom2 vs Price en el segundo subplot (índice 1)\n",
    "seaborn.boxenplot(x='Bedroom2', y='Price', data=resultJoin_filtered, ax=axes[1])\n",
    "axes[1].yaxis.set_major_formatter(formatter) # Apply the 'millones' formatter\n",
    "axes[1].set_title('Distribución sin valores extremos: Bedroom2 vs Price')\n",
    "axes[1].set_xlabel('Number of Bedrooms')\n",
    "axes[1].set_ylabel('Price (millions USD)')\n",
    "\n",
    "\n",
    "# Gráfico Bathroom vs Price en el tercer subplot (índice 2)\n",
    "seaborn.boxenplot(x='Bathroom', y='Price', data=resultJoin_filtered, ax=axes[2])\n",
    "axes[2].yaxis.set_major_formatter(formatter) # Apply the 'millones' formatter\n",
    "axes[2].set_title('Distribución sin valores extremos: Bathroom vs Price')\n",
    "axes[2].set_xlabel('Number of Bathrooms')\n",
    "axes[2].set_ylabel('Price (millions USD)')\n",
    "\n",
    "# Gráfico Regionname vs Price en el cuarto subplot (índice 3)\n",
    "seaborn.boxenplot(x='Regionname', y='Price', data=resultJoin_filtered, ax=axes[3])\n",
    "axes[3].yaxis.set_major_formatter(formatter) # Apply the 'millones' formatter\n",
    "axes[3].set_title('Distribución sin valores extremos: Regionname vs Price')\n",
    "axes[3].set_xlabel('Regionname')\n",
    "axes[3].set_ylabel('Price (millions USD)')\n",
    "axes[3].tick_params(axis='x', rotation=90)  # Rotar etiquetas del eje x para mejor visibilidad\n",
    "\n",
    "plt.tight_layout()\n",
    "plt.show()"
   ]
  },
  {
   "cell_type": "code",
   "execution_count": 54,
   "id": "3c06749f",
   "metadata": {},
   "outputs": [
    {
     "name": "stdout",
     "output_type": "stream",
     "text": [
      "2025-05-26 21:49:42,610 INFO sqlalchemy.engine.Engine BEGIN (implicit)\n",
      "2025-05-26 21:49:42,612 INFO sqlalchemy.engine.Engine PRAGMA main.table_info(\"select a.zipcode, count(*) as total from airbnb a inner join melb m on a.zipcode = m.Postcode group by a.zipcode having total > 1000\")\n",
      "2025-05-26 21:49:42,613 INFO sqlalchemy.engine.Engine [raw sql] ()\n",
      "2025-05-26 21:49:42,618 INFO sqlalchemy.engine.Engine PRAGMA temp.table_info(\"select a.zipcode, count(*) as total from airbnb a inner join melb m on a.zipcode = m.Postcode group by a.zipcode having total > 1000\")\n",
      "2025-05-26 21:49:42,618 INFO sqlalchemy.engine.Engine [raw sql] ()\n",
      "2025-05-26 21:49:42,619 INFO sqlalchemy.engine.Engine select a.zipcode, count(*) as total from airbnb a inner join melb m on a.zipcode = m.Postcode group by a.zipcode having total > 1000\n",
      "2025-05-26 21:49:42,619 INFO sqlalchemy.engine.Engine [raw sql] ()\n",
      "2025-05-26 21:49:43,275 INFO sqlalchemy.engine.Engine ROLLBACK\n",
      "2025-05-26 21:49:43,275 INFO sqlalchemy.engine.Engine BEGIN (implicit)\n",
      "2025-05-26 21:49:43,276 INFO sqlalchemy.engine.Engine PRAGMA main.table_info(\"select * from melb m inner join airbnb a on a.zipcode = m.Postcode where a.zipcode in (3000.0,3002.0,3003.0,3006.0,3008.0,3011.0,3012.0,3013.0,3015.0,3016.0,3018.0,3020.0,3021.0,3023.0,3029.0,3030.0,3031.0,3032.0,3033.0,3039.0,3040.0,3042.0,3043.0,3044.0,3046.0,3047.0,3051.0,3052.0,3053.0,3054.0,3055.0,3056.0,3057.0,3058.0,3064.0,3065.0,3066.0,3067.0,3068.0,3070.0,3071.0,3072.0,3073.0,3078.0,3079.0,3081.0,3083.0,3084.0,3095.0,3101.0,3103.0,3104.0,3105.0,3107.0,3108.0,3109.0,3121.0,3122.0,3123.0,3124.0,3125.0,3126.0,3127.0,3128.0,3130.0,3131.0,3132.0,3133.0,3134.0,3136.0,3141.0,3142.0,3143.0,3144.0,3145.0,3146.0,3147.0,3149.0,3150.0,3152.0,3161.0,3162.0,3163.0,3165.0,3166.0,3167.0,3168.0,3175.0,3181.0,3182.0,3183.0,3184.0,3185.0,3186.0,3187.0,3188.0,3190.0,3191.0,3192.0,3193.0,3195.0,3196.0,3199.0,3204.0,3205.0,3206.0,3207.0)\")\n",
      "2025-05-26 21:49:43,276 INFO sqlalchemy.engine.Engine [raw sql] ()\n",
      "2025-05-26 21:49:43,276 INFO sqlalchemy.engine.Engine PRAGMA temp.table_info(\"select * from melb m inner join airbnb a on a.zipcode = m.Postcode where a.zipcode in (3000.0,3002.0,3003.0,3006.0,3008.0,3011.0,3012.0,3013.0,3015.0,3016.0,3018.0,3020.0,3021.0,3023.0,3029.0,3030.0,3031.0,3032.0,3033.0,3039.0,3040.0,3042.0,3043.0,3044.0,3046.0,3047.0,3051.0,3052.0,3053.0,3054.0,3055.0,3056.0,3057.0,3058.0,3064.0,3065.0,3066.0,3067.0,3068.0,3070.0,3071.0,3072.0,3073.0,3078.0,3079.0,3081.0,3083.0,3084.0,3095.0,3101.0,3103.0,3104.0,3105.0,3107.0,3108.0,3109.0,3121.0,3122.0,3123.0,3124.0,3125.0,3126.0,3127.0,3128.0,3130.0,3131.0,3132.0,3133.0,3134.0,3136.0,3141.0,3142.0,3143.0,3144.0,3145.0,3146.0,3147.0,3149.0,3150.0,3152.0,3161.0,3162.0,3163.0,3165.0,3166.0,3167.0,3168.0,3175.0,3181.0,3182.0,3183.0,3184.0,3185.0,3186.0,3187.0,3188.0,3190.0,3191.0,3192.0,3193.0,3195.0,3196.0,3199.0,3204.0,3205.0,3206.0,3207.0)\")\n",
      "2025-05-26 21:49:43,276 INFO sqlalchemy.engine.Engine [raw sql] ()\n",
      "2025-05-26 21:49:43,277 INFO sqlalchemy.engine.Engine select * from melb m inner join airbnb a on a.zipcode = m.Postcode where a.zipcode in (3000.0,3002.0,3003.0,3006.0,3008.0,3011.0,3012.0,3013.0,3015.0,3016.0,3018.0,3020.0,3021.0,3023.0,3029.0,3030.0,3031.0,3032.0,3033.0,3039.0,3040.0,3042.0,3043.0,3044.0,3046.0,3047.0,3051.0,3052.0,3053.0,3054.0,3055.0,3056.0,3057.0,3058.0,3064.0,3065.0,3066.0,3067.0,3068.0,3070.0,3071.0,3072.0,3073.0,3078.0,3079.0,3081.0,3083.0,3084.0,3095.0,3101.0,3103.0,3104.0,3105.0,3107.0,3108.0,3109.0,3121.0,3122.0,3123.0,3124.0,3125.0,3126.0,3127.0,3128.0,3130.0,3131.0,3132.0,3133.0,3134.0,3136.0,3141.0,3142.0,3143.0,3144.0,3145.0,3146.0,3147.0,3149.0,3150.0,3152.0,3161.0,3162.0,3163.0,3165.0,3166.0,3167.0,3168.0,3175.0,3181.0,3182.0,3183.0,3184.0,3185.0,3186.0,3187.0,3188.0,3190.0,3191.0,3192.0,3193.0,3195.0,3196.0,3199.0,3204.0,3205.0,3206.0,3207.0)\n",
      "2025-05-26 21:49:43,277 INFO sqlalchemy.engine.Engine [raw sql] ()\n",
      "2025-05-26 21:58:21,240 INFO sqlalchemy.engine.Engine ROLLBACK\n"
     ]
    },
    {
     "data": {
      "image/png": "[encoded data removed]",
      "text/plain": [
       "<Figure size 1200x600 with 1 Axes>"
      ]
     },
     "metadata": {},
     "output_type": "display_data"
    }
   ],
   "source": [
    "# Agregar información adicional respectiva al entorno de una propiedad a partir del [conjunto de datos de AirBnB](https://www.kaggle.com/tylerx/melbourne-airbnb-open-data?select=cleansed_listings_dec18.csv) utilizado en el práctico.\n",
    "#   1. Seleccionar qué variables agregar y qué combinaciones aplicar a cada una. Por ejemplo, pueden utilizar solo la columna `price`, o aplicar múltiples transformaciones como la mediana (porque no la media?) o el mínimo.\n",
    "#   2. Utilizar la variable zipcode para unir los conjuntos de datos. Sólo incluir los zipcodes que tengan una cantidad mínima de registros (a elección) como para que la información agregada sea relevante.\n",
    "#   3. Mostrar un gráfico zipcode vs airbnb_price_median. ()\n",
    "#   4. Investigar al menos otras 2 variables que puedan servir para combinar los datos, y justificar si serían adecuadas o no. Pueden asumir que cuentan con la ayuda de anotadores expertos para encontrar equivalencias entre barrios o direcciones, o que cuentan con algoritmos para encontrar las n ubicaciones más cercanas a una propiedad a partir de sus coordenadas geográficas. **NO** es necesario que realicen la implementación.\n",
    "#   5. Si las coordenadas geoespaciales estuvieran disponibles, como las usarian?\n",
    "queryZipCode = \"select a.zipcode, count(*) as total from airbnb a inner join melb m on a.zipcode = m.Postcode group by a.zipcode having total > 1000\"\n",
    "resultJoin = pd.read_sql(queryZipCode, con=engine)\n",
    "zipcodes = resultJoin['zipcode'].tolist()\n",
    "zipcodes\n",
    "\n",
    "queryZipCodeClear = \"select * from melb m inner join airbnb a on a.zipcode = m.Postcode where a.zipcode in (\" + ','.join(map(str, zipcodes)) + \")\"\t\n",
    "resultqueryZipCodeClear = pd.read_sql(queryZipCodeClear, con=engine)\n",
    "resultqueryZipCodeClear\n",
    "\n",
    "# resultqueryZipCodeClear.groupby('zipcode').agg(\n",
    "#     total=('Price', 'count'),\n",
    "#     precio_promedio=('Price', 'mean'),\n",
    "#     precio_median=('Price', 'median')\n",
    "# ).reset_index().sort_values('total', ascending=False)\n",
    "\n",
    "df_zipcode = resultqueryZipCodeClear.groupby('zipcode', as_index=False)['Price'].mean().rename(columns={'Price': 'precio_promedio'})\n",
    "\n",
    "plt.figure(figsize=(12, 6))\n",
    "plt.bar(df_zipcode['zipcode'].astype(str), df_zipcode['precio_promedio'])\n",
    "plt.xlabel('Zipcode')\n",
    "plt.ylabel('Precio Promedio')\n",
    "plt.title('Precio promedio por Zipcode')\n",
    "plt.xticks(rotation=90)\n",
    "plt.tight_layout()\n",
    "plt.show()\n"
   ]
  },
  {
   "cell_type": "markdown",
   "id": "9e1394b8",
   "metadata": {},
   "source": [
    "-\tInvestigar al menos otras 2 variables que puedan servir para combinar los datos, y justificar si serían adecuadas o no. Pueden asumir que cuentan con la ayuda de anotadores expertos para encontrar equivalencias entre barrios o direcciones, o que cuentan con algoritmos para encontrar las n ubicaciones más cercanas a una propiedad a partir de sus coordenadas geográficas. NO es necesario que realicen la implementación.\n",
    "Si se contara con algún algoritmo capaz de encontrar ubicaciones cercanas a una propiedad se podría analizar la “accesibilidad al transporte público”, aspecto muy valorado al momento de alquilar o comprar una propiedad cuando no se posee un vehículo propio. Con esta información se podrían definir categorías como por ejemplo: \"menos de 300m\", \"entre 300m y 1km\", \"más de 1km”. En general, las propiedades con mejor conectividad suelen tener mayor demanda y precios más altos.\n",
    "Siguiendo bajo esta hipótesis, la “Distancia a x punto turístico” también sería relevante en el data set de AirBnB ya que generalmente al tratarse de alquileres temporales destinados a turismo suele ser un indicador clave de decisión al momento de elegir la propiedad, por lo tanto también incide en el precio de la propiedad\n",
    "-\tSi las coordenadas geoespaciales estuvieran disponibles, como las usarian?\n",
    "Si las coordenadas geoespaciales estuvieran disponibles podrían utilizarse de diferentes maneras para mejorar la predicción de precios. Por ejemplo, podría usarse para calcular un precio promedio dentro de un radio determinado, lo cual ayudaría a comprender mejor la zona, contextualizando la propiedad en su entorno sin tener la limitación del CP o el barrio.\n",
    "Además, las coordenadas permitirían calcular la distancia a diferentes puntos de interés, como escuelas, hospitales, puntos turísticos, entre otros. Esta información es muy valorada cuando se trata de alquileres temporarios ya que puede influir al momento de elegir el alojamiento. También puede ser clave al momento de tomar la decisión de comprar una propiedad, ya que se pueden visualizar los servicios disponibles y si es acorde al estilo de vida que desean los compradores.\n",
    "\n",
    "-\t¿Qué cosas no están en los datos que te gustaría tener para predecir mejor el precio de una propiedad?\n",
    "\n",
    "El uso de coordenadas geográficas posibilitaría incorporar variables espaciales más ricas y precisas, mejorando tanto la segmentación como la predicción de precios en contextos urbanos. (REVISAR)\n"
   ]
  },
  {
   "cell_type": "code",
   "execution_count": 49,
   "id": "c16b5504",
   "metadata": {},
   "outputs": [
    {
     "data": {
      "application/vnd.plotly.v1+json": {
       "config": {
        "plotlyServerURL": "https://plot.ly"
       },
       "data": [
        {
         "customdata": [
          [
           1980,
           "u",
           2,
           1
          ],
          [
           1910,
           "h",
           4,
           1
          ],
          [
           1970,
           "u",
           2,
           1
          ],
          [
           1980,
           "t",
           3,
           2
          ],
          [
           2002,
           "h",
           4,
           3
          ],
          [
           null,
           "h",
           3,
           1
          ],
          [
           null,
           "h",
           3,
           2
          ],
          [
           1920,
           "t",
           3,
           2
          ],
          [
           null,
           "h",
           4,
           3
          ],
          [
           null,
           "h",
           3,
           1
          ],
          [
           1965,
           "h",
           3,
           2
          ],
          [
           null,
           "h",
           2,
           1
          ],
          [
           null,
           "u",
           2,
           1
          ],
          [
           1995,
           "u",
           3,
           1
          ],
          [
           2015,
           "h",
           4,
           2
          ],
          [
           1975,
           "u",
           1,
           1
          ],
          [
           1967,
           "u",
           2,
           1
          ],
          [
           1910,
           "h",
           3,
           2
          ],
          [
           1950,
           "h",
           3,
           1
          ],
          [
           null,
           "h",
           3,
           1
          ],
          [
           1990,
           "h",
           4,
           3
          ],
          [
           1920,
           "h",
           4,
           2
          ],
          [
           null,
           "h",
           3,
           2
          ],
          [
           null,
           "h",
           3,
           1
          ],
          [
           null,
           "h",
           1,
           2
          ],
          [
           null,
           "u",
           2,
           1
          ],
          [
           2009,
           "t",
           2,
           2
          ],
          [
           1998,
           "u",
           3,
           2
          ],
          [
           null,
           "u",
           1,
           1
          ],
          [
           null,
           "h",
           4,
           2
          ],
          [
           1940,
           "h",
           4,
           1
          ],
          [
           1920,
           "h",
           3,
           1
          ],
          [
           1960,
           "h",
           3,
           2
          ],
          [
           1890,
           "h",
           2,
           1
          ],
          [
           1955,
           "h",
           3,
           1
          ],
          [
           1930,
           "h",
           4,
           2
          ],
          [
           1930,
           "h",
           5,
           3
          ],
          [
           null,
           "u",
           1,
           1
          ],
          [
           1960,
           "h",
           4,
           2
          ],
          [
           2012,
           "h",
           3,
           4
          ],
          [
           null,
           "h",
           3,
           2
          ],
          [
           null,
           "t",
           3,
           2
          ],
          [
           1930,
           "h",
           5,
           2
          ],
          [
           null,
           "h",
           4,
           2
          ],
          [
           1915,
           "h",
           4,
           2
          ],
          [
           1980,
           "h",
           3,
           1
          ],
          [
           2004,
           "h",
           2,
           1
          ],
          [
           null,
           "h",
           5,
           3
          ],
          [
           1995,
           "h",
           4,
           2
          ],
          [
           1960,
           "u",
           1,
           1
          ],
          [
           1920,
           "h",
           2,
           1
          ],
          [
           1890,
           "h",
           3,
           1
          ],
          [
           1929,
           "h",
           3,
           2
          ],
          [
           null,
           "h",
           4,
           2
          ],
          [
           1980,
           "h",
           3,
           1
          ],
          [
           1900,
           "h",
           1,
           1
          ],
          [
           1997,
           "t",
           2,
           1
          ],
          [
           1980,
           "u",
           2,
           1
          ],
          [
           null,
           "h",
           3,
           1
          ],
          [
           2014,
           "h",
           3,
           2
          ],
          [
           1998,
           "u",
           3,
           2
          ],
          [
           1960,
           "h",
           3,
           1
          ],
          [
           null,
           "u",
           1,
           1
          ],
          [
           2011,
           "h",
           2,
           1
          ],
          [
           1970,
           "h",
           4,
           2
          ],
          [
           2005,
           "u",
           3,
           2
          ],
          [
           2002,
           "h",
           4,
           3
          ],
          [
           1930,
           "h",
           2,
           1
          ],
          [
           null,
           "h",
           3,
           1
          ],
          [
           1960,
           "h",
           2,
           1
          ],
          [
           null,
           "h",
           2,
           1
          ],
          [
           2011,
           "u",
           2,
           1
          ],
          [
           null,
           "h",
           3,
           1
          ],
          [
           1960,
           "h",
           2,
           1
          ],
          [
           1950,
           "h",
           3,
           2
          ],
          [
           null,
           "h",
           2,
           1
          ],
          [
           null,
           "h",
           3,
           2
          ],
          [
           2011,
           "h",
           4,
           4
          ],
          [
           1950,
           "h",
           3,
           1
          ],
          [
           null,
           "u",
           2,
           1
          ],
          [
           null,
           "u",
           1,
           1
          ],
          [
           1950,
           "u",
           3,
           2
          ],
          [
           null,
           "u",
           2,
           2
          ],
          [
           null,
           "h",
           3,
           2
          ],
          [
           1920,
           "h",
           3,
           2
          ],
          [
           1900,
           "h",
           2,
           1
          ],
          [
           null,
           "h",
           2,
           1
          ],
          [
           null,
           "h",
           3,
           1
          ],
          [
           null,
           "h",
           4,
           1
          ],
          [
           null,
           "h",
           4,
           1
          ],
          [
           null,
           "h",
           4,
           2
          ],
          [
           1965,
           "h",
           4,
           1
          ],
          [
           2010,
           "u",
           2,
           2
          ],
          [
           null,
           "u",
           2,
           1
          ],
          [
           1920,
           "h",
           3,
           2
          ],
          [
           null,
           "h",
           3,
           2
          ],
          [
           2008,
           "h",
           3,
           2
          ],
          [
           null,
           "u",
           2,
           1
          ],
          [
           2012,
           "t",
           2,
           2
          ],
          [
           null,
           "u",
           2,
           1
          ],
          [
           null,
           "h",
           3,
           1
          ],
          [
           null,
           "h",
           4,
           2
          ],
          [
           null,
           "h",
           4,
           3
          ],
          [
           2000,
           "h",
           3,
           2
          ],
          [
           1950,
           "h",
           2,
           1
          ],
          [
           null,
           "h",
           5,
           3
          ],
          [
           2000,
           "h",
           3,
           1
          ],
          [
           null,
           "h",
           4,
           2
          ],
          [
           null,
           "h",
           3,
           2
          ],
          [
           null,
           "u",
           2,
           1
          ],
          [
           1950,
           "u",
           1,
           1
          ],
          [
           1960,
           "h",
           3,
           1
          ],
          [
           1950,
           "h",
           3,
           2
          ],
          [
           null,
           "h",
           4,
           4
          ],
          [
           1950,
           "h",
           4,
           3
          ],
          [
           2007,
           "u",
           2,
           1
          ],
          [
           2002,
           "u",
           3,
           1
          ],
          [
           null,
           "h",
           3,
           1
          ],
          [
           1995,
           "t",
           2,
           1
          ],
          [
           1915,
           "h",
           4,
           2
          ],
          [
           2003,
           "u",
           2,
           1
          ],
          [
           1935,
           "h",
           4,
           4
          ],
          [
           null,
           "h",
           4,
           1
          ],
          [
           null,
           "h",
           3,
           1
          ],
          [
           1980,
           "u",
           2,
           1
          ],
          [
           1900,
           "h",
           3,
           1
          ],
          [
           2010,
           "t",
           3,
           2
          ],
          [
           null,
           "h",
           4,
           2
          ],
          [
           1928,
           "h",
           2,
           1
          ],
          [
           1910,
           "h",
           3,
           1
          ],
          [
           1910,
           "h",
           2,
           1
          ],
          [
           null,
           "h",
           3,
           1
          ],
          [
           1975,
           "h",
           4,
           2
          ],
          [
           1965,
           "h",
           4,
           1
          ],
          [
           1980,
           "h",
           3,
           1
          ],
          [
           null,
           "h",
           4,
           2
          ],
          [
           1970,
           "h",
           3,
           1
          ],
          [
           1960,
           "h",
           3,
           2
          ],
          [
           null,
           "h",
           4,
           2
          ],
          [
           1970,
           "u",
           2,
           1
          ],
          [
           1950,
           "h",
           4,
           2
          ],
          [
           1960,
           "h",
           4,
           2
          ],
          [
           1970,
           "u",
           2,
           1
          ],
          [
           null,
           "t",
           3,
           2
          ],
          [
           1940,
           "h",
           4,
           1
          ],
          [
           null,
           "u",
           2,
           1
          ],
          [
           1995,
           "u",
           2,
           1
          ],
          [
           1960,
           "h",
           5,
           2
          ],
          [
           null,
           "h",
           3,
           1
          ],
          [
           1955,
           "h",
           4,
           1
          ],
          [
           null,
           "h",
           3,
           1
          ],
          [
           1960,
           "u",
           2,
           1
          ],
          [
           1930,
           "h",
           4,
           2
          ],
          [
           null,
           "t",
           3,
           2
          ],
          [
           1930,
           "h",
           3,
           1
          ],
          [
           null,
           "h",
           4,
           2
          ],
          [
           null,
           "h",
           3,
           1
          ],
          [
           2016,
           "h",
           2,
           1
          ],
          [
           1970,
           "u",
           2,
           1
          ],
          [
           1970,
           "h",
           2,
           1
          ],
          [
           1970,
           "u",
           2,
           1
          ],
          [
           1920,
           "h",
           4,
           2
          ],
          [
           null,
           "h",
           3,
           2
          ],
          [
           null,
           "u",
           2,
           1
          ],
          [
           1985,
           "h",
           4,
           2
          ],
          [
           1960,
           "u",
           2,
           1
          ],
          [
           1980,
           "h",
           5,
           4
          ],
          [
           null,
           "h",
           3,
           1
          ],
          [
           2009,
           "h",
           4,
           2
          ],
          [
           1960,
           "h",
           2,
           1
          ],
          [
           1970,
           "h",
           4,
           2
          ],
          [
           1880,
           "h",
           2,
           1
          ],
          [
           null,
           "h",
           3,
           1
          ],
          [
           2006,
           "t",
           3,
           2
          ],
          [
           1955,
           "u",
           3,
           1
          ],
          [
           2002,
           "h",
           4,
           2
          ],
          [
           1950,
           "h",
           3,
           2
          ],
          [
           null,
           "h",
           2,
           1
          ],
          [
           1930,
           "h",
           5,
           2
          ],
          [
           null,
           "h",
           5,
           2
          ],
          [
           1940,
           "h",
           4,
           2
          ],
          [
           null,
           "h",
           2,
           1
          ],
          [
           null,
           "u",
           3,
           2
          ],
          [
           null,
           "h",
           3,
           2
          ],
          [
           2013,
           "h",
           3,
           2
          ],
          [
           1930,
           "h",
           4,
           2
          ],
          [
           1910,
           "h",
           3,
           1
          ],
          [
           null,
           "h",
           3,
           1
          ],
          [
           1980,
           "h",
           3,
           2
          ],
          [
           null,
           "h",
           3,
           1
          ],
          [
           null,
           "h",
           2,
           1
          ],
          [
           null,
           "h",
           3,
           1
          ],
          [
           1957,
           "h",
           3,
           1
          ],
          [
           1920,
           "h",
           4,
           2
          ],
          [
           1980,
           "h",
           4,
           1
          ],
          [
           2016,
           "h",
           4,
           3
          ],
          [
           null,
           "t",
           3,
           3
          ],
          [
           1970,
           "h",
           3,
           1
          ],
          [
           1910,
           "h",
           2,
           1
          ],
          [
           1960,
           "h",
           3,
           2
          ],
          [
           null,
           "h",
           3,
           1
          ],
          [
           1920,
           "h",
           3,
           2
          ],
          [
           1965,
           "u",
           2,
           1
          ],
          [
           null,
           "h",
           4,
           2
          ],
          [
           1950,
           "h",
           3,
           1
          ],
          [
           1960,
           "h",
           4,
           1
          ],
          [
           1960,
           "u",
           1,
           1
          ],
          [
           null,
           "h",
           5,
           2
          ],
          [
           1970,
           "u",
           2,
           1
          ],
          [
           null,
           "t",
           3,
           3
          ],
          [
           2010,
           "h",
           3,
           2
          ],
          [
           2005,
           "h",
           2,
           1
          ],
          [
           null,
           "h",
           2,
           1
          ],
          [
           1960,
           "h",
           3,
           2
          ],
          [
           1950,
           "h",
           3,
           2
          ],
          [
           null,
           "h",
           3,
           1
          ],
          [
           1920,
           "h",
           4,
           1
          ],
          [
           2006,
           "t",
           4,
           2
          ],
          [
           null,
           "h",
           3,
           1
          ],
          [
           null,
           "u",
           2,
           1
          ],
          [
           1910,
           "h",
           4,
           2
          ],
          [
           1900,
           "h",
           2,
           1
          ],
          [
           null,
           "h",
           3,
           1
          ],
          [
           1978,
           "h",
           4,
           2
          ],
          [
           null,
           "h",
           3,
           1
          ],
          [
           null,
           "h",
           1,
           1
          ],
          [
           null,
           "h",
           3,
           1
          ],
          [
           2012,
           "h",
           2,
           2
          ],
          [
           1940,
           "u",
           2,
           1
          ],
          [
           1955,
           "h",
           2,
           1
          ],
          [
           2007,
           "t",
           3,
           2
          ],
          [
           null,
           "h",
           4,
           1
          ],
          [
           null,
           "h",
           4,
           1
          ],
          [
           1950,
           "h",
           2,
           1
          ],
          [
           null,
           "u",
           2,
           1
          ],
          [
           1985,
           "h",
           3,
           1
          ],
          [
           1995,
           "t",
           2,
           1
          ],
          [
           null,
           "h",
           4,
           3
          ],
          [
           1941,
           "h",
           3,
           1
          ],
          [
           null,
           "h",
           2,
           1
          ],
          [
           1900,
           "h",
           2,
           1
          ],
          [
           1970,
           "h",
           4,
           2
          ],
          [
           1990,
           "t",
           3,
           2
          ],
          [
           1900,
           "h",
           3,
           1
          ],
          [
           null,
           "h",
           3,
           1
          ],
          [
           1970,
           "u",
           2,
           1
          ],
          [
           1970,
           "u",
           2,
           1
          ],
          [
           1890,
           "h",
           3,
           2
          ],
          [
           null,
           "h",
           2,
           1
          ],
          [
           null,
           "h",
           5,
           3
          ],
          [
           1980,
           "h",
           3,
           1
          ],
          [
           null,
           "h",
           2,
           1
          ],
          [
           null,
           "h",
           4,
           2
          ],
          [
           null,
           "h",
           2,
           1
          ],
          [
           1925,
           "t",
           3,
           2
          ],
          [
           1910,
           "h",
           3,
           1
          ],
          [
           2014,
           "h",
           4,
           3
          ],
          [
           1890,
           "h",
           4,
           3
          ],
          [
           null,
           "t",
           3,
           1
          ],
          [
           null,
           "h",
           4,
           2
          ],
          [
           1890,
           "h",
           4,
           2
          ],
          [
           null,
           "h",
           3,
           2
          ],
          [
           1980,
           "h",
           3,
           2
          ],
          [
           null,
           "h",
           4,
           3
          ],
          [
           1970,
           "h",
           3,
           1
          ],
          [
           null,
           "h",
           3,
           2
          ],
          [
           null,
           "h",
           4,
           1
          ],
          [
           null,
           "t",
           2,
           1
          ],
          [
           null,
           "h",
           3,
           1
          ],
          [
           null,
           "u",
           1,
           1
          ],
          [
           1970,
           "h",
           3,
           1
          ],
          [
           2012,
           "t",
           3,
           2
          ],
          [
           2003,
           "u",
           3,
           2
          ],
          [
           1940,
           "h",
           3,
           1
          ],
          [
           2005,
           "t",
           3,
           2
          ],
          [
           null,
           "h",
           3,
           1
          ],
          [
           null,
           "t",
           2,
           2
          ],
          [
           1980,
           "h",
           2,
           1
          ],
          [
           null,
           "h",
           4,
           0
          ],
          [
           null,
           "h",
           3,
           1
          ],
          [
           null,
           "h",
           3,
           1
          ],
          [
           null,
           "h",
           2,
           1
          ],
          [
           1950,
           "h",
           2,
           1
          ],
          [
           null,
           "h",
           4,
           2
          ],
          [
           null,
           "h",
           4,
           2
          ],
          [
           1920,
           "h",
           3,
           2
          ],
          [
           null,
           "h",
           2,
           1
          ],
          [
           null,
           "h",
           3,
           1
          ],
          [
           1930,
           "h",
           2,
           1
          ],
          [
           null,
           "h",
           3,
           2
          ],
          [
           1980,
           "u",
           1,
           1
          ],
          [
           1980,
           "h",
           4,
           2
          ],
          [
           1970,
           "u",
           1,
           1
          ],
          [
           null,
           "u",
           3,
           1
          ],
          [
           null,
           "t",
           3,
           2
          ],
          [
           2000,
           "t",
           3,
           2
          ],
          [
           1940,
           "h",
           4,
           2
          ],
          [
           1970,
           "u",
           2,
           1
          ],
          [
           1890,
           "h",
           3,
           1
          ],
          [
           1980,
           "h",
           3,
           3
          ]
         ],
         "geo": "geo",
         "hovertemplate": "<b>%{hovertext}</b><br><br>Lattitude=%{lat}<br>Longtitude=%{lon}<br>YearBuilt=%{customdata[0]}<br>Type=%{customdata[1]}<br>Rooms=%{customdata[2]}<br>Bathroom=%{customdata[3]}<br>Price=%{marker.color}<extra></extra>",
         "hovertext": [
          "Brunswick West",
          "Camberwell",
          "Hawthorn East",
          "Kew",
          "Doncaster",
          "Newport",
          "Bentleigh",
          "North Melbourne",
          "Wheelers Hill",
          "Watsonia",
          "Bentleigh",
          "Heidelberg Heights",
          "Armadale",
          "Burwood",
          "Craigieburn",
          "St Kilda",
          "Mordialloc",
          "Brunswick West",
          "Altona North",
          "Epping",
          "Yallambie",
          "Mont Albert",
          "Port Melbourne",
          "Viewbank",
          "Hampton",
          "Hawthorn",
          "Kensington",
          "Brighton East",
          "Kingsville",
          "Ivanhoe",
          "Bentleigh East",
          "Balaclava",
          "Ivanhoe",
          "Brunswick East",
          "Sunshine",
          "Alphington",
          "Glen Iris",
          "Essendon",
          "Balwyn North",
          "Brighton East",
          "Carlton North",
          "Bentleigh East",
          "Bentleigh East",
          "Surrey Hills",
          "Caulfield North",
          "Frankston",
          "Northcote",
          "Hawthorn East",
          "Delahey",
          "Essendon",
          "Balwyn",
          "Coburg",
          "Hawthorn East",
          "South Morang",
          "Craigieburn",
          "Newport",
          "Kensington",
          "Lalor",
          "Preston",
          "Moonee Ponds",
          "South Yarra",
          "Airport West",
          "Parkville",
          "Newport",
          "Keilor East",
          "Carnegie",
          "Braybrook",
          "Camberwell",
          "Heidelberg Heights",
          "Jacana",
          "West Footscray",
          "Maidstone",
          "Keilor East",
          "Braybrook",
          "Hawthorn East",
          "Niddrie",
          "Ascot Vale",
          "Keilor East",
          "Coburg",
          "Brunswick East",
          "Hawthorn",
          "Bentleigh East",
          "Camberwell",
          "Richmond",
          "Brighton",
          "Collingwood",
          "Brunswick East",
          "Cheltenham",
          "Brunswick",
          "Sunshine",
          "Hampton",
          "Altona North",
          "Reservoir",
          "Hawthorn",
          "Surrey Hills",
          "Moonee Ponds",
          "Craigieburn",
          "Glen Iris",
          "Maidstone",
          "St Kilda",
          "Windsor",
          "Preston",
          "Rosanna",
          "Roxburgh Park",
          "Niddrie",
          "Templestowe Lower",
          "Coburg",
          "Reservoir",
          "Alphington",
          "Kew",
          "Glen Iris",
          "Viewbank",
          "Ivanhoe",
          "Doncaster East",
          "Hampton",
          "West Melbourne",
          "Reservoir",
          "Preston",
          "Jacana",
          "Murrumbeena",
          "Melbourne",
          "Bentleigh",
          "Williamstown",
          "Ivanhoe",
          "Reservoir",
          "Windsor",
          "Doncaster",
          "Richmond",
          "Glen Iris",
          "Fitzroy North",
          "Surrey Hills",
          "Thornbury",
          "Templestowe Lower",
          "Ringwood East",
          "Melton South",
          "Doncaster",
          "Bentleigh East",
          "Bulleen",
          "Craigieburn",
          "St Kilda",
          "Altona North",
          "Avondale Heights",
          "Brunswick",
          "Toorak",
          "Ivanhoe",
          "Glen Iris",
          "Bentleigh East",
          "Bentleigh East",
          "Northcote",
          "Newport",
          "Box Hill",
          "Elwood",
          "Brighton",
          "Hampton East",
          "Glen Iris",
          "Hampton",
          "Reservoir",
          "Niddrie",
          "South Yarra",
          "North Melbourne",
          "Burwood",
          "Elwood",
          "Templestowe",
          "Murrumbeena",
          "Bulleen",
          "Surrey Hills",
          "Balwyn North",
          "Ivanhoe",
          "Craigieburn",
          "Fawkner",
          "Strathmore",
          "North Melbourne",
          "Port Melbourne",
          "Aspendale",
          "St Kilda",
          "Braybrook",
          "Ascot Vale",
          "Moonee Ponds",
          "Moonee Ponds",
          "Glen Waverley",
          "Box Hill",
          "Brunswick East",
          "Niddrie",
          "Hadfield",
          "Keilor East",
          "Kew",
          "Prahran",
          "Hampton East",
          "Endeavour Hills",
          "Thomastown",
          "Flemington",
          "Niddrie",
          "Blackburn",
          "Murrumbeena",
          "Melton South",
          "Kew",
          "Strathmore",
          "Glenroy",
          "Coburg",
          "Montmorency",
          "Newport",
          "Ashburton",
          "Canterbury",
          "Doreen",
          "Niddrie",
          "Templestowe Lower",
          "Brighton",
          "Maribyrnong",
          "North Melbourne",
          "Balwyn North",
          "Maidstone",
          "Preston",
          "Coburg North",
          "Huntingdale",
          "Bentleigh East",
          "Pascoe Vale",
          "West Footscray",
          "Newport",
          "Heidelberg West",
          "Elwood",
          "Northcote",
          "Richmond",
          "Campbellfield",
          "Keilor",
          "Gladstone Park",
          "Flemington",
          "Moonee Ponds",
          "Port Melbourne",
          "Elwood",
          "Heidelberg Heights",
          "Thornbury",
          "Carrum",
          "Moorabbin",
          "Chadstone",
          "South Yarra",
          "St Albans",
          "Kew",
          "Balwyn North",
          "Glen Iris",
          "Coburg",
          "Fitzroy North",
          "Templestowe Lower",
          "Malvern East",
          "Richmond",
          "Mount Waverley",
          "Elwood",
          "Fairfield",
          "Fitzroy North",
          "Heidelberg Heights",
          "Glen Waverley",
          "Hoppers Crossing",
          "Reservoir",
          "Hughesdale",
          "South Yarra",
          "Bentleigh",
          "Essendon",
          "Surrey Hills",
          "Frankston South",
          "Essendon",
          "Greenvale",
          "Malvern",
          "Hampton",
          "Keilor Park",
          "Ashwood",
          "Yarraville",
          "Montmorency",
          "Northcote",
          "Reservoir",
          "Yarraville",
          "Hawthorn East",
          "Cheltenham",
          "Port Melbourne",
          "South Melbourne",
          "Glen Iris",
          "Murrumbeena",
          "Bentleigh East",
          "South Melbourne",
          "Aberfeldie",
          "Preston",
          "Avondale Heights",
          "Essendon",
          "Port Melbourne",
          "Ashwood",
          "Ivanhoe",
          "Yarraville",
          "Thornbury",
          "Sunshine",
          "Balaclava",
          "Carnegie",
          "Footscray",
          "Brunswick East",
          "Mulgrave",
          "Northcote",
          "Footscray",
          "Brighton",
          "Pascoe Vale",
          "Brighton East",
          "South Yarra",
          "Brunswick",
          "Airport West"
         ],
         "lat": [
          -37.7514,
          -37.8411,
          -37.8318,
          -37.794,
          -37.7739,
          -37.8485,
          -37.9256,
          -37.8039,
          -37.91874,
          -37.7031,
          -37.9286,
          -37.7421,
          -37.85963,
          -37.8505,
          -37.59386,
          -37.8621,
          -38.00765,
          -37.76545,
          -37.83511,
          -37.62894,
          -37.7198,
          -37.8127,
          -37.8369,
          -37.743,
          -37.94,
          -37.8159,
          -37.7903,
          -37.9191,
          -37.80893,
          -37.76231,
          -37.925,
          -37.8663,
          -37.7817,
          -37.77221,
          -37.7813,
          -37.77227,
          -37.8529,
          -37.75515,
          -37.7856,
          -37.92988,
          -37.786,
          -37.9108,
          -37.906,
          -37.8299,
          -37.8698,
          -38.16483,
          -37.7634,
          -37.8395,
          -37.719,
          -37.7475,
          -37.8094,
          -37.7427,
          -37.83543,
          -37.65621,
          -37.60608,
          -37.8491,
          -37.7917,
          -37.66612,
          -37.73972,
          -37.7661,
          -37.8453,
          -37.7186,
          -37.7823,
          -37.84026,
          -37.74514,
          -37.8974,
          -37.7759,
          -37.8465,
          -37.75024000000001,
          -37.68988,
          -37.79221,
          -37.7795,
          -37.73137,
          -37.7908,
          -37.8269,
          -37.73612,
          -37.781,
          -37.73573,
          -37.7408,
          -37.7685,
          -37.827,
          -37.9245,
          -37.84603,
          -37.8195,
          -37.894,
          -37.8001,
          -37.76321,
          -37.95746,
          -37.76300000000001,
          -37.7953,
          -37.94437,
          -37.8448,
          -37.7053,
          -37.8249,
          -37.8182,
          -37.761,
          -37.58242,
          -37.85546,
          -37.7801,
          -37.86506,
          -37.8533,
          -37.7337,
          -37.73184000000001,
          -37.63528,
          -37.7361,
          -37.7601,
          -37.7406,
          -37.7243,
          -37.77586,
          -37.8126,
          -37.8574,
          -37.7343,
          -37.7587,
          -37.78535,
          -37.9401,
          -37.80473,
          -37.7183,
          -37.7418,
          -37.68582,
          -37.89465,
          -37.80802,
          -37.91888,
          -37.8571,
          -37.75973,
          -37.709,
          -37.856,
          -37.78267,
          -37.8252,
          -37.85671,
          -37.7836,
          -37.8201,
          -37.7539,
          -37.7764,
          -37.81656,
          -37.70484,
          -37.78101,
          -37.9242,
          -37.7683,
          -37.60859,
          -37.8619,
          -37.84384,
          -37.757,
          -37.7778,
          -37.8425,
          -37.7707,
          -37.8559,
          -37.9107,
          -37.9333,
          -37.7709,
          -37.847,
          -37.8246,
          -37.88042,
          -37.90034,
          -37.9355,
          -37.8487,
          -37.9356,
          -37.7039,
          -37.74016,
          -37.83041,
          -37.7983,
          -37.8528,
          -37.8822,
          -37.75091,
          -37.89814000000001,
          -37.7791,
          -37.81665,
          -37.80218,
          -37.7614,
          -37.57005,
          -37.71833,
          -37.7196,
          -37.8044,
          -37.8342,
          -38.02768,
          -37.8623,
          -37.788,
          -37.7822,
          -37.773,
          -37.7611,
          -37.87942,
          -37.8151,
          -37.7689,
          -37.7452,
          -37.7136,
          -37.747,
          -37.8095,
          -37.8467,
          -37.93433,
          -37.98841,
          -37.67652,
          -37.78696,
          -37.73521,
          -37.81169000000001,
          -37.90017,
          -37.71077,
          -37.8007,
          -37.7345,
          -37.702,
          -37.7493,
          -37.72532,
          -37.8481,
          -37.8675,
          -37.8205,
          -37.6038,
          -37.736,
          -37.7564,
          -37.9041,
          -37.7742,
          -37.7936,
          -37.79362,
          -37.78974,
          -37.7373,
          -37.7187,
          -37.90823,
          -37.912,
          -37.7295,
          -37.7906,
          -37.8413,
          -37.7382,
          -37.8808,
          -37.7762,
          -37.8251,
          -37.6804,
          -37.72026,
          -37.69148,
          -37.7854,
          -37.7702,
          -37.84,
          -37.8809,
          -37.7368,
          -37.7588,
          -38.07921,
          -37.9407,
          -37.8792,
          -37.83652,
          -37.73497,
          -37.79438,
          -37.7964,
          -37.8538,
          -37.7489,
          -37.78493,
          -37.7595,
          -37.8823,
          -37.8185,
          -37.86071,
          -37.8752,
          -37.7782,
          -37.7851,
          -37.7366,
          -37.89891,
          -37.88531,
          -37.712,
          -37.8996,
          -37.84369,
          -37.9172,
          -37.7508,
          -37.82671,
          -38.16121,
          -37.7401,
          -37.6579,
          -37.866,
          -37.93105,
          -37.7212,
          -37.8651,
          -37.8194,
          -37.72096,
          -37.7721,
          -37.7284,
          -37.8159,
          -37.82689,
          -37.96877,
          -37.8317,
          -37.8309,
          -37.84782,
          -37.9017,
          -37.9198,
          -37.83401,
          -37.7564,
          -37.7346,
          -37.77222,
          -37.75759,
          -37.8329,
          -37.8683,
          -37.7641,
          -37.8186,
          -37.7515,
          -37.7818,
          -37.87202,
          -37.8973,
          -37.7942,
          -37.7734,
          -37.93173,
          -37.7827,
          -37.79633,
          -37.9049,
          -37.7223,
          -37.9187,
          -37.8374,
          -37.7563,
          -37.7285
         ],
         "legendgroup": "",
         "lon": [
          144.9288,
          145.062,
          145.0448,
          145.033,
          145.1287,
          144.8909,
          145.0497,
          144.9424,
          145.19156999999996,
          145.0773,
          145.0495,
          145.0491,
          145.02077,
          145.1065,
          144.90008999999995,
          144.9823,
          145.0935,
          144.94442,
          144.84905,
          145.00977,
          145.1034,
          145.107,
          144.9183,
          145.0839,
          145.0151,
          145.0194,
          144.9345,
          145.0074,
          144.87878,
          145.05138,
          145.0612,
          144.9948,
          145.0391,
          144.97537,
          144.8394,
          145.0284,
          145.0806,
          144.92113999999995,
          145.0918,
          145.01085,
          144.9751,
          145.0794,
          145.0547,
          145.1088,
          145.0325,
          145.16383000000005,
          144.9985,
          145.0534,
          144.76699,
          144.9194,
          145.0807,
          144.952,
          145.04606,
          145.0939,
          144.92841,
          144.8903,
          144.9231,
          145.0008,
          145.0111,
          144.9076,
          144.9849,
          144.876,
          144.9593,
          144.86667,
          144.87313,
          145.0622,
          144.8552,
          145.0743,
          145.04798,
          144.91113,
          144.86408,
          144.8729,
          144.86882,
          144.8522,
          145.0496,
          144.88474,
          144.9095,
          144.87531,
          144.9558,
          144.9724,
          145.0444,
          145.0773,
          145.06954,
          144.9974,
          144.9977,
          144.9901,
          144.97836999999996,
          145.06706,
          144.9598,
          144.8332,
          145.00288,
          144.8529,
          145.0173,
          145.0405,
          145.096,
          144.9296,
          144.93001,
          145.04998,
          144.869,
          144.97777,
          144.9913,
          144.9854,
          145.07061000000004,
          144.93117,
          144.88306,
          145.1229,
          144.9555,
          145.0014,
          145.03092,
          145.0534,
          145.04795,
          145.0837,
          145.0426,
          145.14536,
          145.0083,
          144.9435,
          145.0164,
          145.0095,
          144.91638,
          145.06984,
          144.96168,
          145.04775,
          144.8915,
          145.03808,
          145.0219,
          144.9891,
          145.14278000000004,
          145.0013,
          145.0604,
          144.985,
          145.0887,
          144.989,
          145.1216,
          145.24247,
          144.57261,
          145.1111,
          145.0705,
          145.0959,
          144.92138,
          144.976,
          144.84637,
          144.8566,
          144.9594,
          145.0252,
          145.0467,
          145.049,
          145.0598,
          145.0602,
          145.0105,
          144.8788,
          145.1269,
          144.9818,
          144.99608999999995,
          145.0257,
          145.0592,
          145.0166,
          145.0226,
          144.88805,
          144.98494,
          144.94687,
          145.1318,
          144.9913,
          145.16761,
          145.07455,
          145.086,
          145.10043000000005,
          145.10063,
          145.0433,
          144.91908999999995,
          144.96935,
          144.9062,
          144.9481,
          144.9456,
          145.10187,
          144.9772,
          144.862,
          144.92042,
          144.9332,
          144.9095,
          145.17668,
          145.135,
          144.9788,
          144.8895,
          144.9374,
          144.8663,
          145.0391,
          144.9894,
          145.02983999999995,
          145.26001000000005,
          145.02338,
          144.92556000000005,
          144.87708999999995,
          145.15735,
          145.06435,
          144.57198,
          145.0374,
          144.9228,
          144.9538,
          144.97,
          145.12488000000005,
          144.8666,
          145.0668,
          145.0828,
          145.10958,
          144.8839,
          145.1043,
          144.9993,
          144.8755,
          144.9426,
          145.0652,
          144.88143,
          145.0237,
          144.9564,
          145.10851,
          145.0752,
          144.9316,
          144.8687,
          144.8741,
          145.0451,
          144.9847,
          145.0027,
          144.9959,
          144.9664,
          144.83143,
          144.89873,
          144.9326,
          144.9266,
          144.939,
          144.9833,
          145.0524,
          144.9881,
          145.12761,
          145.0482,
          145.0948,
          144.98522,
          144.7864,
          145.03368999999995,
          145.086,
          145.0842,
          144.9598,
          144.98879,
          145.1176,
          145.0839,
          144.9935,
          145.1278,
          144.9911,
          145.0162,
          144.9809,
          145.0509,
          145.15341,
          144.68431,
          145.0205,
          145.076,
          144.98914,
          145.0421,
          144.9163,
          145.11068,
          145.10381,
          144.89674,
          144.90523000000005,
          145.039,
          144.99437,
          144.8598,
          145.1107,
          144.8914,
          145.12948,
          145.0004,
          145.0361,
          144.8626,
          145.05542,
          145.07484,
          144.9446,
          144.9686,
          145.05004,
          145.0739,
          145.0791,
          144.96653999999995,
          144.9043,
          145.0226,
          144.85412,
          144.92788000000004,
          144.9455,
          145.1064,
          145.0501,
          144.8764,
          144.9857,
          144.8393,
          144.99123,
          145.053,
          144.8934,
          144.97686000000004,
          145.19475,
          144.9999,
          144.88526000000005,
          145.0069,
          144.9315,
          145.007,
          144.9871,
          144.96,
          144.8694
         ],
         "marker": {
          "color": [
           320000,
           2110000,
           555000,
           752000,
           1782000,
           1530000,
           1200000,
           1000000,
           1200000,
           715000,
           1095000,
           510000,
           590000,
           746000,
           595000,
           395000,
           600000,
           1010000,
           1070000,
           545000,
           915000,
           2365000,
           1305000,
           810000,
           2450000,
           580000,
           700000,
           1245000,
           210000,
           2250000,
           1206000,
           1193000,
           1851000,
           1023000,
           625000,
           2220000,
           2400000,
           310000,
           1750000,
           1750800,
           1955000,
           882000,
           1600000,
           2060000,
           2170000,
           565000,
           995000,
           3750000,
           505000,
           280000,
           2100000,
           784000,
           3600000,
           612000,
           365000,
           643700,
           700000,
           444000,
           996000,
           1550000,
           1230000,
           830000,
           485000,
           710000,
           1250000,
           920000,
           1000000,
           895000,
           680000,
           575500,
           749000,
           349000,
           1001000,
           660000,
           1825000,
           1370000,
           1490000,
           1100000,
           1025000,
           550000,
           320000,
           810000,
           881000,
           1495000,
           2575000,
           888000,
           1065000,
           1010000,
           820000,
           691000,
           2675000,
           875000,
           480000,
           743000,
           2300000,
           1400000,
           500000,
           523000,
           600000,
           586500,
           1200000,
           660000,
           1365000,
           510000,
           800000,
           1050000,
           700000,
           790000,
           1625000,
           891000,
           260000,
           870000,
           1275000,
           1760000,
           1740000,
           510000,
           645000,
           930000,
           390000,
           1820000,
           565000,
           2700000,
           1085000,
           1510000,
           440000,
           1370000,
           751000,
           1500000,
           1650000,
           1581000,
           1260000,
           1190000,
           1182500,
           910000,
           460000,
           1430000,
           977000,
           880000,
           640000,
           400000,
           805000,
           890000,
           601000,
           2050000,
           1460000,
           480000,
           715000,
           1275000,
           926000,
           710000,
           1351000,
           543000,
           2830000,
           1020000,
           1601000,
           1460000,
           725000,
           1300000,
           945000,
           516000,
           580000,
           2400000,
           1280000,
           670000,
           1300000,
           807000,
           2400000,
           1340000,
           492000,
           786000,
           1015000,
           885000,
           1100000,
           805000,
           1190000,
           850000,
           870000,
           940000,
           2300000,
           1832000,
           1620000,
           970000,
           800000,
           725000,
           650000,
           2550000,
           1255000,
           1140000,
           676000,
           630000,
           1000000,
           980000,
           1100000,
           1540000,
           410000,
           1910000,
           925000,
           780000,
           981000,
           881100,
           807500,
           1518000,
           722000,
           531000,
           1015000,
           903000,
           290000,
           990000,
           726000,
           1050000,
           798000,
           540000,
           530000,
           1205000,
           1161000,
           815000,
           710000,
           820000,
           880000,
           599999,
           1950000,
           1035000,
           455000,
           1125000,
           627000,
           250000,
           1370000,
           801000,
           765000,
           725000,
           1070000,
           965000,
           921000,
           1002000,
           860000,
           626000,
           825000,
           3000000,
           1665000,
           810000,
           1350000,
           1118000,
           1120000,
           1520000,
           944000,
           507000,
           445000,
           1300000,
           682000,
           1320000,
           520000,
           852000,
           1322000,
           1160000,
           900000,
           1475000,
           1910000,
           1400000,
           864000,
           810000,
           2400000,
           2515000,
           566000,
           1415000,
           935000,
           1130000,
           2990000,
           425000,
           960000,
           560000,
           800000,
           950000,
           680000,
           1307500,
           1100000,
           1208000,
           817000,
           470000,
           1004000,
           1000000,
           1240000,
           1155000,
           1495000,
           2350000,
           1028000,
           1265000,
           825000,
           1680000,
           967500,
           1375000,
           320000,
           1080000,
           385000,
           440000,
           1425000,
           590000,
           1850000,
           370000,
           860000,
           810000
          ],
          "coloraxis": "coloraxis",
          "symbol": "circle"
         },
         "mode": "markers",
         "name": "",
         "showlegend": false,
         "type": "scattergeo"
        }
       ],
       "layout": {
        "coloraxis": {
         "colorbar": {
          "title": {
           "text": "Price"
          }
         },
         "colorscale": [
          [
           0,
           "#0d0887"
          ],
          [
           0.1111111111111111,
           "#46039f"
          ],
          [
           0.2222222222222222,
           "#7201a8"
          ],
          [
           0.3333333333333333,
           "#9c179e"
          ],
          [
           0.4444444444444444,
           "#bd3786"
          ],
          [
           0.5555555555555556,
           "#d8576b"
          ],
          [
           0.6666666666666666,
           "#ed7953"
          ],
          [
           0.7777777777777778,
           "#fb9f3a"
          ],
          [
           0.8888888888888888,
           "#fdca26"
          ],
          [
           1,
           "#f0f921"
          ]
         ]
        },
        "geo": {
         "center": {},
         "domain": {
          "x": [
           0,
           1
          ],
          "y": [
           0,
           1
          ]
         },
         "fitbounds": "locations"
        },
        "legend": {
         "tracegroupgap": 0
        },
        "margin": {
         "t": 60
        },
        "template": {
         "data": {
          "bar": [
           {
            "error_x": {
             "color": "#2a3f5f"
            },
            "error_y": {
             "color": "#2a3f5f"
            },
            "marker": {
             "line": {
              "color": "#E5ECF6",
              "width": 0.5
             },
             "pattern": {
              "fillmode": "overlay",
              "size": 10,
              "solidity": 0.2
             }
            },
            "type": "bar"
           }
          ],
          "barpolar": [
           {
            "marker": {
             "line": {
              "color": "#E5ECF6",
              "width": 0.5
             },
             "pattern": {
              "fillmode": "overlay",
              "size": 10,
              "solidity": 0.2
             }
            },
            "type": "barpolar"
           }
          ],
          "carpet": [
           {
            "aaxis": {
             "endlinecolor": "#2a3f5f",
             "gridcolor": "white",
             "linecolor": "white",
             "minorgridcolor": "white",
             "startlinecolor": "#2a3f5f"
            },
            "baxis": {
             "endlinecolor": "#2a3f5f",
             "gridcolor": "white",
             "linecolor": "white",
             "minorgridcolor": "white",
             "startlinecolor": "#2a3f5f"
            },
            "type": "carpet"
           }
          ],
          "choropleth": [
           {
            "colorbar": {
             "outlinewidth": 0,
             "ticks": ""
            },
            "type": "choropleth"
           }
          ],
          "contour": [
           {
            "colorbar": {
             "outlinewidth": 0,
             "ticks": ""
            },
            "colorscale": [
             [
              0,
              "#0d0887"
             ],
             [
              0.1111111111111111,
              "#46039f"
             ],
             [
              0.2222222222222222,
              "#7201a8"
             ],
             [
              0.3333333333333333,
              "#9c179e"
             ],
             [
              0.4444444444444444,
              "#bd3786"
             ],
             [
              0.5555555555555556,
              "#d8576b"
             ],
             [
              0.6666666666666666,
              "#ed7953"
             ],
             [
              0.7777777777777778,
              "#fb9f3a"
             ],
             [
              0.8888888888888888,
              "#fdca26"
             ],
             [
              1,
              "#f0f921"
             ]
            ],
            "type": "contour"
           }
          ],
          "contourcarpet": [
           {
            "colorbar": {
             "outlinewidth": 0,
             "ticks": ""
            },
            "type": "contourcarpet"
           }
          ],
          "heatmap": [
           {
            "colorbar": {
             "outlinewidth": 0,
             "ticks": ""
            },
            "colorscale": [
             [
              0,
              "#0d0887"
             ],
             [
              0.1111111111111111,
              "#46039f"
             ],
             [
              0.2222222222222222,
              "#7201a8"
             ],
             [
              0.3333333333333333,
              "#9c179e"
             ],
             [
              0.4444444444444444,
              "#bd3786"
             ],
             [
              0.5555555555555556,
              "#d8576b"
             ],
             [
              0.6666666666666666,
              "#ed7953"
             ],
             [
              0.7777777777777778,
              "#fb9f3a"
             ],
             [
              0.8888888888888888,
              "#fdca26"
             ],
             [
              1,
              "#f0f921"
             ]
            ],
            "type": "heatmap"
           }
          ],
          "heatmapgl": [
           {
            "colorbar": {
             "outlinewidth": 0,
             "ticks": ""
            },
            "colorscale": [
             [
              0,
              "#0d0887"
             ],
             [
              0.1111111111111111,
              "#46039f"
             ],
             [
              0.2222222222222222,
              "#7201a8"
             ],
             [
              0.3333333333333333,
              "#9c179e"
             ],
             [
              0.4444444444444444,
              "#bd3786"
             ],
             [
              0.5555555555555556,
              "#d8576b"
             ],
             [
              0.6666666666666666,
              "#ed7953"
             ],
             [
              0.7777777777777778,
              "#fb9f3a"
             ],
             [
              0.8888888888888888,
              "#fdca26"
             ],
             [
              1,
              "#f0f921"
             ]
            ],
            "type": "heatmapgl"
           }
          ],
          "histogram": [
           {
            "marker": {
             "pattern": {
              "fillmode": "overlay",
              "size": 10,
              "solidity": 0.2
             }
            },
            "type": "histogram"
           }
          ],
          "histogram2d": [
           {
            "colorbar": {
             "outlinewidth": 0,
             "ticks": ""
            },
            "colorscale": [
             [
              0,
              "#0d0887"
             ],
             [
              0.1111111111111111,
              "#46039f"
             ],
             [
              0.2222222222222222,
              "#7201a8"
             ],
             [
              0.3333333333333333,
              "#9c179e"
             ],
             [
              0.4444444444444444,
              "#bd3786"
             ],
             [
              0.5555555555555556,
              "#d8576b"
             ],
             [
              0.6666666666666666,
              "#ed7953"
             ],
             [
              0.7777777777777778,
              "#fb9f3a"
             ],
             [
              0.8888888888888888,
              "#fdca26"
             ],
             [
              1,
              "#f0f921"
             ]
            ],
            "type": "histogram2d"
           }
          ],
          "histogram2dcontour": [
           {
            "colorbar": {
             "outlinewidth": 0,
             "ticks": ""
            },
            "colorscale": [
             [
              0,
              "#0d0887"
             ],
             [
              0.1111111111111111,
              "#46039f"
             ],
             [
              0.2222222222222222,
              "#7201a8"
             ],
             [
              0.3333333333333333,
              "#9c179e"
             ],
             [
              0.4444444444444444,
              "#bd3786"
             ],
             [
              0.5555555555555556,
              "#d8576b"
             ],
             [
              0.6666666666666666,
              "#ed7953"
             ],
             [
              0.7777777777777778,
              "#fb9f3a"
             ],
             [
              0.8888888888888888,
              "#fdca26"
             ],
             [
              1,
              "#f0f921"
             ]
            ],
            "type": "histogram2dcontour"
           }
          ],
          "mesh3d": [
           {
            "colorbar": {
             "outlinewidth": 0,
             "ticks": ""
            },
            "type": "mesh3d"
           }
          ],
          "parcoords": [
           {
            "line": {
             "colorbar": {
              "outlinewidth": 0,
              "ticks": ""
             }
            },
            "type": "parcoords"
           }
          ],
          "pie": [
           {
            "automargin": true,
            "type": "pie"
           }
          ],
          "scatter": [
           {
            "fillpattern": {
             "fillmode": "overlay",
             "size": 10,
             "solidity": 0.2
            },
            "type": "scatter"
           }
          ],
          "scatter3d": [
           {
            "line": {
             "colorbar": {
              "outlinewidth": 0,
              "ticks": ""
             }
            },
            "marker": {
             "colorbar": {
              "outlinewidth": 0,
              "ticks": ""
             }
            },
            "type": "scatter3d"
           }
          ],
          "scattercarpet": [
           {
            "marker": {
             "colorbar": {
              "outlinewidth": 0,
              "ticks": ""
             }
            },
            "type": "scattercarpet"
           }
          ],
          "scattergeo": [
           {
            "marker": {
             "colorbar": {
              "outlinewidth": 0,
              "ticks": ""
             }
            },
            "type": "scattergeo"
           }
          ],
          "scattergl": [
           {
            "marker": {
             "colorbar": {
              "outlinewidth": 0,
              "ticks": ""
             }
            },
            "type": "scattergl"
           }
          ],
          "scattermapbox": [
           {
            "marker": {
             "colorbar": {
              "outlinewidth": 0,
              "ticks": ""
             }
            },
            "type": "scattermapbox"
           }
          ],
          "scatterpolar": [
           {
            "marker": {
             "colorbar": {
              "outlinewidth": 0,
              "ticks": ""
             }
            },
            "type": "scatterpolar"
           }
          ],
          "scatterpolargl": [
           {
            "marker": {
             "colorbar": {
              "outlinewidth": 0,
              "ticks": ""
             }
            },
            "type": "scatterpolargl"
           }
          ],
          "scatterternary": [
           {
            "marker": {
             "colorbar": {
              "outlinewidth": 0,
              "ticks": ""
             }
            },
            "type": "scatterternary"
           }
          ],
          "surface": [
           {
            "colorbar": {
             "outlinewidth": 0,
             "ticks": ""
            },
            "colorscale": [
             [
              0,
              "#0d0887"
             ],
             [
              0.1111111111111111,
              "#46039f"
             ],
             [
              0.2222222222222222,
              "#7201a8"
             ],
             [
              0.3333333333333333,
              "#9c179e"
             ],
             [
              0.4444444444444444,
              "#bd3786"
             ],
             [
              0.5555555555555556,
              "#d8576b"
             ],
             [
              0.6666666666666666,
              "#ed7953"
             ],
             [
              0.7777777777777778,
              "#fb9f3a"
             ],
             [
              0.8888888888888888,
              "#fdca26"
             ],
             [
              1,
              "#f0f921"
             ]
            ],
            "type": "surface"
           }
          ],
          "table": [
           {
            "cells": {
             "fill": {
              "color": "#EBF0F8"
             },
             "line": {
              "color": "white"
             }
            },
            "header": {
             "fill": {
              "color": "#C8D4E3"
             },
             "line": {
              "color": "white"
             }
            },
            "type": "table"
           }
          ]
         },
         "layout": {
          "annotationdefaults": {
           "arrowcolor": "#2a3f5f",
           "arrowhead": 0,
           "arrowwidth": 1
          },
          "autotypenumbers": "strict",
          "coloraxis": {
           "colorbar": {
            "outlinewidth": 0,
            "ticks": ""
           }
          },
          "colorscale": {
           "diverging": [
            [
             0,
             "#8e0152"
            ],
            [
             0.1,
             "#c51b7d"
            ],
            [
             0.2,
             "#de77ae"
            ],
            [
             0.3,
             "#f1b6da"
            ],
            [
             0.4,
             "#fde0ef"
            ],
            [
             0.5,
             "#f7f7f7"
            ],
            [
             0.6,
             "#e6f5d0"
            ],
            [
             0.7,
             "#b8e186"
            ],
            [
             0.8,
             "#7fbc41"
            ],
            [
             0.9,
             "#4d9221"
            ],
            [
             1,
             "#276419"
            ]
           ],
           "sequential": [
            [
             0,
             "#0d0887"
            ],
            [
             0.1111111111111111,
             "#46039f"
            ],
            [
             0.2222222222222222,
             "#7201a8"
            ],
            [
             0.3333333333333333,
             "#9c179e"
            ],
            [
             0.4444444444444444,
             "#bd3786"
            ],
            [
             0.5555555555555556,
             "#d8576b"
            ],
            [
             0.6666666666666666,
             "#ed7953"
            ],
            [
             0.7777777777777778,
             "#fb9f3a"
            ],
            [
             0.8888888888888888,
             "#fdca26"
            ],
            [
             1,
             "#f0f921"
            ]
           ],
           "sequentialminus": [
            [
             0,
             "#0d0887"
            ],
            [
             0.1111111111111111,
             "#46039f"
            ],
            [
             0.2222222222222222,
             "#7201a8"
            ],
            [
             0.3333333333333333,
             "#9c179e"
            ],
            [
             0.4444444444444444,
             "#bd3786"
            ],
            [
             0.5555555555555556,
             "#d8576b"
            ],
            [
             0.6666666666666666,
             "#ed7953"
            ],
            [
             0.7777777777777778,
             "#fb9f3a"
            ],
            [
             0.8888888888888888,
             "#fdca26"
            ],
            [
             1,
             "#f0f921"
            ]
           ]
          },
          "colorway": [
           "#636efa",
           "#EF553B",
           "#00cc96",
           "#ab63fa",
           "#FFA15A",
           "#19d3f3",
           "#FF6692",
           "#B6E880",
           "#FF97FF",
           "#FECB52"
          ],
          "font": {
           "color": "#2a3f5f"
          },
          "geo": {
           "bgcolor": "white",
           "lakecolor": "white",
           "landcolor": "#E5ECF6",
           "showlakes": true,
           "showland": true,
           "subunitcolor": "white"
          },
          "hoverlabel": {
           "align": "left"
          },
          "hovermode": "closest",
          "mapbox": {
           "style": "light"
          },
          "paper_bgcolor": "white",
          "plot_bgcolor": "#E5ECF6",
          "polar": {
           "angularaxis": {
            "gridcolor": "white",
            "linecolor": "white",
            "ticks": ""
           },
           "bgcolor": "#E5ECF6",
           "radialaxis": {
            "gridcolor": "white",
            "linecolor": "white",
            "ticks": ""
           }
          },
          "scene": {
           "xaxis": {
            "backgroundcolor": "#E5ECF6",
            "gridcolor": "white",
            "gridwidth": 2,
            "linecolor": "white",
            "showbackground": true,
            "ticks": "",
            "zerolinecolor": "white"
           },
           "yaxis": {
            "backgroundcolor": "#E5ECF6",
            "gridcolor": "white",
            "gridwidth": 2,
            "linecolor": "white",
            "showbackground": true,
            "ticks": "",
            "zerolinecolor": "white"
           },
           "zaxis": {
            "backgroundcolor": "#E5ECF6",
            "gridcolor": "white",
            "gridwidth": 2,
            "linecolor": "white",
            "showbackground": true,
            "ticks": "",
            "zerolinecolor": "white"
           }
          },
          "shapedefaults": {
           "line": {
            "color": "#2a3f5f"
           }
          },
          "ternary": {
           "aaxis": {
            "gridcolor": "white",
            "linecolor": "white",
            "ticks": ""
           },
           "baxis": {
            "gridcolor": "white",
            "linecolor": "white",
            "ticks": ""
           },
           "bgcolor": "#E5ECF6",
           "caxis": {
            "gridcolor": "white",
            "linecolor": "white",
            "ticks": ""
           }
          },
          "title": {
           "x": 0.05
          },
          "xaxis": {
           "automargin": true,
           "gridcolor": "white",
           "linecolor": "white",
           "ticks": "",
           "title": {
            "standoff": 15
           },
           "zerolinecolor": "white",
           "zerolinewidth": 2
          },
          "yaxis": {
           "automargin": true,
           "gridcolor": "white",
           "linecolor": "white",
           "ticks": "",
           "title": {
            "standoff": 15
           },
           "zerolinecolor": "white",
           "zerolinewidth": 2
          }
         }
        }
       }
      }
     },
     "metadata": {},
     "output_type": "display_data"
    }
   ],
   "source": [
    "#5. Si las coordenadas geoespaciales estuvieran disponibles, como las usarian?\n",
    "#en primer lugar, crearia un mapa para visualizar la ubicacion de las propiedades, junto con características de las mismas\n",
    "\n",
    "import plotly.express as px\n",
    "data = melb_df.sample(300)\n",
    "fig = px.scatter_geo(\n",
    "    data, lat=data.Lattitude, lon=data.Longtitude, color=data.Price,\n",
    "    hover_name=data.Suburb,\n",
    "    hover_data=['YearBuilt', 'Type', 'Rooms', 'Bathroom']\n",
    "    )\n",
    "fig.update_geos(fitbounds=\"locations\")\n",
    "fig.show()"
   ]
  },
  {
   "cell_type": "code",
   "execution_count": 54,
   "id": "7683358a",
   "metadata": {},
   "outputs": [
    {
     "name": "stdout",
     "output_type": "stream",
     "text": [
      "Collecting geopy\n",
      "  Using cached geopy-2.4.1-py3-none-any.whl.metadata (6.8 kB)\n",
      "Collecting geographiclib<3,>=1.52 (from geopy)\n",
      "  Using cached geographiclib-2.0-py3-none-any.whl.metadata (1.4 kB)\n",
      "Using cached geopy-2.4.1-py3-none-any.whl (125 kB)\n",
      "Using cached geographiclib-2.0-py3-none-any.whl (40 kB)\n",
      "Installing collected packages: geographiclib, geopy\n",
      "Successfully installed geographiclib-2.0 geopy-2.4.1\n",
      "Note: you may need to restart the kernel to use updated packages.\n",
      "              Suburb  Lattitude  Longtitude  dist_to_cbd\n",
      "1392  Brunswick West     -37.75      144.93         7.54\n",
      "7673      Camberwell     -37.84      145.06         9.23\n",
      "6967   Hawthorn East     -37.83      145.04         7.47\n",
      "8030             Kew     -37.79      145.03         6.53\n",
      "2182       Doncaster     -37.77      145.13        15.24\n"
     ]
    }
   ],
   "source": [
    "# ejemplo: Calcular distancias a puntos de interés: Centro de la ciudad, Paradas de transporte público, Centros comerciales o parques\n",
    "\n",
    "# Para calcular la distancia al centro de Melbourne\n",
    "\n",
    "%pip install geopy\n",
    "from geopy.distance import geodesic\n",
    "\n",
    "# ejemplo: distancia al centro de Melbourne\n",
    "melbourne_center = (-37.8136, 144.9631)\n",
    "data['dist_to_cbd'] = data.apply(lambda row: geodesic((row['Lattitude'], row['Longtitude']), melbourne_center).km, axis=1)\n",
    "# Mostrar las primeras filas del DataFrame con la nueva columna\n",
    "print(data[['Suburb', 'Lattitude', 'Longtitude', 'dist_to_cbd']].head())"
   ]
  },
  {
   "cell_type": "markdown",
   "id": "c5303f27-3b15-441b-b291-8caf1c734139",
   "metadata": {
    "id": "c5303f27-3b15-441b-b291-8caf1c734139"
   },
   "source": [
    "## Ejercicio 3:\n",
    "\n",
    "Crear y guardar un nuevo conjunto de datos con todas las transformaciones realizadas anteriormente."
   ]
  },
  {
   "cell_type": "markdown",
   "id": "abfd3eeb-d466-424b-b58e-d1364ac39206",
   "metadata": {
    "id": "abfd3eeb-d466-424b-b58e-d1364ac39206"
   },
   "source": [
    "## Ejercicios opcionales:\n",
    "\n",
    "1. Armar un script en python (archivo .py) [ETL](https://towardsdatascience.com/what-to-log-from-python-etl-pipelines-9e0cfe29950e) que corra los pasos de extraccion, transformacion y carga, armando una funcion para cada etapa del proceso y luego un main que corra todos los pasos requeridos.\n",
    "\n",
    "2. Armar un DAG en Apache Airflow que corra el ETL. (https://airflow.apache.org/docs/apache-airflow/stable/tutorial.html)"
   ]
  },
  {
   "cell_type": "code",
   "execution_count": null,
   "id": "c2b357d1",
   "metadata": {},
   "outputs": [],
   "source": [
    "resultJoin_filtered.to_sql('melb_airbnb_joined_filter', con=engine, if_exists='replace', index=False)\n",
    "resultJoin.to_sql('melb_airbnb_joined_all', con=engine, if_exists='replace', index=False)\n",
    "queryZipCodeClear.to_sql('melb_airbnb_zipcode', con=engine, if_exists='replace', index=False)\n",
    "df_zipcode.to_sql('melb_airbnb_zipcode_avg', con=engine, if_exists='replace', index=False)"
   ]
  },
  {
   "cell_type": "code",
   "execution_count": 42,
   "id": "675238ba",
   "metadata": {},
   "outputs": [],
   "source": [
    "import pandas as pd\n",
    "import datetime as dt\n",
    "import requests\n",
    "import io\n",
    "from sqlalchemy import create_engine, text\n",
    "import os\n",
    "#from decouple import config\n",
    "import logging"
   ]
  },
  {
   "cell_type": "code",
   "execution_count": 43,
   "id": "5c953a05",
   "metadata": {},
   "outputs": [],
   "source": [
    "# En lugar de usar prints para ver el avance a medida que va corriendo el script se utilizan los logs.\n",
    "# Los logs basicamente son registros que se van dejando para saber el codigo que ha sido ejecutado.\n",
    "# Es decision arbitraria del programador decidir que desea registrar en los logs.\n",
    "# En python se utiliza la libreria logging https://docs.python.org/3/library/logging.html#logging-levels\n",
    "# La libreria permite definir niveles de logs (ERROR, DEBUG, INFO, etc). Segun la criticidad del error.\n",
    "logger = logging.getLogger(__name__)\n",
    "logger.setLevel(logging.DEBUG)\n",
    "logging.basicConfig(format='%(asctime)s %(levelname)s:%(message)s', level=logging.DEBUG, datefmt='%I:%M:%S')"
   ]
  },
  {
   "cell_type": "code",
   "execution_count": 48,
   "id": "5d210b95-836f-45ac-a52d-1a4dafdb447a",
   "metadata": {
    "id": "5d210b95-836f-45ac-a52d-1a4dafdb447a"
   },
   "outputs": [],
   "source": [
    "\n",
    "def extract(url,interesting_cols):\n",
    "  # The extract process could be complex including some SQL queries\n",
    "    if len(interesting_cols) ==0:\n",
    "        df = pd.read_csv(url)\n",
    "        logger.info('read_csv exitoso')\n",
    "    else:\n",
    "        df = pd.read_csv(url,usecols=interesting_cols)\n",
    "        logger.info('read_csv exitoso con columnas interesantes')\n",
    "    return df\n",
    "\n",
    "def connection_db(database_name):\n",
    "    '''Connect to DB using SQLAlchemy methods. Returns an engine created and connected'''\n",
    "    try:\n",
    "        engine = create_engine(f\"sqlite:///{database_name}\", echo=True)\n",
    "        logger.info('Conexion exitosa a la base de datos')\n",
    "        return engine\n",
    "\n",
    "    except ValueError as e:\n",
    "        logger.error(e)\n",
    "\n",
    "\n",
    "def transform(df,database_table_name):\n",
    "  '''Transform the data. In this case, we are going to use the same dataframe'''\n",
    "  # En este caso no se realizan transformaciones\n",
    "  # pero se pueden realizar transformaciones como eliminar columnas, renombrar columnas, etc.\n",
    "  if database_table_name == 'melb' :\n",
    "    melb_df['Postcode'] = pd.to_numeric(melb_df.Postcode, errors='coerce')\n",
    "    melb_df['Postcode_int'] = melb_df.Postcode.fillna(0).astype('int') # Convertimos la columna Postcode a int y renombramos la columna para no perder la original\n",
    "    melb_df['Date'] = pd.to_datetime(melb_df['Date'], errors='coerce') # Convertimos la columna Date a datetime\n",
    "    melb_df['Bedroom2'] = melb_df['Bedroom2'].fillna(0).astype('int') # Convertimos la columna Bedroom2 a int\n",
    "    melb_df['Bathroom'] = melb_df['Bathroom'].fillna(0).astype('int') # Convertimos la columna Bathroom a int\n",
    "    melb_df['Car'] = melb_df['Car'].fillna(0).astype('int') # Convertimos la columna Car a int\n",
    "  else:\n",
    "    # Working data for the analysis\n",
    "    airbnb_df['zipcode'] = pd.to_numeric(airbnb_df.zipcode, errors='coerce')\n",
    "    airbnb_df['zipcode_int'] = airbnb_df.zipcode.fillna(0).astype('int') # Convertimos la columna zipcode a int y renombramos la columna para no perder la original\n",
    "    airbnb_df['weekly_price_calculate'] = airbnb_df.apply(lambda row: row['price']*7. if pd.isnull(row['weekly_price']) else row['weekly_price'], axis=1) # Realizamos el calculo de weekly_price considerando price*7dias\n",
    "    airbnb_df['monthly_price_calculate'] = airbnb_df.apply(lambda row: row['price']*30. if pd.isnull(row['monthly_price']) else row['monthly_price'], axis=1) # Realizamos el calculo de weekly_price considerando price*30dias\n",
    "\n",
    "\n",
    "def save_database(df,table_name):\n",
    "  '''Load the data into the database'''\n",
    "  try:\n",
    "      # Create a table 'melb' in the SQLite database\n",
    "      df.to_sql(table_name, con=engine, if_exists='replace', index=False)\n",
    "      logger.info('Carga exitosa de la tabla en la base de datos')\n",
    "  except ValueError as e:\n",
    "      logger.error(e)\n",
    "      logger.error('Error en la carga de la tabla en la base de datos')\n",
    "    "
   ]
  },
  {
   "cell_type": "code",
   "execution_count": null,
   "id": "9d96d74e",
   "metadata": {},
   "outputs": [],
   "source": [
    "# la funcion main es muy utilizada en scripts python cuando tenemos archivos .py por ejemplo etl.py\n",
    "# al tener la funcion main pueden correr desde la terminal python etl.py y va a ejecutar lo definido en la funcion main\n",
    "def main_etl():\n",
    "    logger.info('Comienza la extraccion')\n",
    "    logger.info('Conectar a la base de datos')\n",
    "    engine = connection_db('melbourne.db')\n",
    "    logger.info('Extract data from url melbourne dataset')\n",
    "    df = extract('http://cs.famaf.unc.edu.ar/~mteruel/datasets/diplodatos/melb_data.csv', [])\n",
    "    logger.info('Transform data')\n",
    "    transform(df,'melb')\n",
    "    logger.info('Save data into database')\n",
    "    save_database(df,'melb')\n",
    "    logger.info('Extract data from url airbnb dataset')\n",
    "    df = extract('http://cs.famaf.unc.edu.ar/~mteruel/datasets/diplodatos/cleansed_listings_dec18.csv', ['description', 'neighborhood_overview','street', 'neighborhood', 'city', 'suburb', 'state', 'zipcode','price', 'weekly_price', 'monthly_price','latitude', 'longitude'])\n",
    "    logger.info('Transform data')\n",
    "    transform(df,'airbnb')\n",
    "    logger.info('Save data into database')\n",
    "    save_database(df,'airbnb')\n",
    "\n",
    "if __name__ == \"__main_etl__\":\n",
    "    logger.info('ETL Process Initialized')\n",
    "    main_etl()"
   ]
  },
  {
   "cell_type": "code",
   "execution_count": null,
   "id": "2c531880",
   "metadata": {},
   "outputs": [],
   "source": [
    "# ejemplo de DAG en Airflow for melb ETL dataset\n",
    "from airflow import DAG\n",
    "from airflow.operators.python_operator import PythonOperator\n",
    "from datetime import datetime, timedelta\n",
    "import pandas as pd\n",
    "import logging\n",
    "\n",
    "# Default args\n",
    "default_args = {\n",
    "    'owner': 'airflow',\n",
    "    'retries': 1,\n",
    "    'retry_delay': timedelta(minutes=5)\n",
    "}\n",
    "\n",
    "with DAG(\n",
    "    'dag_melb',\n",
    "    default_args=default_args,\n",
    "    description='DAG ',\n",
    "    schedule_interval=timedelta(hours=24),\n",
    "    start_date=datetime(2025, 6, 26),\n",
    ") as dag:\n",
    "    connection = PythonOperator(task_id='engine',\n",
    "                                python_callable=connection_db,\n",
    "                                op_kwargs={'database_name': 'melbourne.db'},)\n",
    "    extraction = PythonOperator(task_id='engine',\n",
    "                                python_callable=extract,\n",
    "                                op_kwargs={'url':'http://cs.famaf.unc.edu.ar/~mteruel/datasets/diplodatos/melb_data.csv','interesting_cols':[]},)\n",
    "    transformation = PythonOperator(task_id='transformation',\n",
    "                                    python_callable=transform,\n",
    "                                    op_kwargs={'database_table_name': 'melb'},)\n",
    "    save_database_table = PythonOperator(task_id='save_database_table',\n",
    "                                         python_callable=save_database,\n",
    "                                        op_kwargs={'table_name':'melb'})\n",
    "    connection >> extraction >> transformation >> save_database_table\n",
    "\n",
    "# ejemplo de DAG en Airflow for airbnb ETL dataset\n",
    "\n",
    "with DAG(\n",
    "    'dag_airbnb',\n",
    "    default_args=default_args,\n",
    "    description='DAG ',\n",
    "    schedule_interval=timedelta(hours=24),\n",
    "    start_date=datetime(2025, 6, 26),\n",
    ") as dag:\n",
    "    connection = PythonOperator(task_id='engine',\n",
    "                                python_callable=connection_db,\n",
    "                                op_kwargs={'database_name': 'melbourne.db'},)\n",
    "    extraction = PythonOperator(task_id='engine',\n",
    "                                python_callable=extract,\n",
    "                                op_kwargs={\n",
    "                                    'url':'http://cs.famaf.unc.edu.ar/~mteruel/datasets/diplodatos/cleansed_listings_dec18.csv',\n",
    "                                    'interesting_cols':['description', 'neighborhood_overview','street', 'neighborhood', 'city', 'suburb', 'state', 'zipcode','price', 'weekly_price', 'monthly_price','latitude', 'longitude']},)\n",
    "    transformation = PythonOperator(task_id='transformation',\n",
    "                                    python_callable=transform\n",
    "                                    op_kwargs={'database_table_name': 'airbnb'},)\n",
    "    save_database = PythonOperator(task_id='save_database',\n",
    "                                 python_callable=save_database,\n",
    "                                 op_kwargs={'table_name':'airbnb'},)\n",
    "    connection >> extraction >> transformation >> save_database"
   ]
  }
 ],
 "metadata": {
  "colab": {
   "provenance": [
    {
     "file_id": "1WUlq5mXBWg0Qa4INSPGJUBpWlah4bFqd",
     "timestamp": 1682539012303
    }
   ]
  },
  "kernelspec": {
   "display_name": "env_graph",
   "language": "python",
   "name": "python3"
  },
  "language_info": {
   "codemirror_mode": {
    "name": "ipython",
    "version": 3
   },
   "file_extension": ".py",
   "mimetype": "text/x-python",
   "name": "python",
   "nbconvert_exporter": "python",
   "pygments_lexer": "ipython3",
   "version": "3.10.2"
  }
 },
 "nbformat": 4,
 "nbformat_minor": 5
}
