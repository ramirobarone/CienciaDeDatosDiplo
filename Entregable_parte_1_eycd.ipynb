{
 "cells": [
  {
   "cell_type": "code",
   "execution_count": 16,
   "id": "f5ac98f7-51f3-4f91-ac49-60ef5fe249be",
   "metadata": {
    "id": "f5ac98f7-51f3-4f91-ac49-60ef5fe249be"
   },
   "outputs": [],
   "source": [
    "import matplotlib.pyplot as plt\n",
    "import numpy\n",
    "import pandas\n",
    "\n",
    "import seaborn\n",
    "seaborn.set_context('talk')\n",
    "\n",
    "from sqlalchemy import create_engine, text"
   ]
  },
  {
   "cell_type": "markdown",
   "id": "e0ff301b-5595-4a0b-a2b8-3d5609a0485d",
   "metadata": {
    "id": "e0ff301b-5595-4a0b-a2b8-3d5609a0485d"
   },
   "source": [
    "**Diplomatura en Ciencia de Datos, Aprendizaje Automático y sus Aplicaciones**\n",
    "\n",
    "**Exploración y Curación de Datos**\n",
    "\n",
    "*Edición 2025*\n",
    "\n",
    "----\n",
    "\n",
    "# Trabajo práctico entregable - parte 1\n",
    "\n",
    "En esta notebook, vamos a cargar el conjunto de datos de [la compentencia Kaggle](https://www.kaggle.com/dansbecker/melbourne-housing-snapshot) sobre estimación de precios de ventas de propiedades en Melbourne, Australia.\n",
    "\n",
    "Utilizaremos el conjunto de datos reducido producido por [DanB](https://www.kaggle.com/dansbecker). Hemos subido una copia a un servidor de la Universidad Nacional de Córdoba para facilitar su acceso remoto."
   ]
  },
  {
   "cell_type": "code",
   "execution_count": 17,
   "id": "ce478cbd-0f49-4f15-8dc5-1fe1a5b39f17",
   "metadata": {
    "id": "ce478cbd-0f49-4f15-8dc5-1fe1a5b39f17"
   },
   "outputs": [
    {
     "data": {
      "text/plain": [
       "'5.22.0'"
      ]
     },
     "execution_count": 17,
     "metadata": {},
     "output_type": "execute_result"
    }
   ],
   "source": [
    "import plotly\n",
    "plotly.__version__\n"
   ]
  },
  {
   "cell_type": "code",
   "execution_count": 18,
   "id": "5ba8bfd5-199a-4390-a5b4-11ec9669b3e1",
   "metadata": {
    "id": "5ba8bfd5-199a-4390-a5b4-11ec9669b3e1",
    "outputId": "4649b09b-6fad-44b5-c0ad-5c59f8512d14"
   },
   "outputs": [
    {
     "data": {
      "application/vnd.microsoft.datawrangler.viewer.v0+json": {
       "columns": [
        {
         "name": "index",
         "rawType": "int64",
         "type": "integer"
        },
        {
         "name": "Suburb",
         "rawType": "object",
         "type": "string"
        },
        {
         "name": "Address",
         "rawType": "object",
         "type": "string"
        },
        {
         "name": "Rooms",
         "rawType": "int64",
         "type": "integer"
        },
        {
         "name": "Type",
         "rawType": "object",
         "type": "string"
        },
        {
         "name": "Price",
         "rawType": "float64",
         "type": "float"
        },
        {
         "name": "Method",
         "rawType": "object",
         "type": "string"
        },
        {
         "name": "SellerG",
         "rawType": "object",
         "type": "string"
        },
        {
         "name": "Date",
         "rawType": "object",
         "type": "string"
        },
        {
         "name": "Distance",
         "rawType": "float64",
         "type": "float"
        },
        {
         "name": "Postcode",
         "rawType": "float64",
         "type": "float"
        },
        {
         "name": "Bedroom2",
         "rawType": "float64",
         "type": "float"
        },
        {
         "name": "Bathroom",
         "rawType": "float64",
         "type": "float"
        },
        {
         "name": "Car",
         "rawType": "float64",
         "type": "float"
        },
        {
         "name": "Landsize",
         "rawType": "float64",
         "type": "float"
        },
        {
         "name": "BuildingArea",
         "rawType": "float64",
         "type": "float"
        },
        {
         "name": "YearBuilt",
         "rawType": "float64",
         "type": "float"
        },
        {
         "name": "CouncilArea",
         "rawType": "object",
         "type": "string"
        },
        {
         "name": "Lattitude",
         "rawType": "float64",
         "type": "float"
        },
        {
         "name": "Longtitude",
         "rawType": "float64",
         "type": "float"
        },
        {
         "name": "Regionname",
         "rawType": "object",
         "type": "string"
        },
        {
         "name": "Propertycount",
         "rawType": "float64",
         "type": "float"
        }
       ],
       "conversionMethod": "pd.DataFrame",
       "ref": "46c4733d-ed1e-4ca7-b218-f0225de7055c",
       "rows": [
        [
         "0",
         "Abbotsford",
         "85 Turner St",
         "2",
         "h",
         "1480000.0",
         "S",
         "Biggin",
         "3/12/2016",
         "2.5",
         "3067.0",
         "2.0",
         "1.0",
         "1.0",
         "202.0",
         null,
         null,
         "Yarra",
         "-37.7996",
         "144.9984",
         "Northern Metropolitan",
         "4019.0"
        ],
        [
         "1",
         "Abbotsford",
         "25 Bloomburg St",
         "2",
         "h",
         "1035000.0",
         "S",
         "Biggin",
         "4/02/2016",
         "2.5",
         "3067.0",
         "2.0",
         "1.0",
         "0.0",
         "156.0",
         "79.0",
         "1900.0",
         "Yarra",
         "-37.8079",
         "144.9934",
         "Northern Metropolitan",
         "4019.0"
        ],
        [
         "2",
         "Abbotsford",
         "5 Charles St",
         "3",
         "h",
         "1465000.0",
         "SP",
         "Biggin",
         "4/03/2017",
         "2.5",
         "3067.0",
         "3.0",
         "2.0",
         "0.0",
         "134.0",
         "150.0",
         "1900.0",
         "Yarra",
         "-37.8093",
         "144.9944",
         "Northern Metropolitan",
         "4019.0"
        ],
        [
         "3",
         "Abbotsford",
         "40 Federation La",
         "3",
         "h",
         "850000.0",
         "PI",
         "Biggin",
         "4/03/2017",
         "2.5",
         "3067.0",
         "3.0",
         "2.0",
         "1.0",
         "94.0",
         null,
         null,
         "Yarra",
         "-37.7969",
         "144.9969",
         "Northern Metropolitan",
         "4019.0"
        ],
        [
         "4",
         "Abbotsford",
         "55a Park St",
         "4",
         "h",
         "1600000.0",
         "VB",
         "Nelson",
         "4/06/2016",
         "2.5",
         "3067.0",
         "3.0",
         "1.0",
         "2.0",
         "120.0",
         "142.0",
         "2014.0",
         "Yarra",
         "-37.8072",
         "144.9941",
         "Northern Metropolitan",
         "4019.0"
        ],
        [
         "5",
         "Abbotsford",
         "129 Charles St",
         "2",
         "h",
         "941000.0",
         "S",
         "Jellis",
         "7/05/2016",
         "2.5",
         "3067.0",
         "2.0",
         "1.0",
         "0.0",
         "181.0",
         null,
         null,
         "Yarra",
         "-37.8041",
         "144.9953",
         "Northern Metropolitan",
         "4019.0"
        ],
        [
         "6",
         "Abbotsford",
         "124 Yarra St",
         "3",
         "h",
         "1876000.0",
         "S",
         "Nelson",
         "7/05/2016",
         "2.5",
         "3067.0",
         "4.0",
         "2.0",
         "0.0",
         "245.0",
         "210.0",
         "1910.0",
         "Yarra",
         "-37.8024",
         "144.9993",
         "Northern Metropolitan",
         "4019.0"
        ],
        [
         "7",
         "Abbotsford",
         "98 Charles St",
         "2",
         "h",
         "1636000.0",
         "S",
         "Nelson",
         "8/10/2016",
         "2.5",
         "3067.0",
         "2.0",
         "1.0",
         "2.0",
         "256.0",
         "107.0",
         "1890.0",
         "Yarra",
         "-37.806",
         "144.9954",
         "Northern Metropolitan",
         "4019.0"
        ],
        [
         "8",
         "Abbotsford",
         "6/241 Nicholson St",
         "1",
         "u",
         "300000.0",
         "S",
         "Biggin",
         "8/10/2016",
         "2.5",
         "3067.0",
         "1.0",
         "1.0",
         "1.0",
         "0.0",
         null,
         null,
         "Yarra",
         "-37.8008",
         "144.9973",
         "Northern Metropolitan",
         "4019.0"
        ],
        [
         "9",
         "Abbotsford",
         "10 Valiant St",
         "2",
         "h",
         "1097000.0",
         "S",
         "Biggin",
         "8/10/2016",
         "2.5",
         "3067.0",
         "3.0",
         "1.0",
         "2.0",
         "220.0",
         "75.0",
         "1900.0",
         "Yarra",
         "-37.801",
         "144.9989",
         "Northern Metropolitan",
         "4019.0"
        ]
       ],
       "shape": {
        "columns": 21,
        "rows": 10
       }
      },
      "text/html": [
       "<div>\n",
       "<style scoped>\n",
       "    .dataframe tbody tr th:only-of-type {\n",
       "        vertical-align: middle;\n",
       "    }\n",
       "\n",
       "    .dataframe tbody tr th {\n",
       "        vertical-align: top;\n",
       "    }\n",
       "\n",
       "    .dataframe thead th {\n",
       "        text-align: right;\n",
       "    }\n",
       "</style>\n",
       "<table border=\"1\" class=\"dataframe\">\n",
       "  <thead>\n",
       "    <tr style=\"text-align: right;\">\n",
       "      <th></th>\n",
       "      <th>Suburb</th>\n",
       "      <th>Address</th>\n",
       "      <th>Rooms</th>\n",
       "      <th>Type</th>\n",
       "      <th>Price</th>\n",
       "      <th>Method</th>\n",
       "      <th>SellerG</th>\n",
       "      <th>Date</th>\n",
       "      <th>Distance</th>\n",
       "      <th>Postcode</th>\n",
       "      <th>...</th>\n",
       "      <th>Bathroom</th>\n",
       "      <th>Car</th>\n",
       "      <th>Landsize</th>\n",
       "      <th>BuildingArea</th>\n",
       "      <th>YearBuilt</th>\n",
       "      <th>CouncilArea</th>\n",
       "      <th>Lattitude</th>\n",
       "      <th>Longtitude</th>\n",
       "      <th>Regionname</th>\n",
       "      <th>Propertycount</th>\n",
       "    </tr>\n",
       "  </thead>\n",
       "  <tbody>\n",
       "    <tr>\n",
       "      <th>0</th>\n",
       "      <td>Abbotsford</td>\n",
       "      <td>85 Turner St</td>\n",
       "      <td>2</td>\n",
       "      <td>h</td>\n",
       "      <td>1480000.0</td>\n",
       "      <td>S</td>\n",
       "      <td>Biggin</td>\n",
       "      <td>3/12/2016</td>\n",
       "      <td>2.5</td>\n",
       "      <td>3067.0</td>\n",
       "      <td>...</td>\n",
       "      <td>1.0</td>\n",
       "      <td>1.0</td>\n",
       "      <td>202.0</td>\n",
       "      <td>NaN</td>\n",
       "      <td>NaN</td>\n",
       "      <td>Yarra</td>\n",
       "      <td>-37.7996</td>\n",
       "      <td>144.9984</td>\n",
       "      <td>Northern Metropolitan</td>\n",
       "      <td>4019.0</td>\n",
       "    </tr>\n",
       "    <tr>\n",
       "      <th>1</th>\n",
       "      <td>Abbotsford</td>\n",
       "      <td>25 Bloomburg St</td>\n",
       "      <td>2</td>\n",
       "      <td>h</td>\n",
       "      <td>1035000.0</td>\n",
       "      <td>S</td>\n",
       "      <td>Biggin</td>\n",
       "      <td>4/02/2016</td>\n",
       "      <td>2.5</td>\n",
       "      <td>3067.0</td>\n",
       "      <td>...</td>\n",
       "      <td>1.0</td>\n",
       "      <td>0.0</td>\n",
       "      <td>156.0</td>\n",
       "      <td>79.0</td>\n",
       "      <td>1900.0</td>\n",
       "      <td>Yarra</td>\n",
       "      <td>-37.8079</td>\n",
       "      <td>144.9934</td>\n",
       "      <td>Northern Metropolitan</td>\n",
       "      <td>4019.0</td>\n",
       "    </tr>\n",
       "    <tr>\n",
       "      <th>2</th>\n",
       "      <td>Abbotsford</td>\n",
       "      <td>5 Charles St</td>\n",
       "      <td>3</td>\n",
       "      <td>h</td>\n",
       "      <td>1465000.0</td>\n",
       "      <td>SP</td>\n",
       "      <td>Biggin</td>\n",
       "      <td>4/03/2017</td>\n",
       "      <td>2.5</td>\n",
       "      <td>3067.0</td>\n",
       "      <td>...</td>\n",
       "      <td>2.0</td>\n",
       "      <td>0.0</td>\n",
       "      <td>134.0</td>\n",
       "      <td>150.0</td>\n",
       "      <td>1900.0</td>\n",
       "      <td>Yarra</td>\n",
       "      <td>-37.8093</td>\n",
       "      <td>144.9944</td>\n",
       "      <td>Northern Metropolitan</td>\n",
       "      <td>4019.0</td>\n",
       "    </tr>\n",
       "    <tr>\n",
       "      <th>3</th>\n",
       "      <td>Abbotsford</td>\n",
       "      <td>40 Federation La</td>\n",
       "      <td>3</td>\n",
       "      <td>h</td>\n",
       "      <td>850000.0</td>\n",
       "      <td>PI</td>\n",
       "      <td>Biggin</td>\n",
       "      <td>4/03/2017</td>\n",
       "      <td>2.5</td>\n",
       "      <td>3067.0</td>\n",
       "      <td>...</td>\n",
       "      <td>2.0</td>\n",
       "      <td>1.0</td>\n",
       "      <td>94.0</td>\n",
       "      <td>NaN</td>\n",
       "      <td>NaN</td>\n",
       "      <td>Yarra</td>\n",
       "      <td>-37.7969</td>\n",
       "      <td>144.9969</td>\n",
       "      <td>Northern Metropolitan</td>\n",
       "      <td>4019.0</td>\n",
       "    </tr>\n",
       "    <tr>\n",
       "      <th>4</th>\n",
       "      <td>Abbotsford</td>\n",
       "      <td>55a Park St</td>\n",
       "      <td>4</td>\n",
       "      <td>h</td>\n",
       "      <td>1600000.0</td>\n",
       "      <td>VB</td>\n",
       "      <td>Nelson</td>\n",
       "      <td>4/06/2016</td>\n",
       "      <td>2.5</td>\n",
       "      <td>3067.0</td>\n",
       "      <td>...</td>\n",
       "      <td>1.0</td>\n",
       "      <td>2.0</td>\n",
       "      <td>120.0</td>\n",
       "      <td>142.0</td>\n",
       "      <td>2014.0</td>\n",
       "      <td>Yarra</td>\n",
       "      <td>-37.8072</td>\n",
       "      <td>144.9941</td>\n",
       "      <td>Northern Metropolitan</td>\n",
       "      <td>4019.0</td>\n",
       "    </tr>\n",
       "    <tr>\n",
       "      <th>5</th>\n",
       "      <td>Abbotsford</td>\n",
       "      <td>129 Charles St</td>\n",
       "      <td>2</td>\n",
       "      <td>h</td>\n",
       "      <td>941000.0</td>\n",
       "      <td>S</td>\n",
       "      <td>Jellis</td>\n",
       "      <td>7/05/2016</td>\n",
       "      <td>2.5</td>\n",
       "      <td>3067.0</td>\n",
       "      <td>...</td>\n",
       "      <td>1.0</td>\n",
       "      <td>0.0</td>\n",
       "      <td>181.0</td>\n",
       "      <td>NaN</td>\n",
       "      <td>NaN</td>\n",
       "      <td>Yarra</td>\n",
       "      <td>-37.8041</td>\n",
       "      <td>144.9953</td>\n",
       "      <td>Northern Metropolitan</td>\n",
       "      <td>4019.0</td>\n",
       "    </tr>\n",
       "    <tr>\n",
       "      <th>6</th>\n",
       "      <td>Abbotsford</td>\n",
       "      <td>124 Yarra St</td>\n",
       "      <td>3</td>\n",
       "      <td>h</td>\n",
       "      <td>1876000.0</td>\n",
       "      <td>S</td>\n",
       "      <td>Nelson</td>\n",
       "      <td>7/05/2016</td>\n",
       "      <td>2.5</td>\n",
       "      <td>3067.0</td>\n",
       "      <td>...</td>\n",
       "      <td>2.0</td>\n",
       "      <td>0.0</td>\n",
       "      <td>245.0</td>\n",
       "      <td>210.0</td>\n",
       "      <td>1910.0</td>\n",
       "      <td>Yarra</td>\n",
       "      <td>-37.8024</td>\n",
       "      <td>144.9993</td>\n",
       "      <td>Northern Metropolitan</td>\n",
       "      <td>4019.0</td>\n",
       "    </tr>\n",
       "    <tr>\n",
       "      <th>7</th>\n",
       "      <td>Abbotsford</td>\n",
       "      <td>98 Charles St</td>\n",
       "      <td>2</td>\n",
       "      <td>h</td>\n",
       "      <td>1636000.0</td>\n",
       "      <td>S</td>\n",
       "      <td>Nelson</td>\n",
       "      <td>8/10/2016</td>\n",
       "      <td>2.5</td>\n",
       "      <td>3067.0</td>\n",
       "      <td>...</td>\n",
       "      <td>1.0</td>\n",
       "      <td>2.0</td>\n",
       "      <td>256.0</td>\n",
       "      <td>107.0</td>\n",
       "      <td>1890.0</td>\n",
       "      <td>Yarra</td>\n",
       "      <td>-37.8060</td>\n",
       "      <td>144.9954</td>\n",
       "      <td>Northern Metropolitan</td>\n",
       "      <td>4019.0</td>\n",
       "    </tr>\n",
       "    <tr>\n",
       "      <th>8</th>\n",
       "      <td>Abbotsford</td>\n",
       "      <td>6/241 Nicholson St</td>\n",
       "      <td>1</td>\n",
       "      <td>u</td>\n",
       "      <td>300000.0</td>\n",
       "      <td>S</td>\n",
       "      <td>Biggin</td>\n",
       "      <td>8/10/2016</td>\n",
       "      <td>2.5</td>\n",
       "      <td>3067.0</td>\n",
       "      <td>...</td>\n",
       "      <td>1.0</td>\n",
       "      <td>1.0</td>\n",
       "      <td>0.0</td>\n",
       "      <td>NaN</td>\n",
       "      <td>NaN</td>\n",
       "      <td>Yarra</td>\n",
       "      <td>-37.8008</td>\n",
       "      <td>144.9973</td>\n",
       "      <td>Northern Metropolitan</td>\n",
       "      <td>4019.0</td>\n",
       "    </tr>\n",
       "    <tr>\n",
       "      <th>9</th>\n",
       "      <td>Abbotsford</td>\n",
       "      <td>10 Valiant St</td>\n",
       "      <td>2</td>\n",
       "      <td>h</td>\n",
       "      <td>1097000.0</td>\n",
       "      <td>S</td>\n",
       "      <td>Biggin</td>\n",
       "      <td>8/10/2016</td>\n",
       "      <td>2.5</td>\n",
       "      <td>3067.0</td>\n",
       "      <td>...</td>\n",
       "      <td>1.0</td>\n",
       "      <td>2.0</td>\n",
       "      <td>220.0</td>\n",
       "      <td>75.0</td>\n",
       "      <td>1900.0</td>\n",
       "      <td>Yarra</td>\n",
       "      <td>-37.8010</td>\n",
       "      <td>144.9989</td>\n",
       "      <td>Northern Metropolitan</td>\n",
       "      <td>4019.0</td>\n",
       "    </tr>\n",
       "  </tbody>\n",
       "</table>\n",
       "<p>10 rows × 21 columns</p>\n",
       "</div>"
      ],
      "text/plain": [
       "       Suburb             Address  Rooms Type      Price Method SellerG  \\\n",
       "0  Abbotsford        85 Turner St      2    h  1480000.0      S  Biggin   \n",
       "1  Abbotsford     25 Bloomburg St      2    h  1035000.0      S  Biggin   \n",
       "2  Abbotsford        5 Charles St      3    h  1465000.0     SP  Biggin   \n",
       "3  Abbotsford    40 Federation La      3    h   850000.0     PI  Biggin   \n",
       "4  Abbotsford         55a Park St      4    h  1600000.0     VB  Nelson   \n",
       "5  Abbotsford      129 Charles St      2    h   941000.0      S  Jellis   \n",
       "6  Abbotsford        124 Yarra St      3    h  1876000.0      S  Nelson   \n",
       "7  Abbotsford       98 Charles St      2    h  1636000.0      S  Nelson   \n",
       "8  Abbotsford  6/241 Nicholson St      1    u   300000.0      S  Biggin   \n",
       "9  Abbotsford       10 Valiant St      2    h  1097000.0      S  Biggin   \n",
       "\n",
       "        Date  Distance  Postcode  ...  Bathroom  Car  Landsize  BuildingArea  \\\n",
       "0  3/12/2016       2.5    3067.0  ...       1.0  1.0     202.0           NaN   \n",
       "1  4/02/2016       2.5    3067.0  ...       1.0  0.0     156.0          79.0   \n",
       "2  4/03/2017       2.5    3067.0  ...       2.0  0.0     134.0         150.0   \n",
       "3  4/03/2017       2.5    3067.0  ...       2.0  1.0      94.0           NaN   \n",
       "4  4/06/2016       2.5    3067.0  ...       1.0  2.0     120.0         142.0   \n",
       "5  7/05/2016       2.5    3067.0  ...       1.0  0.0     181.0           NaN   \n",
       "6  7/05/2016       2.5    3067.0  ...       2.0  0.0     245.0         210.0   \n",
       "7  8/10/2016       2.5    3067.0  ...       1.0  2.0     256.0         107.0   \n",
       "8  8/10/2016       2.5    3067.0  ...       1.0  1.0       0.0           NaN   \n",
       "9  8/10/2016       2.5    3067.0  ...       1.0  2.0     220.0          75.0   \n",
       "\n",
       "   YearBuilt  CouncilArea Lattitude  Longtitude             Regionname  \\\n",
       "0        NaN        Yarra  -37.7996    144.9984  Northern Metropolitan   \n",
       "1     1900.0        Yarra  -37.8079    144.9934  Northern Metropolitan   \n",
       "2     1900.0        Yarra  -37.8093    144.9944  Northern Metropolitan   \n",
       "3        NaN        Yarra  -37.7969    144.9969  Northern Metropolitan   \n",
       "4     2014.0        Yarra  -37.8072    144.9941  Northern Metropolitan   \n",
       "5        NaN        Yarra  -37.8041    144.9953  Northern Metropolitan   \n",
       "6     1910.0        Yarra  -37.8024    144.9993  Northern Metropolitan   \n",
       "7     1890.0        Yarra  -37.8060    144.9954  Northern Metropolitan   \n",
       "8        NaN        Yarra  -37.8008    144.9973  Northern Metropolitan   \n",
       "9     1900.0        Yarra  -37.8010    144.9989  Northern Metropolitan   \n",
       "\n",
       "  Propertycount  \n",
       "0        4019.0  \n",
       "1        4019.0  \n",
       "2        4019.0  \n",
       "3        4019.0  \n",
       "4        4019.0  \n",
       "5        4019.0  \n",
       "6        4019.0  \n",
       "7        4019.0  \n",
       "8        4019.0  \n",
       "9        4019.0  \n",
       "\n",
       "[10 rows x 21 columns]"
      ]
     },
     "execution_count": 18,
     "metadata": {},
     "output_type": "execute_result"
    }
   ],
   "source": [
    "melb_df = pandas.read_csv(\n",
    "    'https://cs.famaf.unc.edu.ar/~mteruel/datasets/diplodatos/melb_data.csv')\n",
    "melb_df[:10]"
   ]
  },
  {
   "cell_type": "markdown",
   "id": "6cffe5bf-2498-498c-aa06-3e61422d91e6",
   "metadata": {
    "id": "6cffe5bf-2498-498c-aa06-3e61422d91e6"
   },
   "source": [
    "## Ejercicio 1 SQL:\n",
    "\n",
    "1. Crear una base de datos en SQLite utilizando la libreria [SQLalchemy](https://stackoverflow.com/questions/2268050/execute-sql-from-file-in-sqlalchemy).\n",
    "https://docs.sqlalchemy.org/en/14/core/engines.html#sqlite\n",
    "\n",
    "2. Ingestar los datos provistos en 'https://cs.famaf.unc.edu.ar/~mteruel/datasets/diplodatos/melb_data.csv' en una tabla y el dataset generado en clase con datos de airbnb y sus precios por codigo postal en otra.\n",
    "\n",
    "3. Validar tipos de columnas antes de guardar: df.to_sql() infiere tipos automáticamente, pero a veces los nombres de columnas como Date, Price o ID dan problemas si vienen con strings o valores nulos.\n",
    "\n",
    "4. Implementar consultas en SQL que respondan con la siguiente información:\n",
    "\n",
    "    - cantidad de registros totales por ciudad.\n",
    "    - cantidad de registros totales por barrio y ciudad.\n",
    "    - Consulta con filtro: ¿Cuántas propiedades hay por ciudad con más de 2 habitaciones?\n",
    "    - Agregación condicional: ¿Cuál es el precio promedio de propiedades según tipo (Type) y ciudad?\n",
    "    - Orden y límites: Mostrá el top 5 barrios con propiedades más caras en promedio.\n",
    "\n",
    "5. Combinar los datasets de ambas tablas ingestadas utilizando el comando JOIN de SQL  para obtener un resultado similar a lo realizado con Pandas en clase.  \n",
    "\n"
   ]
  },
  {
   "cell_type": "markdown",
   "id": "55c5bd2e",
   "metadata": {},
   "source": [
    "Creacion de Base de datos e ingesta"
   ]
  },
  {
   "cell_type": "code",
   "execution_count": null,
   "id": "c3810b56",
   "metadata": {},
   "outputs": [
    {
     "name": "stdout",
     "output_type": "stream",
     "text": [
      "2025-05-11 23:35:47,220 INFO sqlalchemy.engine.Engine BEGIN (implicit)\n",
      "2025-05-11 23:35:47,225 INFO sqlalchemy.engine.Engine PRAGMA main.table_info(\"melb\")\n",
      "2025-05-11 23:35:47,226 INFO sqlalchemy.engine.Engine [raw sql] ()\n",
      "2025-05-11 23:35:47,227 INFO sqlalchemy.engine.Engine PRAGMA main.table_info(\"melb\")\n",
      "2025-05-11 23:35:47,228 INFO sqlalchemy.engine.Engine [raw sql] ()\n",
      "2025-05-11 23:35:47,230 INFO sqlalchemy.engine.Engine SELECT name FROM sqlite_master WHERE type='table' AND name NOT LIKE 'sqlite~_%' ESCAPE '~' ORDER BY name\n",
      "2025-05-11 23:35:47,230 INFO sqlalchemy.engine.Engine [raw sql] ()\n",
      "2025-05-11 23:35:47,232 INFO sqlalchemy.engine.Engine SELECT name FROM sqlite_master WHERE type='view' AND name NOT LIKE 'sqlite~_%' ESCAPE '~' ORDER BY name\n",
      "2025-05-11 23:35:47,232 INFO sqlalchemy.engine.Engine [raw sql] ()\n",
      "2025-05-11 23:35:47,233 INFO sqlalchemy.engine.Engine PRAGMA main.table_xinfo(\"melb\")\n",
      "2025-05-11 23:35:47,234 INFO sqlalchemy.engine.Engine [raw sql] ()\n",
      "2025-05-11 23:35:47,236 INFO sqlalchemy.engine.Engine SELECT sql FROM  (SELECT * FROM sqlite_master UNION ALL   SELECT * FROM sqlite_temp_master) WHERE name = ? AND type in ('table', 'view')\n",
      "2025-05-11 23:35:47,236 INFO sqlalchemy.engine.Engine [raw sql] ('melb',)\n",
      "2025-05-11 23:35:47,237 INFO sqlalchemy.engine.Engine PRAGMA main.foreign_key_list(\"melb\")\n",
      "2025-05-11 23:35:47,239 INFO sqlalchemy.engine.Engine [raw sql] ()\n",
      "2025-05-11 23:35:47,239 INFO sqlalchemy.engine.Engine PRAGMA temp.foreign_key_list(\"melb\")\n",
      "2025-05-11 23:35:47,240 INFO sqlalchemy.engine.Engine [raw sql] ()\n",
      "2025-05-11 23:35:47,241 INFO sqlalchemy.engine.Engine SELECT sql FROM  (SELECT * FROM sqlite_master UNION ALL   SELECT * FROM sqlite_temp_master) WHERE name = ? AND type in ('table', 'view')\n",
      "2025-05-11 23:35:47,242 INFO sqlalchemy.engine.Engine [raw sql] ('melb',)\n",
      "2025-05-11 23:35:47,242 INFO sqlalchemy.engine.Engine PRAGMA main.index_list(\"melb\")\n",
      "2025-05-11 23:35:47,243 INFO sqlalchemy.engine.Engine [raw sql] ()\n",
      "2025-05-11 23:35:47,244 INFO sqlalchemy.engine.Engine PRAGMA temp.index_list(\"melb\")\n",
      "2025-05-11 23:35:47,245 INFO sqlalchemy.engine.Engine [raw sql] ()\n",
      "2025-05-11 23:35:47,246 INFO sqlalchemy.engine.Engine PRAGMA main.table_info(\"melb\")\n",
      "2025-05-11 23:35:47,247 INFO sqlalchemy.engine.Engine [raw sql] ()\n",
      "2025-05-11 23:35:47,248 INFO sqlalchemy.engine.Engine PRAGMA main.index_list(\"melb\")\n",
      "2025-05-11 23:35:47,248 INFO sqlalchemy.engine.Engine [raw sql] ()\n",
      "2025-05-11 23:35:47,249 INFO sqlalchemy.engine.Engine PRAGMA temp.index_list(\"melb\")\n",
      "2025-05-11 23:35:47,249 INFO sqlalchemy.engine.Engine [raw sql] ()\n",
      "2025-05-11 23:35:47,250 INFO sqlalchemy.engine.Engine PRAGMA main.table_info(\"melb\")\n",
      "2025-05-11 23:35:47,251 INFO sqlalchemy.engine.Engine [raw sql] ()\n",
      "2025-05-11 23:35:47,252 INFO sqlalchemy.engine.Engine SELECT sql FROM  (SELECT * FROM sqlite_master UNION ALL   SELECT * FROM sqlite_temp_master) WHERE name = ? AND type in ('table', 'view')\n",
      "2025-05-11 23:35:47,253 INFO sqlalchemy.engine.Engine [raw sql] ('melb',)\n",
      "2025-05-11 23:35:47,255 INFO sqlalchemy.engine.Engine \n",
      "DROP TABLE melb\n",
      "2025-05-11 23:35:47,256 INFO sqlalchemy.engine.Engine [no key 0.00079s] ()\n",
      "2025-05-11 23:35:47,266 INFO sqlalchemy.engine.Engine \n",
      "CREATE TABLE melb (\n",
      "\t\"Suburb\" TEXT, \n",
      "\t\"Address\" TEXT, \n",
      "\t\"Rooms\" BIGINT, \n",
      "\t\"Type\" TEXT, \n",
      "\t\"Price\" FLOAT, \n",
      "\t\"Method\" TEXT, \n",
      "\t\"SellerG\" TEXT, \n",
      "\t\"Date\" TEXT, \n",
      "\t\"Distance\" FLOAT, \n",
      "\t\"Postcode\" FLOAT, \n",
      "\t\"Bedroom2\" FLOAT, \n",
      "\t\"Bathroom\" FLOAT, \n",
      "\t\"Car\" FLOAT, \n",
      "\t\"Landsize\" FLOAT, \n",
      "\t\"BuildingArea\" FLOAT, \n",
      "\t\"YearBuilt\" FLOAT, \n",
      "\t\"CouncilArea\" TEXT, \n",
      "\t\"Lattitude\" FLOAT, \n",
      "\t\"Longtitude\" FLOAT, \n",
      "\t\"Regionname\" TEXT, \n",
      "\t\"Propertycount\" FLOAT\n",
      ")\n",
      "\n",
      "\n",
      "2025-05-11 23:35:47,267 INFO sqlalchemy.engine.Engine [no key 0.00095s] ()\n",
      "2025-05-11 23:35:47,432 INFO sqlalchemy.engine.Engine INSERT INTO melb (\"Suburb\", \"Address\", \"Rooms\", \"Type\", \"Price\", \"Method\", \"SellerG\", \"Date\", \"Distance\", \"Postcode\", \"Bedroom2\", \"Bathroom\", \"Car\", \"Landsize\", \"BuildingArea\", \"YearBuilt\", \"CouncilArea\", \"Lattitude\", \"Longtitude\", \"Regionname\", \"Propertycount\") VALUES (?, ?, ?, ?, ?, ?, ?, ?, ?, ?, ?, ?, ?, ?, ?, ?, ?, ?, ?, ?, ?)\n",
      "2025-05-11 23:35:47,434 INFO sqlalchemy.engine.Engine [generated in 0.11970s] [('Abbotsford', '85 Turner St', 2, 'h', 1480000.0, 'S', 'Biggin', '3/12/2016', 2.5, 3067.0, 2.0, 1.0, 1.0, 202.0, None, None, 'Yarra', -37.7996, 144.9984, 'Northern Metropolitan', 4019.0), ('Abbotsford', '25 Bloomburg St', 2, 'h', 1035000.0, 'S', 'Biggin', '4/02/2016', 2.5, 3067.0, 2.0, 1.0, 0.0, 156.0, 79.0, 1900.0, 'Yarra', -37.8079, 144.9934, 'Northern Metropolitan', 4019.0), ('Abbotsford', '5 Charles St', 3, 'h', 1465000.0, 'SP', 'Biggin', '4/03/2017', 2.5, 3067.0, 3.0, 2.0, 0.0, 134.0, 150.0, 1900.0, 'Yarra', -37.8093, 144.9944, 'Northern Metropolitan', 4019.0), ('Abbotsford', '40 Federation La', 3, 'h', 850000.0, 'PI', 'Biggin', '4/03/2017', 2.5, 3067.0, 3.0, 2.0, 1.0, 94.0, None, None, 'Yarra', -37.7969, 144.9969, 'Northern Metropolitan', 4019.0), ('Abbotsford', '55a Park St', 4, 'h', 1600000.0, 'VB', 'Nelson', '4/06/2016', 2.5, 3067.0, 3.0, 1.0, 2.0, 120.0, 142.0, 2014.0, 'Yarra', -37.8072, 144.9941, 'Northern Metropolitan', 4019.0), ('Abbotsford', '129 Charles St', 2, 'h', 941000.0, 'S', 'Jellis', '7/05/2016', 2.5, 3067.0, 2.0, 1.0, 0.0, 181.0, None, None, 'Yarra', -37.8041, 144.9953, 'Northern Metropolitan', 4019.0), ('Abbotsford', '124 Yarra St', 3, 'h', 1876000.0, 'S', 'Nelson', '7/05/2016', 2.5, 3067.0, 4.0, 2.0, 0.0, 245.0, 210.0, 1910.0, 'Yarra', -37.8024, 144.9993, 'Northern Metropolitan', 4019.0), ('Abbotsford', '98 Charles St', 2, 'h', 1636000.0, 'S', 'Nelson', '8/10/2016', 2.5, 3067.0, 2.0, 1.0, 2.0, 256.0, 107.0, 1890.0, 'Yarra', -37.806, 144.9954, 'Northern Metropolitan', 4019.0)  ... displaying 10 of 13580 total bound parameter sets ...  ('Williamstown', '96 Verdon St', 4, 'h', 2500000.0, 'PI', 'Sweeney', '26/08/2017', 6.8, 3016.0, 4.0, 1.0, 5.0, 866.0, 157.0, 1920.0, None, -37.85908, 144.89299, 'Western Metropolitan', 6380.0), ('Yarraville', '6 Agnes St', 4, 'h', 1285000.0, 'SP', 'Village', '26/08/2017', 6.3, 3013.0, 4.0, 1.0, 1.0, 362.0, 112.0, 1920.0, None, -37.81188, 144.88449, 'Western Metropolitan', 6543.0)]\n",
      "2025-05-11 23:35:47,504 INFO sqlalchemy.engine.Engine COMMIT\n",
      "select * from melb\n",
      "2025-05-11 23:35:47,514 INFO sqlalchemy.engine.Engine BEGIN (implicit)\n",
      "2025-05-11 23:35:47,514 INFO sqlalchemy.engine.Engine PRAGMA main.table_info(\"select * from melb\")\n",
      "2025-05-11 23:35:47,516 INFO sqlalchemy.engine.Engine [raw sql] ()\n",
      "2025-05-11 23:35:47,516 INFO sqlalchemy.engine.Engine PRAGMA temp.table_info(\"select * from melb\")\n",
      "2025-05-11 23:35:47,517 INFO sqlalchemy.engine.Engine [raw sql] ()\n",
      "2025-05-11 23:35:47,518 INFO sqlalchemy.engine.Engine select * from melb\n",
      "2025-05-11 23:35:47,519 INFO sqlalchemy.engine.Engine [raw sql] ()\n",
      "2025-05-11 23:35:47,627 INFO sqlalchemy.engine.Engine ROLLBACK\n",
      "Total de registros en Northern Metropolitan:               Suburb           Address  Rooms Type      Price Method  \\\n",
      "0         Abbotsford      85 Turner St      2    h  1480000.0      S   \n",
      "1         Abbotsford   25 Bloomburg St      2    h  1035000.0      S   \n",
      "2         Abbotsford      5 Charles St      3    h  1465000.0     SP   \n",
      "3         Abbotsford  40 Federation La      3    h   850000.0     PI   \n",
      "4         Abbotsford       55a Park St      4    h  1600000.0     VB   \n",
      "...              ...               ...    ...  ...        ...    ...   \n",
      "13575  Wheelers Hill      12 Strada Cr      4    h  1245000.0      S   \n",
      "13576   Williamstown     77 Merrett Dr      3    h  1031000.0     SP   \n",
      "13577   Williamstown       83 Power St      3    h  1170000.0      S   \n",
      "13578   Williamstown      96 Verdon St      4    h  2500000.0     PI   \n",
      "13579     Yarraville        6 Agnes St      4    h  1285000.0     SP   \n",
      "\n",
      "        SellerG        Date  Distance  Postcode  ...  Bathroom  Car  Landsize  \\\n",
      "0        Biggin   3/12/2016       2.5    3067.0  ...       1.0  1.0     202.0   \n",
      "1        Biggin   4/02/2016       2.5    3067.0  ...       1.0  0.0     156.0   \n",
      "2        Biggin   4/03/2017       2.5    3067.0  ...       2.0  0.0     134.0   \n",
      "3        Biggin   4/03/2017       2.5    3067.0  ...       2.0  1.0      94.0   \n",
      "4        Nelson   4/06/2016       2.5    3067.0  ...       1.0  2.0     120.0   \n",
      "...         ...         ...       ...       ...  ...       ...  ...       ...   \n",
      "13575     Barry  26/08/2017      16.7    3150.0  ...       2.0  2.0     652.0   \n",
      "13576  Williams  26/08/2017       6.8    3016.0  ...       2.0  2.0     333.0   \n",
      "13577     Raine  26/08/2017       6.8    3016.0  ...       2.0  4.0     436.0   \n",
      "13578   Sweeney  26/08/2017       6.8    3016.0  ...       1.0  5.0     866.0   \n",
      "13579   Village  26/08/2017       6.3    3013.0  ...       1.0  1.0     362.0   \n",
      "\n",
      "       BuildingArea  YearBuilt  CouncilArea Lattitude  Longtitude  \\\n",
      "0               NaN        NaN        Yarra -37.79960   144.99840   \n",
      "1              79.0     1900.0        Yarra -37.80790   144.99340   \n",
      "2             150.0     1900.0        Yarra -37.80930   144.99440   \n",
      "3               NaN        NaN        Yarra -37.79690   144.99690   \n",
      "4             142.0     2014.0        Yarra -37.80720   144.99410   \n",
      "...             ...        ...          ...       ...         ...   \n",
      "13575           NaN     1981.0         None -37.90562   145.16761   \n",
      "13576         133.0     1995.0         None -37.85927   144.87904   \n",
      "13577           NaN     1997.0         None -37.85274   144.88738   \n",
      "13578         157.0     1920.0         None -37.85908   144.89299   \n",
      "13579         112.0     1920.0         None -37.81188   144.88449   \n",
      "\n",
      "                       Regionname Propertycount  \n",
      "0           Northern Metropolitan        4019.0  \n",
      "1           Northern Metropolitan        4019.0  \n",
      "2           Northern Metropolitan        4019.0  \n",
      "3           Northern Metropolitan        4019.0  \n",
      "4           Northern Metropolitan        4019.0  \n",
      "...                           ...           ...  \n",
      "13575  South-Eastern Metropolitan        7392.0  \n",
      "13576        Western Metropolitan        6380.0  \n",
      "13577        Western Metropolitan        6380.0  \n",
      "13578        Western Metropolitan        6380.0  \n",
      "13579        Western Metropolitan        6543.0  \n",
      "\n",
      "[13580 rows x 21 columns]\n"
     ]
    }
   ],
   "source": [
    "engine = create_engine(\"sqlite:///C:\\\\diplomatura\\\\to\\\\melbourne.db\", echo=True)\n",
    "# engine\n",
    "\n",
    "melb_df.to_sql('melb', con=engine, if_exists='replace', index=False)"
   ]
  },
  {
   "cell_type": "code",
   "execution_count": 66,
   "id": "5f958128",
   "metadata": {},
   "outputs": [
    {
     "name": "stdout",
     "output_type": "stream",
     "text": [
      "2025-05-12 00:20:08,588 INFO sqlalchemy.engine.Engine BEGIN (implicit)\n",
      "2025-05-12 00:20:08,588 INFO sqlalchemy.engine.Engine PRAGMA main.table_info(\"select count(*) as total, regionname from melb group by Regionname order by total desc;\")\n",
      "2025-05-12 00:20:08,589 INFO sqlalchemy.engine.Engine [raw sql] ()\n",
      "2025-05-12 00:20:08,591 INFO sqlalchemy.engine.Engine PRAGMA temp.table_info(\"select count(*) as total, regionname from melb group by Regionname order by total desc;\")\n",
      "2025-05-12 00:20:08,593 INFO sqlalchemy.engine.Engine [raw sql] ()\n",
      "2025-05-12 00:20:08,594 INFO sqlalchemy.engine.Engine select count(*) as total, regionname from melb group by Regionname order by total desc;\n",
      "2025-05-12 00:20:08,595 INFO sqlalchemy.engine.Engine [raw sql] ()\n",
      "2025-05-12 00:20:08,607 INFO sqlalchemy.engine.Engine ROLLBACK\n"
     ]
    },
    {
     "data": {
      "application/vnd.microsoft.datawrangler.viewer.v0+json": {
       "columns": [
        {
         "name": "index",
         "rawType": "int64",
         "type": "integer"
        },
        {
         "name": "total",
         "rawType": "int64",
         "type": "integer"
        },
        {
         "name": "Regionname",
         "rawType": "object",
         "type": "string"
        }
       ],
       "conversionMethod": "pd.DataFrame",
       "ref": "29357694-d4b5-4f67-940f-3368c7f4d57d",
       "rows": [
        [
         "0",
         "4695",
         "Southern Metropolitan"
        ],
        [
         "1",
         "3890",
         "Northern Metropolitan"
        ],
        [
         "2",
         "2948",
         "Western Metropolitan"
        ],
        [
         "3",
         "1471",
         "Eastern Metropolitan"
        ],
        [
         "4",
         "450",
         "South-Eastern Metropolitan"
        ],
        [
         "5",
         "53",
         "Eastern Victoria"
        ],
        [
         "6",
         "41",
         "Northern Victoria"
        ],
        [
         "7",
         "32",
         "Western Victoria"
        ]
       ],
       "shape": {
        "columns": 2,
        "rows": 8
       }
      },
      "text/html": [
       "<div>\n",
       "<style scoped>\n",
       "    .dataframe tbody tr th:only-of-type {\n",
       "        vertical-align: middle;\n",
       "    }\n",
       "\n",
       "    .dataframe tbody tr th {\n",
       "        vertical-align: top;\n",
       "    }\n",
       "\n",
       "    .dataframe thead th {\n",
       "        text-align: right;\n",
       "    }\n",
       "</style>\n",
       "<table border=\"1\" class=\"dataframe\">\n",
       "  <thead>\n",
       "    <tr style=\"text-align: right;\">\n",
       "      <th></th>\n",
       "      <th>total</th>\n",
       "      <th>Regionname</th>\n",
       "    </tr>\n",
       "  </thead>\n",
       "  <tbody>\n",
       "    <tr>\n",
       "      <th>0</th>\n",
       "      <td>4695</td>\n",
       "      <td>Southern Metropolitan</td>\n",
       "    </tr>\n",
       "    <tr>\n",
       "      <th>1</th>\n",
       "      <td>3890</td>\n",
       "      <td>Northern Metropolitan</td>\n",
       "    </tr>\n",
       "    <tr>\n",
       "      <th>2</th>\n",
       "      <td>2948</td>\n",
       "      <td>Western Metropolitan</td>\n",
       "    </tr>\n",
       "    <tr>\n",
       "      <th>3</th>\n",
       "      <td>1471</td>\n",
       "      <td>Eastern Metropolitan</td>\n",
       "    </tr>\n",
       "    <tr>\n",
       "      <th>4</th>\n",
       "      <td>450</td>\n",
       "      <td>South-Eastern Metropolitan</td>\n",
       "    </tr>\n",
       "    <tr>\n",
       "      <th>5</th>\n",
       "      <td>53</td>\n",
       "      <td>Eastern Victoria</td>\n",
       "    </tr>\n",
       "    <tr>\n",
       "      <th>6</th>\n",
       "      <td>41</td>\n",
       "      <td>Northern Victoria</td>\n",
       "    </tr>\n",
       "    <tr>\n",
       "      <th>7</th>\n",
       "      <td>32</td>\n",
       "      <td>Western Victoria</td>\n",
       "    </tr>\n",
       "  </tbody>\n",
       "</table>\n",
       "</div>"
      ],
      "text/plain": [
       "   total                  Regionname\n",
       "0   4695       Southern Metropolitan\n",
       "1   3890       Northern Metropolitan\n",
       "2   2948        Western Metropolitan\n",
       "3   1471        Eastern Metropolitan\n",
       "4    450  South-Eastern Metropolitan\n",
       "5     53            Eastern Victoria\n",
       "6     41           Northern Victoria\n",
       "7     32            Western Victoria"
      ]
     },
     "execution_count": 66,
     "metadata": {},
     "output_type": "execute_result"
    }
   ],
   "source": [
    "queryTotalRegistrosPorCiudad = \"select count(*) as total, regionname from melb group by Regionname order by total desc;\"\n",
    "resultTotalRegistrosPorCiudad = pandas.read_sql(queryTotalRegistrosPorCiudad, con=engine)\n",
    "resultTotalRegistrosPorCiudad\n"
   ]
  },
  {
   "cell_type": "code",
   "execution_count": 67,
   "id": "4b6b2f90",
   "metadata": {},
   "outputs": [
    {
     "name": "stdout",
     "output_type": "stream",
     "text": [
      "2025-05-12 00:20:20,140 INFO sqlalchemy.engine.Engine BEGIN (implicit)\n",
      "2025-05-12 00:20:20,141 INFO sqlalchemy.engine.Engine PRAGMA main.table_info(\"select count(*) as total, suburb from melb group by Regionname, suburb order by total desc;\")\n",
      "2025-05-12 00:20:20,143 INFO sqlalchemy.engine.Engine [raw sql] ()\n",
      "2025-05-12 00:20:20,145 INFO sqlalchemy.engine.Engine PRAGMA temp.table_info(\"select count(*) as total, suburb from melb group by Regionname, suburb order by total desc;\")\n",
      "2025-05-12 00:20:20,146 INFO sqlalchemy.engine.Engine [raw sql] ()\n",
      "2025-05-12 00:20:20,148 INFO sqlalchemy.engine.Engine select count(*) as total, suburb from melb group by Regionname, suburb order by total desc;\n",
      "2025-05-12 00:20:20,149 INFO sqlalchemy.engine.Engine [raw sql] ()\n",
      "2025-05-12 00:20:20,168 INFO sqlalchemy.engine.Engine ROLLBACK\n"
     ]
    },
    {
     "data": {
      "application/vnd.microsoft.datawrangler.viewer.v0+json": {
       "columns": [
        {
         "name": "index",
         "rawType": "int64",
         "type": "integer"
        },
        {
         "name": "total",
         "rawType": "int64",
         "type": "integer"
        },
        {
         "name": "Suburb",
         "rawType": "object",
         "type": "string"
        }
       ],
       "conversionMethod": "pd.DataFrame",
       "ref": "f0bccd78-6cd9-41a1-9fe7-cb9f18bceb8e",
       "rows": [
        [
         "0",
         "359",
         "Reservoir"
        ],
        [
         "1",
         "260",
         "Richmond"
        ],
        [
         "2",
         "249",
         "Bentleigh East"
        ],
        [
         "3",
         "239",
         "Preston"
        ],
        [
         "4",
         "222",
         "Brunswick"
        ],
        [
         "5",
         "220",
         "Essendon"
        ],
        [
         "6",
         "202",
         "South Yarra"
        ],
        [
         "7",
         "195",
         "Glen Iris"
        ],
        [
         "8",
         "191",
         "Hawthorn"
        ],
        [
         "9",
         "190",
         "Coburg"
        ],
        [
         "10",
         "188",
         "Northcote"
        ],
        [
         "11",
         "186",
         "Brighton"
        ],
        [
         "12",
         "177",
         "Kew"
        ],
        [
         "13",
         "171",
         "Pascoe Vale"
        ],
        [
         "14",
         "171",
         "Balwyn North"
        ],
        [
         "15",
         "164",
         "Yarraville"
        ],
        [
         "16",
         "162",
         "St Kilda"
        ],
        [
         "17",
         "159",
         "Glenroy"
        ],
        [
         "18",
         "153",
         "Port Melbourne"
        ],
        [
         "19",
         "149",
         "Moonee Ponds"
        ],
        [
         "20",
         "146",
         "Carnegie"
        ],
        [
         "21",
         "139",
         "Thornbury"
        ],
        [
         "22",
         "139",
         "Bentleigh"
        ],
        [
         "23",
         "138",
         "Brighton East"
        ],
        [
         "24",
         "137",
         "Newport"
        ],
        [
         "25",
         "132",
         "Camberwell"
        ],
        [
         "26",
         "132",
         "Footscray"
        ],
        [
         "27",
         "131",
         "Elwood"
        ],
        [
         "28",
         "130",
         "Hampton"
        ],
        [
         "29",
         "130",
         "Ascot Vale"
        ],
        [
         "30",
         "125",
         "Surrey Hills"
        ],
        [
         "31",
         "123",
         "Prahran"
        ],
        [
         "32",
         "121",
         "Keilor East"
        ],
        [
         "33",
         "119",
         "Hawthorn East"
        ],
        [
         "34",
         "117",
         "Kensington"
        ],
        [
         "35",
         "117",
         "Malvern East"
        ],
        [
         "36",
         "116",
         "Doncaster"
        ],
        [
         "37",
         "111",
         "Sunshine"
        ],
        [
         "38",
         "110",
         "Brunswick West"
        ],
        [
         "39",
         "107",
         "Balwyn"
        ],
        [
         "40",
         "107",
         "Williamstown"
        ],
        [
         "41",
         "105",
         "West Footscray"
        ],
        [
         "42",
         "102",
         "Fawkner"
        ],
        [
         "43",
         "100",
         "Toorak"
        ],
        [
         "44",
         "98",
         "Ivanhoe"
        ],
        [
         "45",
         "96",
         "Maribyrnong"
        ],
        [
         "46",
         "95",
         "Armadale"
        ],
        [
         "47",
         "94",
         "Maidstone"
        ],
        [
         "48",
         "93",
         "Fitzroy North"
        ],
        [
         "49",
         "92",
         "Templestowe Lower"
        ]
       ],
       "shape": {
        "columns": 2,
        "rows": 314
       }
      },
      "text/html": [
       "<div>\n",
       "<style scoped>\n",
       "    .dataframe tbody tr th:only-of-type {\n",
       "        vertical-align: middle;\n",
       "    }\n",
       "\n",
       "    .dataframe tbody tr th {\n",
       "        vertical-align: top;\n",
       "    }\n",
       "\n",
       "    .dataframe thead th {\n",
       "        text-align: right;\n",
       "    }\n",
       "</style>\n",
       "<table border=\"1\" class=\"dataframe\">\n",
       "  <thead>\n",
       "    <tr style=\"text-align: right;\">\n",
       "      <th></th>\n",
       "      <th>total</th>\n",
       "      <th>Suburb</th>\n",
       "    </tr>\n",
       "  </thead>\n",
       "  <tbody>\n",
       "    <tr>\n",
       "      <th>0</th>\n",
       "      <td>359</td>\n",
       "      <td>Reservoir</td>\n",
       "    </tr>\n",
       "    <tr>\n",
       "      <th>1</th>\n",
       "      <td>260</td>\n",
       "      <td>Richmond</td>\n",
       "    </tr>\n",
       "    <tr>\n",
       "      <th>2</th>\n",
       "      <td>249</td>\n",
       "      <td>Bentleigh East</td>\n",
       "    </tr>\n",
       "    <tr>\n",
       "      <th>3</th>\n",
       "      <td>239</td>\n",
       "      <td>Preston</td>\n",
       "    </tr>\n",
       "    <tr>\n",
       "      <th>4</th>\n",
       "      <td>222</td>\n",
       "      <td>Brunswick</td>\n",
       "    </tr>\n",
       "    <tr>\n",
       "      <th>...</th>\n",
       "      <td>...</td>\n",
       "      <td>...</td>\n",
       "    </tr>\n",
       "    <tr>\n",
       "      <th>309</th>\n",
       "      <td>1</td>\n",
       "      <td>Sandhurst</td>\n",
       "    </tr>\n",
       "    <tr>\n",
       "      <th>310</th>\n",
       "      <td>1</td>\n",
       "      <td>Plumpton</td>\n",
       "    </tr>\n",
       "    <tr>\n",
       "      <th>311</th>\n",
       "      <td>1</td>\n",
       "      <td>Rockbank</td>\n",
       "    </tr>\n",
       "    <tr>\n",
       "      <th>312</th>\n",
       "      <td>1</td>\n",
       "      <td>Bacchus Marsh</td>\n",
       "    </tr>\n",
       "    <tr>\n",
       "      <th>313</th>\n",
       "      <td>1</td>\n",
       "      <td>Brookfield</td>\n",
       "    </tr>\n",
       "  </tbody>\n",
       "</table>\n",
       "<p>314 rows × 2 columns</p>\n",
       "</div>"
      ],
      "text/plain": [
       "     total          Suburb\n",
       "0      359       Reservoir\n",
       "1      260        Richmond\n",
       "2      249  Bentleigh East\n",
       "3      239         Preston\n",
       "4      222       Brunswick\n",
       "..     ...             ...\n",
       "309      1       Sandhurst\n",
       "310      1        Plumpton\n",
       "311      1        Rockbank\n",
       "312      1   Bacchus Marsh\n",
       "313      1      Brookfield\n",
       "\n",
       "[314 rows x 2 columns]"
      ]
     },
     "execution_count": 67,
     "metadata": {},
     "output_type": "execute_result"
    }
   ],
   "source": [
    "\n",
    "queryTotalRegistrosPorBarrioYCiudad = \"select count(*) as total, suburb from melb group by Regionname, suburb order by total desc;\"\n",
    "resultTotalRegistrosPorBarrioYCiudad = pandas.read_sql(queryTotalRegistrosPorBarrioYCiudad, con=engine)\n",
    "resultTotalRegistrosPorBarrioYCiudad"
   ]
  },
  {
   "cell_type": "code",
   "execution_count": 44,
   "id": "b1e25351",
   "metadata": {},
   "outputs": [
    {
     "name": "stdout",
     "output_type": "stream",
     "text": [
      "2025-05-11 23:49:16,721 INFO sqlalchemy.engine.Engine BEGIN (implicit)\n",
      "2025-05-11 23:49:16,722 INFO sqlalchemy.engine.Engine PRAGMA main.table_info(\"select count(*) as total, regionname from melb where rooms > 2 group by Regionname order by total desc;\")\n",
      "2025-05-11 23:49:16,724 INFO sqlalchemy.engine.Engine [raw sql] ()\n",
      "2025-05-11 23:49:16,725 INFO sqlalchemy.engine.Engine PRAGMA temp.table_info(\"select count(*) as total, regionname from melb where rooms > 2 group by Regionname order by total desc;\")\n",
      "2025-05-11 23:49:16,727 INFO sqlalchemy.engine.Engine [raw sql] ()\n",
      "2025-05-11 23:49:16,730 INFO sqlalchemy.engine.Engine select count(*) as total, regionname from melb where rooms > 2 group by Regionname order by total desc;\n",
      "2025-05-11 23:49:16,731 INFO sqlalchemy.engine.Engine [raw sql] ()\n",
      "2025-05-11 23:49:16,740 INFO sqlalchemy.engine.Engine ROLLBACK\n"
     ]
    },
    {
     "data": {
      "application/vnd.microsoft.datawrangler.viewer.v0+json": {
       "columns": [
        {
         "name": "index",
         "rawType": "int64",
         "type": "integer"
        },
        {
         "name": "total",
         "rawType": "int64",
         "type": "integer"
        },
        {
         "name": "Regionname",
         "rawType": "object",
         "type": "string"
        }
       ],
       "conversionMethod": "pd.DataFrame",
       "ref": "e039a9a7-fbed-417c-9470-8c704d0ca38f",
       "rows": [
        [
         "0",
         "2848",
         "Southern Metropolitan"
        ],
        [
         "1",
         "2389",
         "Northern Metropolitan"
        ],
        [
         "2",
         "2259",
         "Western Metropolitan"
        ],
        [
         "3",
         "1228",
         "Eastern Metropolitan"
        ],
        [
         "4",
         "407",
         "South-Eastern Metropolitan"
        ],
        [
         "5",
         "50",
         "Eastern Victoria"
        ],
        [
         "6",
         "39",
         "Northern Victoria"
        ],
        [
         "7",
         "31",
         "Western Victoria"
        ]
       ],
       "shape": {
        "columns": 2,
        "rows": 8
       }
      },
      "text/html": [
       "<div>\n",
       "<style scoped>\n",
       "    .dataframe tbody tr th:only-of-type {\n",
       "        vertical-align: middle;\n",
       "    }\n",
       "\n",
       "    .dataframe tbody tr th {\n",
       "        vertical-align: top;\n",
       "    }\n",
       "\n",
       "    .dataframe thead th {\n",
       "        text-align: right;\n",
       "    }\n",
       "</style>\n",
       "<table border=\"1\" class=\"dataframe\">\n",
       "  <thead>\n",
       "    <tr style=\"text-align: right;\">\n",
       "      <th></th>\n",
       "      <th>total</th>\n",
       "      <th>Regionname</th>\n",
       "    </tr>\n",
       "  </thead>\n",
       "  <tbody>\n",
       "    <tr>\n",
       "      <th>0</th>\n",
       "      <td>2848</td>\n",
       "      <td>Southern Metropolitan</td>\n",
       "    </tr>\n",
       "    <tr>\n",
       "      <th>1</th>\n",
       "      <td>2389</td>\n",
       "      <td>Northern Metropolitan</td>\n",
       "    </tr>\n",
       "    <tr>\n",
       "      <th>2</th>\n",
       "      <td>2259</td>\n",
       "      <td>Western Metropolitan</td>\n",
       "    </tr>\n",
       "    <tr>\n",
       "      <th>3</th>\n",
       "      <td>1228</td>\n",
       "      <td>Eastern Metropolitan</td>\n",
       "    </tr>\n",
       "    <tr>\n",
       "      <th>4</th>\n",
       "      <td>407</td>\n",
       "      <td>South-Eastern Metropolitan</td>\n",
       "    </tr>\n",
       "    <tr>\n",
       "      <th>5</th>\n",
       "      <td>50</td>\n",
       "      <td>Eastern Victoria</td>\n",
       "    </tr>\n",
       "    <tr>\n",
       "      <th>6</th>\n",
       "      <td>39</td>\n",
       "      <td>Northern Victoria</td>\n",
       "    </tr>\n",
       "    <tr>\n",
       "      <th>7</th>\n",
       "      <td>31</td>\n",
       "      <td>Western Victoria</td>\n",
       "    </tr>\n",
       "  </tbody>\n",
       "</table>\n",
       "</div>"
      ],
      "text/plain": [
       "   total                  Regionname\n",
       "0   2848       Southern Metropolitan\n",
       "1   2389       Northern Metropolitan\n",
       "2   2259        Western Metropolitan\n",
       "3   1228        Eastern Metropolitan\n",
       "4    407  South-Eastern Metropolitan\n",
       "5     50            Eastern Victoria\n",
       "6     39           Northern Victoria\n",
       "7     31            Western Victoria"
      ]
     },
     "execution_count": 44,
     "metadata": {},
     "output_type": "execute_result"
    }
   ],
   "source": [
    "    # - Consulta con filtro: ¿Cuántas propiedades hay por ciudad con más de 2 habitaciones?\n",
    "    \n",
    "queryTotalRegistrosPorCiudadConMasDe2Habitaciones = \"select count(*) as total, regionname from melb where rooms > 2 group by Regionname order by total desc;\"\n",
    "resultTotalRegistrosPorCiudadConMasDe2Habitaciones = pandas.read_sql(queryTotalRegistrosPorCiudadConMasDe2Habitaciones, con=engine)\n",
    "resultTotalRegistrosPorCiudadConMasDe2Habitaciones\n"
   ]
  },
  {
   "cell_type": "code",
   "execution_count": 58,
   "id": "6250f777",
   "metadata": {},
   "outputs": [
    {
     "name": "stdout",
     "output_type": "stream",
     "text": [
      "2025-05-12 00:00:50,126 INFO sqlalchemy.engine.Engine BEGIN (implicit)\n",
      "2025-05-12 00:00:50,127 INFO sqlalchemy.engine.Engine PRAGMA main.table_info(\"select round(avg(price) ,2) as precio_promedio, type, regionname from melb group by type, regionname order by precio_promedio desc;\")\n",
      "2025-05-12 00:00:50,129 INFO sqlalchemy.engine.Engine [raw sql] ()\n",
      "2025-05-12 00:00:50,131 INFO sqlalchemy.engine.Engine PRAGMA temp.table_info(\"select round(avg(price) ,2) as precio_promedio, type, regionname from melb group by type, regionname order by precio_promedio desc;\")\n",
      "2025-05-12 00:00:50,132 INFO sqlalchemy.engine.Engine [raw sql] ()\n",
      "2025-05-12 00:00:50,134 INFO sqlalchemy.engine.Engine select round(avg(price) ,2) as precio_promedio, type, regionname from melb group by type, regionname order by precio_promedio desc;\n",
      "2025-05-12 00:00:50,136 INFO sqlalchemy.engine.Engine [raw sql] ()\n",
      "2025-05-12 00:00:50,154 INFO sqlalchemy.engine.Engine ROLLBACK\n"
     ]
    },
    {
     "data": {
      "application/vnd.microsoft.datawrangler.viewer.v0+json": {
       "columns": [
        {
         "name": "index",
         "rawType": "int64",
         "type": "integer"
        },
        {
         "name": "precio_promedio",
         "rawType": "float64",
         "type": "float"
        },
        {
         "name": "Type",
         "rawType": "object",
         "type": "string"
        },
        {
         "name": "Regionname",
         "rawType": "object",
         "type": "string"
        }
       ],
       "conversionMethod": "pd.DataFrame",
       "ref": "68f90bd1-468c-49b6-97c8-7964ad1ef5d1",
       "rows": [
        [
         "0",
         "1802241.08",
         "h",
         "Southern Metropolitan"
        ],
        [
         "1",
         "1205404.47",
         "t",
         "Southern Metropolitan"
        ],
        [
         "2",
         "1197450.46",
         "h",
         "Eastern Metropolitan"
        ],
        [
         "3",
         "1021221.87",
         "h",
         "Northern Metropolitan"
        ],
        [
         "4",
         "955949.62",
         "h",
         "South-Eastern Metropolitan"
        ],
        [
         "5",
         "950766.27",
         "h",
         "Western Metropolitan"
        ],
        [
         "6",
         "913270.0",
         "t",
         "South-Eastern Metropolitan"
        ],
        [
         "7",
         "869619.92",
         "t",
         "Eastern Metropolitan"
        ],
        [
         "8",
         "749608.31",
         "t",
         "Northern Metropolitan"
        ],
        [
         "9",
         "720951.05",
         "t",
         "Western Metropolitan"
        ],
        [
         "10",
         "714299.64",
         "h",
         "Eastern Victoria"
        ],
        [
         "11",
         "664860.01",
         "u",
         "Southern Metropolitan"
        ],
        [
         "12",
         "649314.44",
         "u",
         "Eastern Metropolitan"
        ],
        [
         "13",
         "594829.27",
         "h",
         "Northern Victoria"
        ],
        [
         "14",
         "583364.86",
         "u",
         "South-Eastern Metropolitan"
        ],
        [
         "15",
         "544403.77",
         "u",
         "Northern Metropolitan"
        ],
        [
         "16",
         "488414.42",
         "u",
         "Western Metropolitan"
        ],
        [
         "17",
         "461333.33",
         "u",
         "Eastern Victoria"
        ],
        [
         "18",
         "397523.44",
         "h",
         "Western Victoria"
        ]
       ],
       "shape": {
        "columns": 3,
        "rows": 19
       }
      },
      "text/html": [
       "<div>\n",
       "<style scoped>\n",
       "    .dataframe tbody tr th:only-of-type {\n",
       "        vertical-align: middle;\n",
       "    }\n",
       "\n",
       "    .dataframe tbody tr th {\n",
       "        vertical-align: top;\n",
       "    }\n",
       "\n",
       "    .dataframe thead th {\n",
       "        text-align: right;\n",
       "    }\n",
       "</style>\n",
       "<table border=\"1\" class=\"dataframe\">\n",
       "  <thead>\n",
       "    <tr style=\"text-align: right;\">\n",
       "      <th></th>\n",
       "      <th>precio_promedio</th>\n",
       "      <th>Type</th>\n",
       "      <th>Regionname</th>\n",
       "    </tr>\n",
       "  </thead>\n",
       "  <tbody>\n",
       "    <tr>\n",
       "      <th>0</th>\n",
       "      <td>1802241.08</td>\n",
       "      <td>h</td>\n",
       "      <td>Southern Metropolitan</td>\n",
       "    </tr>\n",
       "    <tr>\n",
       "      <th>1</th>\n",
       "      <td>1205404.47</td>\n",
       "      <td>t</td>\n",
       "      <td>Southern Metropolitan</td>\n",
       "    </tr>\n",
       "    <tr>\n",
       "      <th>2</th>\n",
       "      <td>1197450.46</td>\n",
       "      <td>h</td>\n",
       "      <td>Eastern Metropolitan</td>\n",
       "    </tr>\n",
       "    <tr>\n",
       "      <th>3</th>\n",
       "      <td>1021221.87</td>\n",
       "      <td>h</td>\n",
       "      <td>Northern Metropolitan</td>\n",
       "    </tr>\n",
       "    <tr>\n",
       "      <th>4</th>\n",
       "      <td>955949.62</td>\n",
       "      <td>h</td>\n",
       "      <td>South-Eastern Metropolitan</td>\n",
       "    </tr>\n",
       "    <tr>\n",
       "      <th>5</th>\n",
       "      <td>950766.27</td>\n",
       "      <td>h</td>\n",
       "      <td>Western Metropolitan</td>\n",
       "    </tr>\n",
       "    <tr>\n",
       "      <th>6</th>\n",
       "      <td>913270.00</td>\n",
       "      <td>t</td>\n",
       "      <td>South-Eastern Metropolitan</td>\n",
       "    </tr>\n",
       "    <tr>\n",
       "      <th>7</th>\n",
       "      <td>869619.92</td>\n",
       "      <td>t</td>\n",
       "      <td>Eastern Metropolitan</td>\n",
       "    </tr>\n",
       "    <tr>\n",
       "      <th>8</th>\n",
       "      <td>749608.31</td>\n",
       "      <td>t</td>\n",
       "      <td>Northern Metropolitan</td>\n",
       "    </tr>\n",
       "    <tr>\n",
       "      <th>9</th>\n",
       "      <td>720951.05</td>\n",
       "      <td>t</td>\n",
       "      <td>Western Metropolitan</td>\n",
       "    </tr>\n",
       "    <tr>\n",
       "      <th>10</th>\n",
       "      <td>714299.64</td>\n",
       "      <td>h</td>\n",
       "      <td>Eastern Victoria</td>\n",
       "    </tr>\n",
       "    <tr>\n",
       "      <th>11</th>\n",
       "      <td>664860.01</td>\n",
       "      <td>u</td>\n",
       "      <td>Southern Metropolitan</td>\n",
       "    </tr>\n",
       "    <tr>\n",
       "      <th>12</th>\n",
       "      <td>649314.44</td>\n",
       "      <td>u</td>\n",
       "      <td>Eastern Metropolitan</td>\n",
       "    </tr>\n",
       "    <tr>\n",
       "      <th>13</th>\n",
       "      <td>594829.27</td>\n",
       "      <td>h</td>\n",
       "      <td>Northern Victoria</td>\n",
       "    </tr>\n",
       "    <tr>\n",
       "      <th>14</th>\n",
       "      <td>583364.86</td>\n",
       "      <td>u</td>\n",
       "      <td>South-Eastern Metropolitan</td>\n",
       "    </tr>\n",
       "    <tr>\n",
       "      <th>15</th>\n",
       "      <td>544403.77</td>\n",
       "      <td>u</td>\n",
       "      <td>Northern Metropolitan</td>\n",
       "    </tr>\n",
       "    <tr>\n",
       "      <th>16</th>\n",
       "      <td>488414.42</td>\n",
       "      <td>u</td>\n",
       "      <td>Western Metropolitan</td>\n",
       "    </tr>\n",
       "    <tr>\n",
       "      <th>17</th>\n",
       "      <td>461333.33</td>\n",
       "      <td>u</td>\n",
       "      <td>Eastern Victoria</td>\n",
       "    </tr>\n",
       "    <tr>\n",
       "      <th>18</th>\n",
       "      <td>397523.44</td>\n",
       "      <td>h</td>\n",
       "      <td>Western Victoria</td>\n",
       "    </tr>\n",
       "  </tbody>\n",
       "</table>\n",
       "</div>"
      ],
      "text/plain": [
       "    precio_promedio Type                  Regionname\n",
       "0        1802241.08    h       Southern Metropolitan\n",
       "1        1205404.47    t       Southern Metropolitan\n",
       "2        1197450.46    h        Eastern Metropolitan\n",
       "3        1021221.87    h       Northern Metropolitan\n",
       "4         955949.62    h  South-Eastern Metropolitan\n",
       "5         950766.27    h        Western Metropolitan\n",
       "6         913270.00    t  South-Eastern Metropolitan\n",
       "7         869619.92    t        Eastern Metropolitan\n",
       "8         749608.31    t       Northern Metropolitan\n",
       "9         720951.05    t        Western Metropolitan\n",
       "10        714299.64    h            Eastern Victoria\n",
       "11        664860.01    u       Southern Metropolitan\n",
       "12        649314.44    u        Eastern Metropolitan\n",
       "13        594829.27    h           Northern Victoria\n",
       "14        583364.86    u  South-Eastern Metropolitan\n",
       "15        544403.77    u       Northern Metropolitan\n",
       "16        488414.42    u        Western Metropolitan\n",
       "17        461333.33    u            Eastern Victoria\n",
       "18        397523.44    h            Western Victoria"
      ]
     },
     "execution_count": 58,
     "metadata": {},
     "output_type": "execute_result"
    }
   ],
   "source": [
    "    # - Agregación condicional: ¿Cuál es el precio promedio de propiedades según tipo (Type) y ciudad?\n",
    "queryPrecioPromedioPorTipoYCiudad = \"select round(avg(price) ,2) as precio_promedio, type, regionname from melb group by type, regionname order by precio_promedio desc;\"\n",
    "resultPrecioPromedioPorTipoYCiudad = pandas.read_sql(queryPrecioPromedioPorTipoYCiudad, con=engine)\n",
    "resultPrecioPromedioPorTipoYCiudad"
   ]
  },
  {
   "cell_type": "code",
   "execution_count": 65,
   "id": "5814d69f",
   "metadata": {},
   "outputs": [
    {
     "name": "stdout",
     "output_type": "stream",
     "text": [
      "2025-05-12 00:03:03,238 INFO sqlalchemy.engine.Engine BEGIN (implicit)\n",
      "2025-05-12 00:03:03,240 INFO sqlalchemy.engine.Engine PRAGMA main.table_info(\"select round(avg(price) ,2) as precio_promedio, suburb from melb group by suburb order by precio_promedio desc limit 5;\")\n",
      "2025-05-12 00:03:03,241 INFO sqlalchemy.engine.Engine [raw sql] ()\n",
      "2025-05-12 00:03:03,244 INFO sqlalchemy.engine.Engine PRAGMA temp.table_info(\"select round(avg(price) ,2) as precio_promedio, suburb from melb group by suburb order by precio_promedio desc limit 5;\")\n",
      "2025-05-12 00:03:03,246 INFO sqlalchemy.engine.Engine [raw sql] ()\n",
      "2025-05-12 00:03:03,247 INFO sqlalchemy.engine.Engine select round(avg(price) ,2) as precio_promedio, suburb from melb group by suburb order by precio_promedio desc limit 5;\n",
      "2025-05-12 00:03:03,250 INFO sqlalchemy.engine.Engine [raw sql] ()\n",
      "2025-05-12 00:03:03,261 INFO sqlalchemy.engine.Engine ROLLBACK\n"
     ]
    },
    {
     "data": {
      "application/vnd.microsoft.datawrangler.viewer.v0+json": {
       "columns": [
        {
         "name": "index",
         "rawType": "int64",
         "type": "integer"
        },
        {
         "name": "precio_promedio",
         "rawType": "float64",
         "type": "float"
        },
        {
         "name": "Suburb",
         "rawType": "object",
         "type": "string"
        }
       ],
       "conversionMethod": "pd.DataFrame",
       "ref": "3560d229-4a24-482a-8a34-749a57b43198",
       "rows": [
        [
         "0",
         "2185000.0",
         "Kooyong"
        ],
        [
         "1",
         "2180240.74",
         "Canterbury"
        ],
        [
         "2",
         "2082529.41",
         "Middle Park"
        ],
        [
         "3",
         "1941355.07",
         "Albert Park"
        ],
        [
         "4",
         "1930158.0",
         "Brighton"
        ]
       ],
       "shape": {
        "columns": 2,
        "rows": 5
       }
      },
      "text/html": [
       "<div>\n",
       "<style scoped>\n",
       "    .dataframe tbody tr th:only-of-type {\n",
       "        vertical-align: middle;\n",
       "    }\n",
       "\n",
       "    .dataframe tbody tr th {\n",
       "        vertical-align: top;\n",
       "    }\n",
       "\n",
       "    .dataframe thead th {\n",
       "        text-align: right;\n",
       "    }\n",
       "</style>\n",
       "<table border=\"1\" class=\"dataframe\">\n",
       "  <thead>\n",
       "    <tr style=\"text-align: right;\">\n",
       "      <th></th>\n",
       "      <th>precio_promedio</th>\n",
       "      <th>Suburb</th>\n",
       "    </tr>\n",
       "  </thead>\n",
       "  <tbody>\n",
       "    <tr>\n",
       "      <th>0</th>\n",
       "      <td>2185000.00</td>\n",
       "      <td>Kooyong</td>\n",
       "    </tr>\n",
       "    <tr>\n",
       "      <th>1</th>\n",
       "      <td>2180240.74</td>\n",
       "      <td>Canterbury</td>\n",
       "    </tr>\n",
       "    <tr>\n",
       "      <th>2</th>\n",
       "      <td>2082529.41</td>\n",
       "      <td>Middle Park</td>\n",
       "    </tr>\n",
       "    <tr>\n",
       "      <th>3</th>\n",
       "      <td>1941355.07</td>\n",
       "      <td>Albert Park</td>\n",
       "    </tr>\n",
       "    <tr>\n",
       "      <th>4</th>\n",
       "      <td>1930158.00</td>\n",
       "      <td>Brighton</td>\n",
       "    </tr>\n",
       "  </tbody>\n",
       "</table>\n",
       "</div>"
      ],
      "text/plain": [
       "   precio_promedio       Suburb\n",
       "0       2185000.00      Kooyong\n",
       "1       2180240.74   Canterbury\n",
       "2       2082529.41  Middle Park\n",
       "3       1941355.07  Albert Park\n",
       "4       1930158.00     Brighton"
      ]
     },
     "execution_count": 65,
     "metadata": {},
     "output_type": "execute_result"
    }
   ],
   "source": [
    "    # - Orden y límites: Mostrá el top 5 barrios con propiedades más caras en promedio.\n",
    "queryTop5BarriosConPropiedadesMasCaras = \"select round(avg(price) ,2) as precio_promedio, suburb from melb group by suburb order by precio_promedio desc limit 5;\"\n",
    "resultTop5BarriosConPropiedadesMasCaras = pandas.read_sql(queryTop5BarriosConPropiedadesMasCaras, con=engine)\n",
    "resultTop5BarriosConPropiedadesMasCaras\n"
   ]
  },
  {
   "cell_type": "markdown",
   "id": "c5468c4f-5cdf-4df4-a317-60e1fb0c00db",
   "metadata": {
    "id": "c5468c4f-5cdf-4df4-a317-60e1fb0c00db"
   },
   "source": [
    "## Ejercicio 2 - Pandas:\n",
    "\n",
    "1. Seleccionar un subconjunto de columnas que les parezcan relevantes al problema de predicción del valor de la propiedad. Justificar explicitamente las columnas seleccionadas y las que no lo fueron.\n",
    "  1. Valores faltantes: ¿Qué porcentaje de filas tienen al menos un valor faltante?\n",
    "  2.  Mostrar la dispersión o distribución de las columnas seleccionadas.\n",
    " 3.  Eliminar los valores extremos que no sean relevantes para la predicción de valores de las propiedades.\n",
    " 4. Mostrar visualmente los valores extremos que eliminás\n",
    "\n",
    "\n",
    "\n",
    "2. Agregar información adicional respectiva al entorno de una propiedad a partir del [conjunto de datos de AirBnB](https://www.kaggle.com/tylerx/melbourne-airbnb-open-data?select=cleansed_listings_dec18.csv) utilizado en el práctico.\n",
    "  1. Seleccionar qué variables agregar y qué combinaciones aplicar a cada una. Por ejemplo, pueden utilizar solo la columna `price`, o aplicar múltiples transformaciones como la mediana (porque no la media?) o el mínimo.\n",
    "  2. Utilizar la variable zipcode para unir los conjuntos de datos. Sólo incluir los zipcodes que tengan una cantidad mínima de registros (a elección) como para que la información agregada sea relevante.\n",
    "  3. Mostrar un gráfico zipcode vs airbnb_price_median.\n",
    "  4. Investigar al menos otras 2 variables que puedan servir para combinar los datos, y justificar si serían adecuadas o no. Pueden asumir que cuentan con la ayuda de anotadores expertos para encontrar equivalencias entre barrios o direcciones, o que cuentan con algoritmos para encontrar las n ubicaciones más cercanas a una propiedad a partir de sus coordenadas geográficas. **NO** es necesario que realicen la implementación.\n",
    "  5. Si las coordenadas geoespaciales estuvieran disponibles, como las usarian?\n",
    "\n",
    "Pueden leer otras columnas del conjunto de AirBnB además de las que están en `interesting_cols`, si les parecen relevantes.\n",
    "\n",
    "¿Qué cosas no están en los datos que te gustaría tener para predecir mejor el precio de una propiedad?"
   ]
  },
  {
   "cell_type": "markdown",
   "id": "c5303f27-3b15-441b-b291-8caf1c734139",
   "metadata": {
    "id": "c5303f27-3b15-441b-b291-8caf1c734139"
   },
   "source": [
    "## Ejercicio 3:\n",
    "\n",
    "Crear y guardar un nuevo conjunto de datos con todas las transformaciones realizadas anteriormente."
   ]
  },
  {
   "cell_type": "markdown",
   "id": "abfd3eeb-d466-424b-b58e-d1364ac39206",
   "metadata": {
    "id": "abfd3eeb-d466-424b-b58e-d1364ac39206"
   },
   "source": [
    "## Ejercicios opcionales:\n",
    "\n",
    "1. Armar un script en python (archivo .py) [ETL](https://towardsdatascience.com/what-to-log-from-python-etl-pipelines-9e0cfe29950e) que corra los pasos de extraccion, transformacion y carga, armando una funcion para cada etapa del proceso y luego un main que corra todos los pasos requeridos.\n",
    "\n",
    "2. Armar un DAG en Apache Airflow que corra el ETL. (https://airflow.apache.org/docs/apache-airflow/stable/tutorial.html)"
   ]
  },
  {
   "cell_type": "code",
   "execution_count": null,
   "id": "5d210b95-836f-45ac-a52d-1a4dafdb447a",
   "metadata": {
    "id": "5d210b95-836f-45ac-a52d-1a4dafdb447a"
   },
   "outputs": [],
   "source": []
  }
 ],
 "metadata": {
  "colab": {
   "provenance": [
    {
     "file_id": "1WUlq5mXBWg0Qa4INSPGJUBpWlah4bFqd",
     "timestamp": 1682539012303
    }
   ]
  },
  "kernelspec": {
   "display_name": "base",
   "language": "python",
   "name": "python3"
  },
  "language_info": {
   "codemirror_mode": {
    "name": "ipython",
    "version": 3
   },
   "file_extension": ".py",
   "mimetype": "text/x-python",
   "name": "python",
   "nbconvert_exporter": "python",
   "pygments_lexer": "ipython3",
   "version": "3.12.4"
  }
 },
 "nbformat": 4,
 "nbformat_minor": 5
}
