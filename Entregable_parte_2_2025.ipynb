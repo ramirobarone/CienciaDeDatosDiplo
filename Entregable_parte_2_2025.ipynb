{
 "cells": [
  {
   "cell_type": "markdown",
   "metadata": {
    "id": "zO4bRoxr2Apy"
   },
   "source": [
    "# **Diplomatura en Ciencia de Datos, Aprendizaje Automático y sus Aplicaciones**\n",
    "\n",
    "## **Edición 2025**\n",
    "\n",
    "\n",
    "----\n",
    "\n",
    "# Trabajo práctico entregable - parte 2\n"
   ]
  },
  {
   "cell_type": "markdown",
   "metadata": {
    "id": "EQCY3gwteXi9"
   },
   "source": [
    "Trabajaremos con la base de datos de `melb_data` presentada a continuación."
   ]
  },
  {
   "cell_type": "code",
   "execution_count": 1,
   "metadata": {
    "executionInfo": {
     "elapsed": 5069,
     "status": "ok",
     "timestamp": 1746809853793,
     "user": {
      "displayName": "José Ignacio Robledo",
      "userId": "04062008772942614858"
     },
     "user_tz": -120
    },
    "id": "4udjxjk1EtVU"
   },
   "outputs": [],
   "source": [
    "import matplotlib.pyplot as plt\n",
    "import numpy\n",
    "import pandas\n",
    "\n",
    "import seaborn\n",
    "seaborn.set_context('talk')"
   ]
  },
  {
   "cell_type": "code",
   "execution_count": 2,
   "metadata": {
    "colab": {
     "base_uri": "https://localhost:8080/",
     "height": 262
    },
    "executionInfo": {
     "elapsed": 2718,
     "status": "ok",
     "timestamp": 1746809856514,
     "user": {
      "displayName": "José Ignacio Robledo",
      "userId": "04062008772942614858"
     },
     "user_tz": -120
    },
    "id": "_qeFN3GnEvMk",
    "outputId": "c6d9410a-dae7-4743-f89d-0d5e51affe3a"
   },
   "outputs": [
    {
     "data": {
      "text/html": [
       "<div>\n",
       "<style scoped>\n",
       "    .dataframe tbody tr th:only-of-type {\n",
       "        vertical-align: middle;\n",
       "    }\n",
       "\n",
       "    .dataframe tbody tr th {\n",
       "        vertical-align: top;\n",
       "    }\n",
       "\n",
       "    .dataframe thead th {\n",
       "        text-align: right;\n",
       "    }\n",
       "</style>\n",
       "<table border=\"1\" class=\"dataframe\">\n",
       "  <thead>\n",
       "    <tr style=\"text-align: right;\">\n",
       "      <th></th>\n",
       "      <th>Suburb</th>\n",
       "      <th>Address</th>\n",
       "      <th>Rooms</th>\n",
       "      <th>Type</th>\n",
       "      <th>Price</th>\n",
       "      <th>Method</th>\n",
       "      <th>SellerG</th>\n",
       "      <th>Date</th>\n",
       "      <th>Distance</th>\n",
       "      <th>Postcode</th>\n",
       "      <th>...</th>\n",
       "      <th>Bathroom</th>\n",
       "      <th>Car</th>\n",
       "      <th>Landsize</th>\n",
       "      <th>BuildingArea</th>\n",
       "      <th>YearBuilt</th>\n",
       "      <th>CouncilArea</th>\n",
       "      <th>Lattitude</th>\n",
       "      <th>Longtitude</th>\n",
       "      <th>Regionname</th>\n",
       "      <th>Propertycount</th>\n",
       "    </tr>\n",
       "  </thead>\n",
       "  <tbody>\n",
       "    <tr>\n",
       "      <th>0</th>\n",
       "      <td>Abbotsford</td>\n",
       "      <td>85 Turner St</td>\n",
       "      <td>2</td>\n",
       "      <td>h</td>\n",
       "      <td>1480000.0</td>\n",
       "      <td>S</td>\n",
       "      <td>Biggin</td>\n",
       "      <td>3/12/2016</td>\n",
       "      <td>2.5</td>\n",
       "      <td>3067.0</td>\n",
       "      <td>...</td>\n",
       "      <td>1.0</td>\n",
       "      <td>1.0</td>\n",
       "      <td>202.0</td>\n",
       "      <td>NaN</td>\n",
       "      <td>NaN</td>\n",
       "      <td>Yarra</td>\n",
       "      <td>-37.7996</td>\n",
       "      <td>144.9984</td>\n",
       "      <td>Northern Metropolitan</td>\n",
       "      <td>4019.0</td>\n",
       "    </tr>\n",
       "    <tr>\n",
       "      <th>1</th>\n",
       "      <td>Abbotsford</td>\n",
       "      <td>25 Bloomburg St</td>\n",
       "      <td>2</td>\n",
       "      <td>h</td>\n",
       "      <td>1035000.0</td>\n",
       "      <td>S</td>\n",
       "      <td>Biggin</td>\n",
       "      <td>4/02/2016</td>\n",
       "      <td>2.5</td>\n",
       "      <td>3067.0</td>\n",
       "      <td>...</td>\n",
       "      <td>1.0</td>\n",
       "      <td>0.0</td>\n",
       "      <td>156.0</td>\n",
       "      <td>79.0</td>\n",
       "      <td>1900.0</td>\n",
       "      <td>Yarra</td>\n",
       "      <td>-37.8079</td>\n",
       "      <td>144.9934</td>\n",
       "      <td>Northern Metropolitan</td>\n",
       "      <td>4019.0</td>\n",
       "    </tr>\n",
       "    <tr>\n",
       "      <th>2</th>\n",
       "      <td>Abbotsford</td>\n",
       "      <td>5 Charles St</td>\n",
       "      <td>3</td>\n",
       "      <td>h</td>\n",
       "      <td>1465000.0</td>\n",
       "      <td>SP</td>\n",
       "      <td>Biggin</td>\n",
       "      <td>4/03/2017</td>\n",
       "      <td>2.5</td>\n",
       "      <td>3067.0</td>\n",
       "      <td>...</td>\n",
       "      <td>2.0</td>\n",
       "      <td>0.0</td>\n",
       "      <td>134.0</td>\n",
       "      <td>150.0</td>\n",
       "      <td>1900.0</td>\n",
       "      <td>Yarra</td>\n",
       "      <td>-37.8093</td>\n",
       "      <td>144.9944</td>\n",
       "      <td>Northern Metropolitan</td>\n",
       "      <td>4019.0</td>\n",
       "    </tr>\n",
       "  </tbody>\n",
       "</table>\n",
       "<p>3 rows × 21 columns</p>\n",
       "</div>"
      ],
      "text/plain": [
       "       Suburb          Address  Rooms Type      Price Method SellerG  \\\n",
       "0  Abbotsford     85 Turner St      2    h  1480000.0      S  Biggin   \n",
       "1  Abbotsford  25 Bloomburg St      2    h  1035000.0      S  Biggin   \n",
       "2  Abbotsford     5 Charles St      3    h  1465000.0     SP  Biggin   \n",
       "\n",
       "        Date  Distance  Postcode  ...  Bathroom  Car  Landsize  BuildingArea  \\\n",
       "0  3/12/2016       2.5    3067.0  ...       1.0  1.0     202.0           NaN   \n",
       "1  4/02/2016       2.5    3067.0  ...       1.0  0.0     156.0          79.0   \n",
       "2  4/03/2017       2.5    3067.0  ...       2.0  0.0     134.0         150.0   \n",
       "\n",
       "   YearBuilt  CouncilArea Lattitude  Longtitude             Regionname  \\\n",
       "0        NaN        Yarra  -37.7996    144.9984  Northern Metropolitan   \n",
       "1     1900.0        Yarra  -37.8079    144.9934  Northern Metropolitan   \n",
       "2     1900.0        Yarra  -37.8093    144.9944  Northern Metropolitan   \n",
       "\n",
       "  Propertycount  \n",
       "0        4019.0  \n",
       "1        4019.0  \n",
       "2        4019.0  \n",
       "\n",
       "[3 rows x 21 columns]"
      ]
     },
     "execution_count": 2,
     "metadata": {},
     "output_type": "execute_result"
    }
   ],
   "source": [
    "# Acá deberían leer el conjunto de datos que ya tienen.\n",
    "melb_df = pandas.read_csv(\n",
    "    'https://cs.famaf.unc.edu.ar/~mteruel/datasets/diplodatos/melb_data.csv')\n",
    "melb_df[:3]"
   ]
  },
  {
   "cell_type": "markdown",
   "metadata": {
    "id": "s-mixICN22kA"
   },
   "source": [
    "## Ejercicio 1: Encoding\n",
    "\n",
    "1. Seleccionar todas las filas y columnas del conjunto de datos, **excepto** `BuildingArea` y `YearBuilt`.\n",
    "\n",
    "2. Aplicar una codificación One-hot encoding a cada fila, para las variables categóricas. Si lo consideran necesario, pueden volver a reducir el número de categorías únicas.\n",
    "\n",
    "Algunas opciones:\n",
    "  1. Utilizar `OneHotEncoder` junto con el parámetro `categories` para las variables categóricas y luego usar `numpy.hstack` para concatenar el resultado con las variables numéricas.\n",
    "  2. `DictVectorizer` con algunos pasos de pre-proceso previo.\n",
    "\n",
    "Recordar también que el atributo `pandas.DataFrame.values` permite acceder a la matriz de numpy subyacente a un DataFrame.\n"
   ]
  },
  {
   "cell_type": "markdown",
   "metadata": {
    "id": "ismngxPcfoWb"
   },
   "source": [
    "## Ejercicio 2: Imputación por KNN\n",
    "\n",
    "En el teórico se presentó el método `IterativeImputer` para imputar valores faltantes en variables numéricas. Sin embargo, los ejemplos presentados sólo utilizaban algunas variables numéricas presentes en el conjunto de datos. En este ejercicio, utilizaremos la matriz de datos codificada para imputar datos faltantes de manera más precisa.\n",
    "\n",
    "1. Agregue a la matriz obtenida en el punto anterior las columnas `YearBuilt` y `BuildingArea`.\n",
    "2. Aplique una instancia de `IterativeImputer` con un estimador `KNeighborsRegressor` para imputar los valores de las variables. ¿Es necesario estandarizar o escalar los datos previamente?\n",
    "3. Realice un gráfico mostrando la distribución de cada variable antes de ser imputada, y con ambos métodos de imputación."
   ]
  },
  {
   "cell_type": "code",
   "execution_count": null,
   "metadata": {
    "colab": {
     "base_uri": "https://localhost:8080/"
    },
    "executionInfo": {
     "elapsed": 4694,
     "status": "ok",
     "timestamp": 1746809861210,
     "user": {
      "displayName": "José Ignacio Robledo",
      "userId": "04062008772942614858"
     },
     "user_tz": -120
    },
    "id": "G4ClSr_JapCw",
    "outputId": "9e619740-44c9-4409-ae0e-33d4df8adb90"
   },
   "outputs": [],
   "source": [
    "from sklearn.experimental import enable_iterative_imputer\n",
    "from sklearn.neighbors import KNeighborsRegressor\n",
    "from sklearn.impute import IterativeImputer"
   ]
  },
  {
   "cell_type": "markdown",
   "metadata": {
    "id": "NBN7-5OIxjJW"
   },
   "source": [
    "## Ejercicio 3: Reducción de dimensionalidad.\n",
    "\n",
    "Utilizando la matriz obtenida en el ejercicio anterior:\n",
    "1. Aplique `PCA` para obtener $n$ componentes principales de la matriz, donde `n = min(20, X.shape[0])`. ¿Es necesario estandarizar o escalar los datos?\n",
    "2. Seleccione las primeras $2$ columnas de la matriz transformada para agregar como nuevas características al conjunto de datos. Realizar un gráfico de la componente principal 1 vs la componente principal 2 (pca1-pca2).\n",
    "3. Transformar nuevamente el conjunto de datos procesado en un `pandas.DataFrame` y guardarlo en un archivo."
   ]
  },
  {
   "cell_type": "markdown",
   "metadata": {
    "id": "WrZTYmG_ZyDy"
   },
   "source": [
    "**Ejemplo de código para este problema**"
   ]
  },
  {
   "cell_type": "code",
   "execution_count": null,
   "metadata": {
    "colab": {
     "base_uri": "https://localhost:8080/",
     "height": 298
    },
    "executionInfo": {
     "elapsed": 161,
     "status": "ok",
     "timestamp": 1746809929666,
     "user": {
      "displayName": "José Ignacio Robledo",
      "userId": "04062008772942614858"
     },
     "user_tz": -120
    },
    "id": "DfchYPgTxvQ4",
    "outputId": "43f783ae-a89f-4608-c277-0e476ad1323c"
   },
   "outputs": [
    {
     "name": "stdout",
     "output_type": "stream",
     "text": [
      "Matrix has shape (13580, 11), with columns: ['Type=h', 'Type=t', 'Type=u', 'Regionname=Eastern Metropolitan', 'Regionname=Eastern Victoria', 'Regionname=Northern Metropolitan', 'Regionname=Northern Victoria', 'Regionname=South-Eastern Metropolitan', 'Regionname=Southern Metropolitan', 'Regionname=Western Metropolitan', 'Regionname=Western Victoria']\n",
      "Matrix has shape (13580, 11), with columns: ['Type=h', 'Type=t', 'Type=u', 'Regionname=Eastern Metropolitan', 'Regionname=Eastern Victoria', 'Regionname=Northern Metropolitan', 'Regionname=Northern Victoria', 'Regionname=South-Eastern Metropolitan', 'Regionname=Southern Metropolitan', 'Regionname=Western Metropolitan', 'Regionname=Western Victoria', 'Rooms', 'Distance']\n"
     ]
    },
    {
     "data": {
      "text/html": [
       "<div>\n",
       "<style scoped>\n",
       "    .dataframe tbody tr th:only-of-type {\n",
       "        vertical-align: middle;\n",
       "    }\n",
       "\n",
       "    .dataframe tbody tr th {\n",
       "        vertical-align: top;\n",
       "    }\n",
       "\n",
       "    .dataframe thead th {\n",
       "        text-align: right;\n",
       "    }\n",
       "</style>\n",
       "<table border=\"1\" class=\"dataframe\">\n",
       "  <thead>\n",
       "    <tr style=\"text-align: right;\">\n",
       "      <th></th>\n",
       "      <th>Type=h</th>\n",
       "      <th>Type=t</th>\n",
       "      <th>Type=u</th>\n",
       "      <th>Regionname=Eastern Metropolitan</th>\n",
       "      <th>Regionname=Eastern Victoria</th>\n",
       "      <th>Regionname=Northern Metropolitan</th>\n",
       "      <th>Regionname=Northern Victoria</th>\n",
       "      <th>Regionname=South-Eastern Metropolitan</th>\n",
       "      <th>Regionname=Southern Metropolitan</th>\n",
       "      <th>Regionname=Western Metropolitan</th>\n",
       "      <th>Regionname=Western Victoria</th>\n",
       "      <th>Rooms</th>\n",
       "      <th>Distance</th>\n",
       "      <th>pca1</th>\n",
       "      <th>pca2</th>\n",
       "    </tr>\n",
       "  </thead>\n",
       "  <tbody>\n",
       "    <tr>\n",
       "      <th>0</th>\n",
       "      <td>1.0</td>\n",
       "      <td>0.0</td>\n",
       "      <td>0.0</td>\n",
       "      <td>0.0</td>\n",
       "      <td>0.0</td>\n",
       "      <td>1.0</td>\n",
       "      <td>0.0</td>\n",
       "      <td>0.0</td>\n",
       "      <td>0.0</td>\n",
       "      <td>0.0</td>\n",
       "      <td>0.0</td>\n",
       "      <td>2.0</td>\n",
       "      <td>2.5</td>\n",
       "      <td>-7.669418</td>\n",
       "      <td>-0.292703</td>\n",
       "    </tr>\n",
       "    <tr>\n",
       "      <th>1</th>\n",
       "      <td>1.0</td>\n",
       "      <td>0.0</td>\n",
       "      <td>0.0</td>\n",
       "      <td>0.0</td>\n",
       "      <td>0.0</td>\n",
       "      <td>1.0</td>\n",
       "      <td>0.0</td>\n",
       "      <td>0.0</td>\n",
       "      <td>0.0</td>\n",
       "      <td>0.0</td>\n",
       "      <td>0.0</td>\n",
       "      <td>2.0</td>\n",
       "      <td>2.5</td>\n",
       "      <td>-7.669418</td>\n",
       "      <td>-0.292703</td>\n",
       "    </tr>\n",
       "    <tr>\n",
       "      <th>2</th>\n",
       "      <td>1.0</td>\n",
       "      <td>0.0</td>\n",
       "      <td>0.0</td>\n",
       "      <td>0.0</td>\n",
       "      <td>0.0</td>\n",
       "      <td>1.0</td>\n",
       "      <td>0.0</td>\n",
       "      <td>0.0</td>\n",
       "      <td>0.0</td>\n",
       "      <td>0.0</td>\n",
       "      <td>0.0</td>\n",
       "      <td>3.0</td>\n",
       "      <td>2.5</td>\n",
       "      <td>-7.620201</td>\n",
       "      <td>0.619633</td>\n",
       "    </tr>\n",
       "    <tr>\n",
       "      <th>3</th>\n",
       "      <td>1.0</td>\n",
       "      <td>0.0</td>\n",
       "      <td>0.0</td>\n",
       "      <td>0.0</td>\n",
       "      <td>0.0</td>\n",
       "      <td>1.0</td>\n",
       "      <td>0.0</td>\n",
       "      <td>0.0</td>\n",
       "      <td>0.0</td>\n",
       "      <td>0.0</td>\n",
       "      <td>0.0</td>\n",
       "      <td>3.0</td>\n",
       "      <td>2.5</td>\n",
       "      <td>-7.620201</td>\n",
       "      <td>0.619633</td>\n",
       "    </tr>\n",
       "    <tr>\n",
       "      <th>4</th>\n",
       "      <td>1.0</td>\n",
       "      <td>0.0</td>\n",
       "      <td>0.0</td>\n",
       "      <td>0.0</td>\n",
       "      <td>0.0</td>\n",
       "      <td>1.0</td>\n",
       "      <td>0.0</td>\n",
       "      <td>0.0</td>\n",
       "      <td>0.0</td>\n",
       "      <td>0.0</td>\n",
       "      <td>0.0</td>\n",
       "      <td>4.0</td>\n",
       "      <td>2.5</td>\n",
       "      <td>-7.570984</td>\n",
       "      <td>1.531969</td>\n",
       "    </tr>\n",
       "  </tbody>\n",
       "</table>\n",
       "</div>"
      ],
      "text/plain": [
       "   Type=h  Type=t  Type=u  Regionname=Eastern Metropolitan  \\\n",
       "0     1.0     0.0     0.0                              0.0   \n",
       "1     1.0     0.0     0.0                              0.0   \n",
       "2     1.0     0.0     0.0                              0.0   \n",
       "3     1.0     0.0     0.0                              0.0   \n",
       "4     1.0     0.0     0.0                              0.0   \n",
       "\n",
       "   Regionname=Eastern Victoria  Regionname=Northern Metropolitan  \\\n",
       "0                          0.0                               1.0   \n",
       "1                          0.0                               1.0   \n",
       "2                          0.0                               1.0   \n",
       "3                          0.0                               1.0   \n",
       "4                          0.0                               1.0   \n",
       "\n",
       "   Regionname=Northern Victoria  Regionname=South-Eastern Metropolitan  \\\n",
       "0                           0.0                                    0.0   \n",
       "1                           0.0                                    0.0   \n",
       "2                           0.0                                    0.0   \n",
       "3                           0.0                                    0.0   \n",
       "4                           0.0                                    0.0   \n",
       "\n",
       "   Regionname=Southern Metropolitan  Regionname=Western Metropolitan  \\\n",
       "0                               0.0                              0.0   \n",
       "1                               0.0                              0.0   \n",
       "2                               0.0                              0.0   \n",
       "3                               0.0                              0.0   \n",
       "4                               0.0                              0.0   \n",
       "\n",
       "   Regionname=Western Victoria  Rooms  Distance      pca1      pca2  \n",
       "0                          0.0    2.0       2.5 -7.669418 -0.292703  \n",
       "1                          0.0    2.0       2.5 -7.669418 -0.292703  \n",
       "2                          0.0    3.0       2.5 -7.620201  0.619633  \n",
       "3                          0.0    3.0       2.5 -7.620201  0.619633  \n",
       "4                          0.0    4.0       2.5 -7.570984  1.531969  "
      ]
     },
     "execution_count": 5,
     "metadata": {},
     "output_type": "execute_result"
    }
   ],
   "source": [
    "## Ejemplo pequeño, tienen que extenderlo a su DataFrame procesada\n",
    "from sklearn.decomposition import PCA\n",
    "from sklearn.preprocessing import OneHotEncoder\n",
    "\n",
    "## Supongamos solo estas variables\n",
    "categorical_cols = ['Type', 'Regionname']\n",
    "numerical_cols = ['Rooms', 'Distance']\n",
    "new_columns = []\n",
    "\n",
    "# Paso 1: codificamos las variables categóricas\n",
    "encoder = OneHotEncoder(handle_unknown='ignore', sparse_output=False)\n",
    "X_cat = encoder.fit_transform(melb_df[categorical_cols])\n",
    "for col, col_values in zip(categorical_cols, encoder.categories_):\n",
    "  for col_value in col_values:\n",
    "    new_columns.append('{}={}'.format(col, col_value))\n",
    "print(\"Matrix has shape {}, with columns: {}\".format(X_cat.shape, new_columns))\n",
    "\n",
    "# Paso 2: anexamos las variables numéricas\n",
    "X = numpy.hstack([X_cat, melb_df[numerical_cols].values])\n",
    "new_columns.extend(numerical_cols)\n",
    "print(\"Matrix has shape {}, with columns: {}\".format(X_cat.shape, new_columns))\n",
    "\n",
    "# Paso 3: usamos las dos primeras componentes principales a nuestro conjunto de datos\n",
    "pca = PCA(n_components=2)\n",
    "pca_dummy_features = pca.fit_transform(X)\n",
    "X_pca = numpy.hstack([X, pca_dummy_features])\n",
    "new_columns.extend(['pca1', 'pca2'])\n",
    "\n",
    "## Paso 4: rearmamos el datagframe (ver que al final tenemos las componentes principales)\n",
    "processed_melb_df = pandas.DataFrame(data=X_pca, columns=new_columns)\n",
    "processed_melb_df.head()\n",
    "\n",
    "## Falta la parte de guardarlo en un archivo"
   ]
  },
  {
   "cell_type": "markdown",
   "metadata": {
    "id": "mVBLFc8PhRtW"
   },
   "source": [
    "## Ejercicio 4: Documentación\n",
    "\n",
    "En un documento `.pdf` o `.md` realizar un reporte de las operaciones que realizaron para obtener el conjunto de datos final. Se debe incluir:\n",
    "  1. Criterios de exclusión (o inclusión) de filas y de imputación de datos faltantes\n",
    "  2. Interpretación de las columnas presentes\n",
    "  3. Todas las transofrmaciones realizadas\n",
    "  4. Análisis breve de lo observado mediante PCA.\n",
    "\n",
    "Este documento es de uso técnico exclusivamente, y su objetivo es permitir que otres desarrolladores puedan reproducir los mismos pasos y obtener el mismo resultado. Debe ser detallado pero consiso. Por ejemplo:\n",
    "\n",
    "```\n",
    "  ## Criterios de exclusión de ejemplos\n",
    "  1. Se eliminan ejemplos donde el año de construcción es previo a 1900\n",
    "\n",
    "  ## Características seleccionadas\n",
    "  ### Características categóricas\n",
    "  1. Type: tipo de propiedad. 3 valores posibles\n",
    "  2. ...\n",
    "  Todas las características categóricas fueron codificadas con un\n",
    "  método OneHotEncoding utilizando como máximo sus 30 valores más\n",
    "  frecuentes.\n",
    "  \n",
    "  ### Características numéricas\n",
    "  1. Rooms: Cantidad de habitaciones\n",
    "  2. Distance: Distancia al centro de la ciudad.\n",
    "  3. airbnb_mean_price: Se agrega el precio promedio diario de\n",
    "     publicaciones de la plataforma AirBnB en el mismo código\n",
    "     postal. [Link al repositorio con datos externos].\n",
    "\n",
    "  ### Transformaciones:\n",
    "  1. Todas las características numéricas fueron estandarizadas.\n",
    "  2. La columna `Suburb` fue imputada utilizando el método ...\n",
    "  3. Las columnas `YearBuilt` y ... fueron imputadas utilizando el\n",
    "     algoritmo ...\n",
    "  4. ...\n",
    "\n",
    "  ### Datos aumentados\n",
    "  1. Se agregan las 5 primeras columnas obtenidas a través del\n",
    "     método de PCA, aplicado sobre el conjunto de datos\n",
    "     totalmente procesado.\n",
    "```\n"
   ]
  }
 ],
 "metadata": {
  "colab": {
   "provenance": [
    {
     "file_id": "1uG4t4M5nlkBg_GRUkQA_3DESm42X1cPV",
     "timestamp": 1682539279616
    }
   ]
  },
  "kernelspec": {
   "display_name": "common",
   "language": "python",
   "name": "python3"
  },
  "language_info": {
   "codemirror_mode": {
    "name": "ipython",
    "version": 3
   },
   "file_extension": ".py",
   "mimetype": "text/x-python",
   "name": "python",
   "nbconvert_exporter": "python",
   "pygments_lexer": "ipython3",
   "version": "3.13.3"
  }
 },
 "nbformat": 4,
 "nbformat_minor": 0
}
